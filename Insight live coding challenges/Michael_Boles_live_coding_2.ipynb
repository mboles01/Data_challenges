{
 "cells": [
  {
   "cell_type": "markdown",
   "metadata": {},
   "source": [
    "# Live coding challenge - Feb 26, 2020"
   ]
  },
  {
   "cell_type": "markdown",
   "metadata": {},
   "source": [
    "### Michael Boles"
   ]
  },
  {
   "cell_type": "markdown",
   "metadata": {},
   "source": [
    "## SQL"
   ]
  },
  {
   "cell_type": "markdown",
   "metadata": {},
   "source": [
    "Table:  Products\n",
    "\n",
    "ProductName, Inventory\n",
    "\n",
    "Create new column named Reorder (Yes) if Inventory is below 50, No if above 50"
   ]
  },
  {
   "cell_type": "code",
   "execution_count": null,
   "metadata": {},
   "outputs": [],
   "source": [
    "# My response -- seems to work\n",
    "SELECT ProductName, \n",
    "        Inventory,\n",
    "        CASE \n",
    "            WHEN Inventory > 50 THEN 'No'\n",
    "            ELSE 'Yes'\n",
    "        END AS Reorder\n",
    "FROM Products;"
   ]
  },
  {
   "cell_type": "code",
   "execution_count": null,
   "metadata": {},
   "outputs": [],
   "source": [
    "# One more condition in CASE statement - account for possibility of NULL value in Inventory column\n",
    "SELECT ProductName, \n",
    "        Inventory,\n",
    "        CASE \n",
    "            WHEN Inventory > 50 THEN 'No'\n",
    "            WHEN Inventory <= 50 THEN 'Yes'\n",
    "            ELSE 'Yes'    # In case of NULL say \n",
    "        END AS Reorder\n",
    "FROM Products;"
   ]
  },
  {
   "cell_type": "markdown",
   "metadata": {},
   "source": [
    "From Employees, return Department, EmployeeName, and Salary \n",
    "for the employee with the highest salary in each department"
   ]
  },
  {
   "cell_type": "code",
   "execution_count": null,
   "metadata": {},
   "outputs": [],
   "source": [
    "# My response\n",
    "SELECT Department, MAX(Salary) AS MaxSalary\n",
    "FROM Employees as t1\n",
    "GROUP BY Department\n",
    "JOIN Employees AS t2\n",
    "ON t2.Salary = t1.MaxSalary\n",
    "AND t2.Department = t1.Department;"
   ]
  },
  {
   "cell_type": "code",
   "execution_count": null,
   "metadata": {},
   "outputs": [],
   "source": [
    "# Alternative with window function\n",
    "SELECT Department, \n",
    "        EmployeeName, \n",
    "        Salary, \n",
    "        RANK() OVER(PARTITION BY Department ORDER BY Salary DESC) AS SalaryRank\n",
    "FROM Employees\n",
    "WHERE SalaryRank = 1;"
   ]
  },
  {
   "cell_type": "code",
   "execution_count": null,
   "metadata": {},
   "outputs": [],
   "source": [
    "# A similar approach\n",
    "SELECT Department, \n",
    "        EmployeeName, \n",
    "        Salary, \n",
    "        MAX(Salary) OVER(PARTITION BY Department)\n",
    "FROM Employees\n",
    "WHERE Salary = MAX(Salary)"
   ]
  },
  {
   "cell_type": "code",
   "execution_count": null,
   "metadata": {},
   "outputs": [],
   "source": [
    "SELECT Department, EmployeeName, Salary\n",
    "FROM Employees\n",
    "WHERE (Department, Salary) IN\n",
    "    (SELECT Department, MAX(Salary)\n",
    "    FROM Employees\n",
    "    GROUP BY Department)"
   ]
  },
  {
   "cell_type": "markdown",
   "metadata": {},
   "source": [
    "#### Algorithms"
   ]
  },
  {
   "cell_type": "markdown",
   "metadata": {},
   "source": [
    "Given a sorted array, write an algo to determine if a given number is in that array. Assume that all numbers are integers, solution should be O(logN). Output should be Boolean"
   ]
  },
  {
   "cell_type": "code",
   "execution_count": 4,
   "metadata": {},
   "outputs": [
    {
     "data": {
      "text/plain": [
       "False"
      ]
     },
     "execution_count": 4,
     "metadata": {},
     "output_type": "execute_result"
    }
   ],
   "source": [
    "array = [1,2,4,6,7,8,9]\n",
    "\n",
    "def check_array(input_array, target):\n",
    "    array_set = set(array)\n",
    "    \n",
    "    if target in array_set:\n",
    "        result = True\n",
    "    else:\n",
    "        result = False\n",
    "    \n",
    "    return result\n",
    "\n",
    "check_array(array, 3)"
   ]
  },
  {
   "cell_type": "code",
   "execution_count": null,
   "metadata": {
    "scrolled": false
   },
   "outputs": [],
   "source": [
    "array = [1,2,4,6,7,8,9]\n",
    "\n",
    "def check_array(input_array, target):\n",
    "    \n",
    "    # Binary search instead of iterating over list!\n",
    "    \n",
    "    # find index of input array midpoint\n",
    "    split_index = len(input_array)//2\n",
    "    \n",
    "    # find value of input array midpoint\n",
    "    array_midval = input_array[split_index]\n",
    "    \n",
    "    # if array midpoint = target value, return true\n",
    "    answer = []\n",
    "    if target == array_midval:\n",
    "        answer = True\n",
    "    \n",
    "    # if array is length one and it doesn't contain target return false\n",
    "    if len(input_array) == 1:\n",
    "        answer = False\n",
    "    \n",
    "    # else check which side the target is on, return side of interest\n",
    "    elif target < array_midval:\n",
    "        new_array = input_array[:split_index]\n",
    "    else:\n",
    "        new_array = input_array[split_index:]\n",
    "    \n",
    "    # rerun this function on split array\n",
    "    check_array(new_array, target)\n",
    "    \n",
    "    if answer: \n",
    "        print(answer)\n",
    "\n",
    "check_array(array, 3)"
   ]
  },
  {
   "cell_type": "code",
   "execution_count": null,
   "metadata": {},
   "outputs": [],
   "source": [
    "def find(arr, n):\n",
    "    l = 0\n",
    "    r = len(arr) - 1\n",
    "    if arr[l] == n or arr[r] == n:\n",
    "        return True\n",
    "    if arr[l] > n or array[r] < n:\n",
    "        return False\n",
    "    curr = (l+r)//2\n",
    "    while arr[arr] != n and l < r:\n",
    "        if arr[arr] > n:\n",
    "            r = curr\n",
    "        else:\n",
    "            l = curr\n",
    "        "
   ]
  },
  {
   "cell_type": "code",
   "execution_count": null,
   "metadata": {},
   "outputs": [],
   "source": [
    "Given a DNA sequence string 'ACTGACTGACTGACTGACTG'\n",
    "1. Find the beginning of a gene ('ATG')\n",
    "2. Return amino acid sequence of a gene (three nucleotides make a codon)\n",
    "3. Three codons indicate end of gene ('TGA', 'TAA', 'TAG')\n",
    "4. Assume you have codon table stored as dictionary in memory"
   ]
  },
  {
   "cell_type": "code",
   "execution_count": null,
   "metadata": {},
   "outputs": [],
   "source": [
    "# My approach - uses regex\n",
    "\n",
    "dna_seq = 'ATGAAATGTTGAATGTGTGAATAA'\n",
    "\n",
    "codon_to_aa = {'AA1': 'AGT',\n",
    "               'AA2': 'AAG'}\n",
    "\n",
    "start_codon = 'ATG'\n",
    "stop_codon_1 = 'TGA'\n",
    "stop_codon_2 = 'TAA'\n",
    "stop_codon_3 = 'TAG'\n",
    "\n",
    "# return indices of start codons\n",
    "import re\n",
    "start = re.compile(r'start_codon', dna_seq)\n",
    "\n",
    "# return indices of stop codons\n",
    "stop = re.compile(r'(stop_codon_1|stop_codon_2|stop_codon_3)', dna_seq)\n",
    "\n",
    "# construct nucleotide sequence for each gene\n",
    "genes_aa = []\n",
    "for i in start: \n",
    "    gene = dna_seq[start:stop]\n",
    "    genes_aa.append(gene)\n",
    "\n",
    "# translate nucleotide sequence to amino acids \n"
   ]
  },
  {
   "cell_type": "code",
   "execution_count": null,
   "metadata": {},
   "outputs": [],
   "source": [
    "# Better approach - uses CS fundamentals\n",
    "\n",
    "seq = 'ATGAAATGTTGAATGTGTGAATAA'\n",
    "codons = {'ATG': 'start',\n",
    "          'TGA': 'stop',\n",
    "          'TAA': 'stop',\n",
    "          'TAA': 'stop',\n",
    "          'TAT': 'L'      # amino acid list\n",
    "}\n",
    "\n",
    "amino_seq = []\n",
    "for i in range(0, len(sequence)-3):\n",
    "    \n",
    "    # search for start codon\n",
    "    if sequence[i:i+3] == 'ATG'\n",
    "        i+=3\n",
    "    \n",
    "    while codons[sequence[i:i+3]] != 'TGA' or 'TAA' or 'TAG':\n",
    "    \n",
    "    # translate the codon into amino acids\n",
    "            amino_seq.append(codons[sequence[i:i+3]])\n",
    "\n",
    "return amino_seq.flatten   # returns single string of amino acids\n",
    "\n",
    "\n",
    "1"
   ]
  }
 ],
 "metadata": {
  "kernelspec": {
   "display_name": "Python 3",
   "language": "python",
   "name": "python3"
  },
  "language_info": {
   "codemirror_mode": {
    "name": "ipython",
    "version": 3
   },
   "file_extension": ".py",
   "mimetype": "text/x-python",
   "name": "python",
   "nbconvert_exporter": "python",
   "pygments_lexer": "ipython3",
   "version": "3.7.3"
  }
 },
 "nbformat": 4,
 "nbformat_minor": 4
}
