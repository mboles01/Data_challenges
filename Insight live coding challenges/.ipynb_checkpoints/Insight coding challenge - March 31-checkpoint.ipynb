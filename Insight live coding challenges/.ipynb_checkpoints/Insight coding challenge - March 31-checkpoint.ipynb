{
 "cells": [
  {
   "cell_type": "markdown",
   "metadata": {},
   "source": [
    "### Insight coding challenge - March 31"
   ]
  },
  {
   "cell_type": "markdown",
   "metadata": {},
   "source": [
    "**Given two binary strings, return their sum (also a binary string)** <br>\n",
    "The input strings are both non-empty and contain only characters 1 or 0.\n",
    "\n",
    "Example 1:\n",
    "Input: a = \"11\", b = \"1\" Output: \"100\"\n",
    "\n",
    "Binary refresher:\n",
    "11 = 2^0 + 2^1 = 1 + 2 = 3\n",
    "1 = 2^0 = 1\n",
    "3 + 1 = 4 "
   ]
  },
  {
   "cell_type": "code",
   "execution_count": 70,
   "metadata": {},
   "outputs": [],
   "source": [
    "# solution - make two binary strings the same length, then add them up\n",
    "\n",
    "def binary_sum(a,b):\n",
    "    \n",
    "    # check and store length of input strings a and b\n",
    "    a_len = len(a)\n",
    "    b_len = len(b)\n",
    "    \n",
    "    # make two inputs same length by adding zeros to the shorter one\n",
    "    while len(a) < len(b):\n",
    "        a = '0' + a\n",
    "    while len(b) < len(a):\n",
    "        b = '0' + b\n",
    "\n",
    "    # reverse strings\n",
    "    a_rev = a[::-1]\n",
    "    b_rev = b[::-1]\n",
    "        \n",
    "    # add up digits in reverse, carrying remainder over\n",
    "    remainder = 0\n",
    "    output = ''\n",
    "    \n",
    "    # loop over list of integers of length of input string\n",
    "    for i in range(len(a)):\n",
    "        digit_sum = int(a_rev[i]) + int(b_rev[i]) + remainder\n",
    "#         print(digit_sum)\n",
    "        \n",
    "        # create output string, adding remainder to next digit\n",
    "        if digit_sum == 0 | digit_sum == 1:\n",
    "            remainder = 0\n",
    "            output += str(digit_sum)\n",
    "        \n",
    "        else:\n",
    "            remainder = digit_sum // 2\n",
    "            output += str(digit_sum % 2)\n",
    "            \n",
    "#         print(remainder)\n",
    "#         print('***')\n",
    "        \n",
    "    if remainder > 0:\n",
    "        output += str(remainder)\n",
    "\n",
    "    return output[::-1]"
   ]
  },
  {
   "cell_type": "code",
   "execution_count": 69,
   "metadata": {},
   "outputs": [
    {
     "data": {
      "text/plain": [
       "'10101'"
      ]
     },
     "execution_count": 69,
     "metadata": {},
     "output_type": "execute_result"
    }
   ],
   "source": [
    "a = '1010'\n",
    "b = '1011'\n",
    "\n",
    "binary_sum(a,b)\n",
    "# enumerate(a)"
   ]
  },
  {
   "cell_type": "markdown",
   "metadata": {},
   "source": [
    "**Given a string with the following format, return a dictionary** <br>\n",
    "The original string : \"[Nikhil:1, Akshat:2, Akash:3]\" <br> \n",
    "The dictionary after extraction is : {'Nikhil': '1', 'Akash': '3', 'Akshat': '2'}\n"
   ]
  },
  {
   "cell_type": "code",
   "execution_count": 85,
   "metadata": {},
   "outputs": [],
   "source": [
    "# one solution: remove brackets, split on commas, split on colons, input key/values\n",
    "\n",
    "def return_dict(input_string):\n",
    "    \n",
    "    # remove square brackets\n",
    "    split_string = list(input_string)[1:-1]\n",
    "    string_no_brackets = ''.join(split_string)\n",
    "\n",
    "    # split item pairs on commas\n",
    "    keys_values = string_no_brackets.split(', ')\n",
    "\n",
    "    # loop over items split by commas, send part before colon to key, part after as value \n",
    "    output = {}\n",
    "    for item in keys_values:\n",
    "        key = item.split(':')[0]\n",
    "        value = item.split(':')[1]\n",
    "\n",
    "        # create key-value pairs in output dictionary\n",
    "        output[key] = value\n",
    "\n",
    "    return output"
   ]
  },
  {
   "cell_type": "code",
   "execution_count": 86,
   "metadata": {},
   "outputs": [
    {
     "data": {
      "text/plain": [
       "{'Nikhil': '1', 'Akshat': '2', 'Akash': '3'}"
      ]
     },
     "execution_count": 86,
     "metadata": {},
     "output_type": "execute_result"
    }
   ],
   "source": [
    "input_string = '[Nikhil:1, Akshat:2, Akash:3]'\n",
    "return_dict(input_string)"
   ]
  },
  {
   "cell_type": "code",
   "execution_count": 102,
   "metadata": {},
   "outputs": [],
   "source": [
    "# alternative solution: one line with list comprehension\n",
    "\n",
    "def return_dict_lc(input_string):\n",
    "    \n",
    "    return { item.split(':')[0]: item.split(':')[1] for item in input_string[1:-1].split(',') }"
   ]
  },
  {
   "cell_type": "code",
   "execution_count": 103,
   "metadata": {},
   "outputs": [
    {
     "data": {
      "text/plain": [
       "{'Nikhil': '1', ' Akshat': '2', ' Akash': '3'}"
      ]
     },
     "execution_count": 103,
     "metadata": {},
     "output_type": "execute_result"
    }
   ],
   "source": [
    "return_dict_lc(input_string)"
   ]
  },
  {
   "cell_type": "markdown",
   "metadata": {},
   "source": [
    "**Write an algorithm to determine if a number is \"happy\".** <br>\n",
    "A happy number is a number defined by the following process: <br>\n",
    "Starting with any positive integer, replace the number by the sum of the squares of its digits, and repeat the process until the number equals 1 (where it will stay), or it loops endlessly in a cycle which does not include 1. <br>\n",
    "Those numbers for which this process ends in 1 are happy numbers.<br>\n",
    "\n",
    "Example: <br>\n",
    "Input: 19 <br>\n",
    "Output: True <br>\n",
    "Explanation:  <br>\n",
    "1^2 + 9^2 = 82 <br>\n",
    "8^2 + 2^2 = 68 <br>\n",
    "6^2 + 8^2 = 100 <br>\n",
    "1^2 + 0^2 + 0^2 = 1 <br>"
   ]
  },
  {
   "cell_type": "code",
   "execution_count": 122,
   "metadata": {},
   "outputs": [],
   "source": [
    "def happy_number(input_number):\n",
    "    \n",
    "    # define base case\n",
    "    if happy_number(input_number) == 1:\n",
    "        print('True')\n",
    "    \n",
    "    # otherwise run this\n",
    "    \n",
    "    # get the digits from the number\n",
    "    else:\n",
    "        digits = []\n",
    "        for i in range(len(str(input_number))):\n",
    "            digit = int(str(input_number)[i])\n",
    "            digits.append(digit)\n",
    "        print(digits)\n",
    "    \n",
    "    # get the squares of the digits\n",
    "    squares = [item**2 for item in digits]\n",
    "    print(squares)\n",
    "    \n",
    "    # sum the squares\n",
    "    sum_of_squares = sum(squares)\n",
    "    print(sum_of_squares)\n",
    "    \n",
    "    return happy_number(sum_of_squares) "
   ]
  },
  {
   "cell_type": "code",
   "execution_count": 123,
   "metadata": {},
   "outputs": [
    {
     "ename": "RecursionError",
     "evalue": "maximum recursion depth exceeded",
     "output_type": "error",
     "traceback": [
      "\u001b[0;31m---------------------------------------------------------------------------\u001b[0m",
      "\u001b[0;31mRecursionError\u001b[0m                            Traceback (most recent call last)",
      "\u001b[0;32m<ipython-input-123-3c6f8dba27f7>\u001b[0m in \u001b[0;36m<module>\u001b[0;34m\u001b[0m\n\u001b[0;32m----> 1\u001b[0;31m \u001b[0mhappy_number\u001b[0m\u001b[0;34m(\u001b[0m\u001b[0;36m19\u001b[0m\u001b[0;34m)\u001b[0m\u001b[0;34m\u001b[0m\u001b[0;34m\u001b[0m\u001b[0m\n\u001b[0m",
      "\u001b[0;32m<ipython-input-122-8cc4cab53c4d>\u001b[0m in \u001b[0;36mhappy_number\u001b[0;34m(input_number)\u001b[0m\n\u001b[1;32m      2\u001b[0m \u001b[0;34m\u001b[0m\u001b[0m\n\u001b[1;32m      3\u001b[0m     \u001b[0;31m# define base case\u001b[0m\u001b[0;34m\u001b[0m\u001b[0;34m\u001b[0m\u001b[0;34m\u001b[0m\u001b[0m\n\u001b[0;32m----> 4\u001b[0;31m     \u001b[0;32mif\u001b[0m \u001b[0mhappy_number\u001b[0m\u001b[0;34m(\u001b[0m\u001b[0minput_number\u001b[0m\u001b[0;34m)\u001b[0m \u001b[0;34m==\u001b[0m \u001b[0;36m1\u001b[0m\u001b[0;34m:\u001b[0m\u001b[0;34m\u001b[0m\u001b[0;34m\u001b[0m\u001b[0m\n\u001b[0m\u001b[1;32m      5\u001b[0m         \u001b[0mprint\u001b[0m\u001b[0;34m(\u001b[0m\u001b[0;34m'True'\u001b[0m\u001b[0;34m)\u001b[0m\u001b[0;34m\u001b[0m\u001b[0;34m\u001b[0m\u001b[0m\n\u001b[1;32m      6\u001b[0m \u001b[0;34m\u001b[0m\u001b[0m\n",
      "... last 1 frames repeated, from the frame below ...\n",
      "\u001b[0;32m<ipython-input-122-8cc4cab53c4d>\u001b[0m in \u001b[0;36mhappy_number\u001b[0;34m(input_number)\u001b[0m\n\u001b[1;32m      2\u001b[0m \u001b[0;34m\u001b[0m\u001b[0m\n\u001b[1;32m      3\u001b[0m     \u001b[0;31m# define base case\u001b[0m\u001b[0;34m\u001b[0m\u001b[0;34m\u001b[0m\u001b[0;34m\u001b[0m\u001b[0m\n\u001b[0;32m----> 4\u001b[0;31m     \u001b[0;32mif\u001b[0m \u001b[0mhappy_number\u001b[0m\u001b[0;34m(\u001b[0m\u001b[0minput_number\u001b[0m\u001b[0;34m)\u001b[0m \u001b[0;34m==\u001b[0m \u001b[0;36m1\u001b[0m\u001b[0;34m:\u001b[0m\u001b[0;34m\u001b[0m\u001b[0;34m\u001b[0m\u001b[0m\n\u001b[0m\u001b[1;32m      5\u001b[0m         \u001b[0mprint\u001b[0m\u001b[0;34m(\u001b[0m\u001b[0;34m'True'\u001b[0m\u001b[0;34m)\u001b[0m\u001b[0;34m\u001b[0m\u001b[0;34m\u001b[0m\u001b[0m\n\u001b[1;32m      6\u001b[0m \u001b[0;34m\u001b[0m\u001b[0m\n",
      "\u001b[0;31mRecursionError\u001b[0m: maximum recursion depth exceeded"
     ]
    }
   ],
   "source": [
    "happy_number(19)"
   ]
  },
  {
   "cell_type": "code",
   "execution_count": 119,
   "metadata": {},
   "outputs": [
    {
     "name": "stdout",
     "output_type": "stream",
     "text": [
      "[1, 9]\n",
      "[1, 81]\n",
      "82\n"
     ]
    }
   ],
   "source": [
    "input_number = 19\n",
    "\n",
    "digits = []\n",
    "for i in range(len(str(input_number))):\n",
    "    digit = int(str(input_number)[i])\n",
    "    digits.append(digit)\n",
    "print(digits)\n",
    "squares = [item**2 for item in digits]\n",
    "print(squares)\n",
    "sum_of_squares = sum(squares)\n",
    "print(sum_of_squares)"
   ]
  },
  {
   "cell_type": "code",
   "execution_count": null,
   "metadata": {},
   "outputs": [],
   "source": []
  }
 ],
 "metadata": {
  "kernelspec": {
   "display_name": "Python 3",
   "language": "python",
   "name": "python3"
  },
  "language_info": {
   "codemirror_mode": {
    "name": "ipython",
    "version": 3
   },
   "file_extension": ".py",
   "mimetype": "text/x-python",
   "name": "python",
   "nbconvert_exporter": "python",
   "pygments_lexer": "ipython3",
   "version": "3.7.3"
  },
  "toc": {
   "base_numbering": 1,
   "nav_menu": {},
   "number_sections": false,
   "sideBar": true,
   "skip_h1_title": false,
   "title_cell": "Table of Contents",
   "title_sidebar": "Contents",
   "toc_cell": false,
   "toc_position": {},
   "toc_section_display": true,
   "toc_window_display": true
  }
 },
 "nbformat": 4,
 "nbformat_minor": 4
}
