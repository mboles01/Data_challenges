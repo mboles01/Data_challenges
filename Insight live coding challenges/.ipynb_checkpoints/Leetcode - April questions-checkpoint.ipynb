{
 "cells": [
  {
   "cell_type": "markdown",
   "metadata": {},
   "source": [
    "# Leetcode practice coding questions - April "
   ]
  },
  {
   "cell_type": "markdown",
   "metadata": {},
   "source": [
    "## April 1: Find one\n",
    "\n",
    "Given a non-empty array of integers, every element appears twice except for one. Find that single one.\n",
    "\n",
    "Note:\n",
    "\n",
    "Your algorithm should have a linear runtime complexity. Could you implement it without using extra memory?\n",
    "\n",
    "Example 1:\n",
    "\n",
    "Input: [2,2,1]\n",
    "Output: 1\n",
    "Example 2:\n",
    "\n",
    "Input: [4,1,2,1,2]\n",
    "Output: 4"
   ]
  },
  {
   "cell_type": "code",
   "execution_count": 34,
   "metadata": {},
   "outputs": [],
   "source": [
    "def find_one(input_list):\n",
    "    my_list = []\n",
    "    for item in input_list:\n",
    "\n",
    "        # add number if it's not already present\n",
    "        if item not in my_list:\n",
    "            my_list.append(item)\n",
    "\n",
    "        # remove it if it is present\n",
    "        else:\n",
    "            my_list.remove(item) \n",
    "\n",
    "    # you're left with the one that doesn't appear twice\n",
    "    return my_list[0]"
   ]
  },
  {
   "cell_type": "code",
   "execution_count": 35,
   "metadata": {},
   "outputs": [
    {
     "data": {
      "text/plain": [
       "4"
      ]
     },
     "execution_count": 35,
     "metadata": {},
     "output_type": "execute_result"
    }
   ],
   "source": [
    "input_list = [4,1,2,1,2]\n",
    "find_one(input_list)"
   ]
  },
  {
   "cell_type": "markdown",
   "metadata": {},
   "source": [
    "## April 2: Happy number\n",
    "\n",
    "Write an algorithm to determine if a number is \"happy\".\n",
    "\n",
    "A happy number is a number defined by the following process: Starting with any positive integer, replace the number by the sum of the squares of its digits, and repeat the process until the number equals 1 (where it will stay), or it loops endlessly in a cycle which does not include 1. Those numbers for which this process ends in 1 are happy numbers.\n",
    "\n",
    "Example: \n",
    "\n",
    "Input: 19\n",
    "Output: true\n",
    "Explanation: \n",
    "1^2 + 9^2 = 82\n",
    "8^2 + 2^2 = 68\n",
    "6^2 + 8^2 = 100\n",
    "1^2 + 0^2 + 0^2 = 1"
   ]
  },
  {
   "cell_type": "code",
   "execution_count": 76,
   "metadata": {},
   "outputs": [],
   "source": [
    "# my solution\n",
    "\n",
    "def happy_number(input_number):\n",
    "    \n",
    "    # check base case - input is one\n",
    "    if input_number == 1:\n",
    "        return 'True'\n",
    "    \n",
    "    # otherwise do this\n",
    "    else:    \n",
    "        squares = []\n",
    "        \n",
    "        # convert integer to string, split into single digits\n",
    "        num_list = list(str(input_number))\n",
    "        \n",
    "        # square each of the digits\n",
    "        for item in num_list:\n",
    "            squares.append(int(item)**2)\n",
    "        print(squares)\n",
    "        \n",
    "        # sum the squares of the digits\n",
    "        output = sum(squares)\n",
    "        print(output)\n",
    "        print('***')\n",
    "        \n",
    "        # if sum of squares is one, return true\n",
    "        if output == 1:\n",
    "            return 'True'\n",
    "        \n",
    "        # otherwise run this on the output\n",
    "        else:\n",
    "            return happy_number(output)"
   ]
  },
  {
   "cell_type": "code",
   "execution_count": 78,
   "metadata": {},
   "outputs": [
    {
     "name": "stdout",
     "output_type": "stream",
     "text": [
      "[1, 81]\n",
      "82\n",
      "***\n",
      "[64, 4]\n",
      "68\n",
      "***\n",
      "[36, 64]\n",
      "100\n",
      "***\n",
      "[1, 0, 0]\n",
      "1\n",
      "***\n"
     ]
    },
    {
     "data": {
      "text/plain": [
       "'True'"
      ]
     },
     "execution_count": 78,
     "metadata": {},
     "output_type": "execute_result"
    }
   ],
   "source": [
    "input_number = 19\n",
    "happy_number(input_number)"
   ]
  },
  {
   "cell_type": "code",
   "execution_count": 82,
   "metadata": {},
   "outputs": [],
   "source": [
    "# better solution - use a set\n",
    "\n",
    "def isHappy(n):\n",
    "    \n",
    "    # create empty set\n",
    "    mem = set()\n",
    "    \n",
    "    # loop for as long as n is not 1\n",
    "    while n != 1:\n",
    "        \n",
    "        # re-assign n as sum of squares of its digits\n",
    "        n = sum([int(i) ** 2 for i in str(n)])\n",
    "        \n",
    "        # if n is already in the set, assume you'll be looping infitely and exit\n",
    "        if n in mem:\n",
    "            return False\n",
    "        \n",
    "        # add it to the set if it's not in there\n",
    "        else:\n",
    "            mem.add(n)\n",
    "    else:\n",
    "        return True"
   ]
  },
  {
   "cell_type": "code",
   "execution_count": 84,
   "metadata": {},
   "outputs": [
    {
     "data": {
      "text/plain": [
       "True"
      ]
     },
     "execution_count": 84,
     "metadata": {},
     "output_type": "execute_result"
    }
   ],
   "source": [
    "isHappy(19)"
   ]
  },
  {
   "cell_type": "markdown",
   "metadata": {},
   "source": [
    "## April 3: Largest sum\n",
    "\n",
    "Given an integer array nums, find the contiguous subarray (containing at least one number) which has the largest sum and return its sum.\n",
    "\n",
    "Example:\n",
    "\n",
    "Input: [-2,1,-3,4,-1,2,1,-5,4],\n",
    "Output: 6\n",
    "Explanation: [4,-1,2,1] has the largest sum = 6.\n",
    "Follow up:\n",
    "\n",
    "If you have figured out the O(n) solution, try coding another solution using the divide and conquer approach, which is more subtle."
   ]
  },
  {
   "cell_type": "code",
   "execution_count": 212,
   "metadata": {},
   "outputs": [],
   "source": [
    "# nested for loops - O(n2) time\n",
    "\n",
    "def largest_sum(input_array):\n",
    "    \n",
    "    # loop over each item in the array\n",
    "    max_sums = []\n",
    "    for counter_i, i in enumerate(input_array):\n",
    "\n",
    "        # loop over items to the right of it\n",
    "        running_sum = []\n",
    "        for counter_j, j in enumerate(input_array):\n",
    "            if counter_j >= counter_i:\n",
    "\n",
    "                # sum the items and store the result\n",
    "                temp_sum = sum(input_array[counter_i:counter_j+1])\n",
    "                running_sum.append([counter_i, counter_j, temp_sum])\n",
    "\n",
    "        # find the max sum for given starting point (index i), store it\n",
    "        max_sum = max([item[2] for item in running_sum])\n",
    "        max_sum_indices = [item[:2] for item in running_sum if item[2]==max_sum]\n",
    "        max_sums.append([max_sum_indices[0][0], max_sum_indices[0][1], max_sum])\n",
    "\n",
    "    # find the overall max sum and the indices\n",
    "    max_sum_overall = max([item[2] for item in max_sums])\n",
    "    max_sum_overall_indices = [item[:2] for item in max_sums if item[2]==max_sum_overall]\n",
    "    \n",
    "    return max_sum_overall"
   ]
  },
  {
   "cell_type": "code",
   "execution_count": 213,
   "metadata": {},
   "outputs": [
    {
     "data": {
      "text/plain": [
       "6"
      ]
     },
     "execution_count": 213,
     "metadata": {},
     "output_type": "execute_result"
    }
   ],
   "source": [
    "input_array = [-2,1,-3,4,-1,2,1,-5,4]\n",
    "\n",
    "largest_sum(input_array)"
   ]
  },
  {
   "cell_type": "code",
   "execution_count": 218,
   "metadata": {},
   "outputs": [],
   "source": [
    "# alternative solution\n",
    "\n",
    "def maxSubArraySum(input_array): \n",
    "    \n",
    "    # initialize total and max sum objects, starting with first item in list\n",
    "    total_sum = input_array[0]\n",
    "    max_sum = input_array[0]\n",
    "    \n",
    "    # loop over all other items in list, calculating max\n",
    "    for i in input_array[1:]:\n",
    "        \n",
    "        # find the max of some things that I don't understand\n",
    "        total_sum = max(i, total_sum+i)\n",
    "        max_sum = max(total_sum, max_sum)\n",
    "    \n",
    "    return max_sum"
   ]
  },
  {
   "cell_type": "code",
   "execution_count": 219,
   "metadata": {},
   "outputs": [
    {
     "data": {
      "text/plain": [
       "6"
      ]
     },
     "execution_count": 219,
     "metadata": {},
     "output_type": "execute_result"
    }
   ],
   "source": [
    "maxSubArraySum(input_array)"
   ]
  },
  {
   "cell_type": "markdown",
   "metadata": {},
   "source": [
    "## April 4: Move zeros\n",
    "\n",
    "Given an array nums, write a function to move all 0's to the end of it while maintaining the relative order of the non-zero elements.\n",
    "\n",
    "Example:\n",
    "\n",
    "Input: [0,1,0,3,12]\n",
    "Output: [1,3,12,0,0]\n",
    "Note:\n",
    "\n",
    "You must do this in-place without making a copy of the array.\n",
    "Minimize the total number of operations."
   ]
  },
  {
   "cell_type": "code",
   "execution_count": 261,
   "metadata": {},
   "outputs": [],
   "source": [
    "# solution by creating new array\n",
    "def move_zeros(input_array):\n",
    "    new_array = []\n",
    "    zeros = 0\n",
    "    for item in input_array:\n",
    "        if item == 0:\n",
    "            zeros += 1\n",
    "        else:\n",
    "            new_array.append(item)\n",
    "    new_array = new_array + [0]*zeros\n",
    "    return new_array"
   ]
  },
  {
   "cell_type": "code",
   "execution_count": 262,
   "metadata": {},
   "outputs": [
    {
     "data": {
      "text/plain": [
       "[1, 3, 12, 0, 0]"
      ]
     },
     "execution_count": 262,
     "metadata": {},
     "output_type": "execute_result"
    }
   ],
   "source": [
    "input_array = [0,1,0,3,12]\n",
    "move_zeros(input_array)"
   ]
  },
  {
   "cell_type": "code",
   "execution_count": 264,
   "metadata": {},
   "outputs": [],
   "source": [
    "# solution by overwriting entries in input array\n",
    "def move_zeros(input_array):\n",
    "    # loop over input array\n",
    "    zeros = 0\n",
    "    for counter, item in enumerate(input_array):\n",
    "\n",
    "        # if item is a zero, add one to record of the number of zeros\n",
    "        if item == 0:\n",
    "            zeros += 1\n",
    "\n",
    "        # otherwise, move the non-zero element forward by the number of zeros so far\n",
    "        else:\n",
    "            input_array[counter - zeros] = item\n",
    "\n",
    "    # finally, recast the last n elements as zero, where n is number of zeros found, checking edge case of no zeros first\n",
    "    if zeros != 0:\n",
    "        input_array[-zeros:] = [0]*zeros\n",
    "        return input_array"
   ]
  },
  {
   "cell_type": "code",
   "execution_count": 265,
   "metadata": {},
   "outputs": [
    {
     "data": {
      "text/plain": [
       "[1, 3, 12, 0, 0]"
      ]
     },
     "execution_count": 265,
     "metadata": {},
     "output_type": "execute_result"
    }
   ],
   "source": [
    "input_array = [0,1,0,3,12]\n",
    "move_zeros(input_array)"
   ]
  },
  {
   "cell_type": "markdown",
   "metadata": {},
   "source": [
    "## April 5: Stock buying\n",
    "\n",
    "Say you have an array for which the ith element is the price of a given stock on day i.\n",
    "\n",
    "Design an algorithm to find the maximum profit. You may complete as many transactions as you like (i.e., buy one and sell one share of the stock multiple times).\n",
    "\n",
    "Note: You may not engage in multiple transactions at the same time (i.e., you must sell the stock before you buy again).\n",
    "\n",
    "Example 1:\n",
    "\n",
    "Input: [7,1,5,3,6,4]\n",
    "Output: 7\n",
    "Explanation: Buy on day 2 (price = 1) and sell on day 3 (price = 5), profit = 5-1 = 4.\n",
    "             Then buy on day 4 (price = 3) and sell on day 5 (price = 6), profit = 6-3 = 3.\n",
    "Example 2:\n",
    "\n",
    "Input: [1,2,3,4,5]\n",
    "Output: 4\n",
    "Explanation: Buy on day 1 (price = 1) and sell on day 5 (price = 5), profit = 5-1 = 4.\n",
    "             Note that you cannot buy on day 1, buy on day 2 and sell them later, as you are\n",
    "             engaging multiple transactions at the same time. You must sell before buying again.\n",
    "Example 3:\n",
    "\n",
    "Input: [7,6,4,3,1]\n",
    "Output: 0\n",
    "Explanation: In this case, no transaction is done, i.e. max profit = 0."
   ]
  },
  {
   "cell_type": "code",
   "execution_count": 323,
   "metadata": {},
   "outputs": [],
   "source": [
    "# simplest approach - buy one day and sell the next, provided price has gone up\n",
    "\n",
    "def max_profit(prices):\n",
    "\n",
    "    # loop over prices array\n",
    "    profit = 0\n",
    "    for counter, item in enumerate(prices):\n",
    "\n",
    "        # if current element is not the last entry in the array, and the next element is greater than current element\n",
    "        if counter < len(prices)-1 and item < prices[counter+1]:\n",
    "\n",
    "            # add the price difference to profit\n",
    "            profit += prices[counter+1] - prices[counter]\n",
    "\n",
    "    return profit"
   ]
  },
  {
   "cell_type": "code",
   "execution_count": 330,
   "metadata": {},
   "outputs": [
    {
     "name": "stdout",
     "output_type": "stream",
     "text": [
      "[7, 1, 5, 3, 6, 4, 3, 5]\n"
     ]
    },
    {
     "data": {
      "text/plain": [
       "9"
      ]
     },
     "execution_count": 330,
     "metadata": {},
     "output_type": "execute_result"
    }
   ],
   "source": [
    "prices = [7,1,5,3,6,4,3,5]\n",
    "# import numpy.random as npr\n",
    "# prices = npr.randint(0,100,100)\n",
    "print(prices)\n",
    "max_profit(prices)"
   ]
  },
  {
   "cell_type": "code",
   "execution_count": 333,
   "metadata": {},
   "outputs": [],
   "source": [
    "# my first attempt - too complicated\n",
    "prices = [7,1,5,3,6,4,3,5]\n",
    "\n",
    "# create list of all profitable buy-sell pairs\n",
    "trades = []\n",
    "for counter_i, item_i in enumerate(prices):\n",
    "    for counter_j, item_j in enumerate(prices):\n",
    "        \n",
    "        # build list of price pairs with sell date after buy date, sell price higher than buy price\n",
    "        if counter_j > counter_i and item_j > item_i:\n",
    "            trades.append([counter_i, counter_j, item_i, item_j, item_j-item_i])\n",
    "\n",
    "# print(trades)\n",
    "            \n",
    "# create list of sequences of buy-sell pairs\n",
    "trade_sequence = []\n",
    "profits = []\n",
    "for trade_i in trades:\n",
    "    for trade_j in trades:\n",
    "        \n",
    "        # build list of trade sequences where sell date of first trade comes before buy date of second\n",
    "        if trade_i[1] < trade_j[0]:\n",
    "            trade_sequence.append([trade_i, trade_j, trade_i[4]+trade_j[4]])\n",
    "            profits.append(trade_i[4]+trade_j[4])\n",
    "\n",
    "# print('***')\n",
    "# print(trade_sequence)\n",
    "# print(len(trade_sequence))\n",
    "# print('***')            \n",
    "    \n",
    "# for item in range(len(trade_sequence)):\n",
    "#     if trade_sequence[item][2] == max(profits):\n",
    "        \n",
    "        # return trades for max profit: [buy date, sell date, buy price, sell price, profit]\n",
    "#         print(trade_sequence[item])   \n",
    "        \n",
    "        # return max profit\n",
    "#         print(trade_sequence[item][2])"
   ]
  },
  {
   "cell_type": "markdown",
   "metadata": {},
   "source": [
    "## April 6: Group Anagrams\n",
    "Given an array of strings, group anagrams together.\n",
    "\n",
    "Example:\n",
    "\n",
    "Input: [\"eat\", \"tea\", \"tan\", \"ate\", \"nat\", \"bat\"],\n",
    "Output:\n",
    "[\n",
    "  [\"ate\",\"eat\",\"tea\"],\n",
    "  [\"nat\",\"tan\"],\n",
    "  [\"bat\"]\n",
    "]\n",
    "Note:\n",
    "\n",
    "All inputs will be in lowercase.\n",
    "The order of your output does not matter."
   ]
  },
  {
   "cell_type": "code",
   "execution_count": 334,
   "metadata": {},
   "outputs": [
    {
     "data": {
      "text/plain": [
       "{1, 2, 3}"
      ]
     },
     "execution_count": 334,
     "metadata": {},
     "output_type": "execute_result"
    }
   ],
   "source": [
    "a = [1,2,3,2,1]\n",
    "set(a)"
   ]
  },
  {
   "cell_type": "code",
   "execution_count": 405,
   "metadata": {},
   "outputs": [],
   "source": [
    "# my solution - works but times out\n",
    "\n",
    "def group_anagrams(input_array):\n",
    "    \n",
    "    # create some empty arrays\n",
    "    group = []\n",
    "    supergroup = []\n",
    "    supergroup_items = []\n",
    "    \n",
    "    # loop over items in input array\n",
    "    for counter_1, item_1 in enumerate(input_array):\n",
    "\n",
    "        # if item is not already assigned to an anagram group, add it to its own group\n",
    "        if item_1 not in supergroup_items:\n",
    "            group = [item_1]\n",
    "\n",
    "#             # loop over following elements in list, appending anagrams - set() fails edge case ('boo', 'bob')!\n",
    "#             for counter_2, item_2 in enumerate(input_array):\n",
    "#                 if counter_2 > counter_1 and set(list(item_2)) == set(list(item_1)):\n",
    "#                     group.append(item_2)\n",
    "                    \n",
    "            # loop over following elements in list, appending anagrams\n",
    "            for counter_2, item_2 in enumerate(input_array):\n",
    "                if counter_2 > counter_1 and sorted(list(item_2)) == sorted(list(item_1)):\n",
    "                    group.append(item_2)\n",
    "\n",
    "            # append grouped anagrams to list of groups\n",
    "            supergroup.append(group)\n",
    "\n",
    "            # get all the items currently assigned to a group\n",
    "            supergroup_items = [item for sublist in supergroup for item in sublist]\n",
    "    \n",
    "    return supergroup"
   ]
  },
  {
   "cell_type": "code",
   "execution_count": 406,
   "metadata": {},
   "outputs": [
    {
     "data": {
      "text/plain": [
       "[['eat', 'tea', 'ate'], ['tan', 'nat'], ['bat'], ['boo'], ['bob']]"
      ]
     },
     "execution_count": 406,
     "metadata": {},
     "output_type": "execute_result"
    }
   ],
   "source": [
    "input_array = [\"eat\", \"tea\", \"tan\", \"ate\", \"nat\", \"bat\", \"boo\", \"bob\"]\n",
    "group_anagrams(input_array)"
   ]
  },
  {
   "cell_type": "code",
   "execution_count": 420,
   "metadata": {},
   "outputs": [],
   "source": [
    "# suggested solution - build growing dictionary \n",
    "\n",
    "def groupAnagrams(input_array):\n",
    "    d = {}\n",
    "    \n",
    "    # iterate over words in alphabetized input array\n",
    "    for w in sorted(input_array):\n",
    "        \n",
    "        # create object called 'key' from alphabetized letters in word\n",
    "        key = tuple(sorted(w))\n",
    "        \n",
    "        # if dict already contains this key, add word under consideration to existing dict value\n",
    "        d[key] = d.get(key, []) + [w]\n",
    "    return d.values()"
   ]
  },
  {
   "cell_type": "code",
   "execution_count": 421,
   "metadata": {},
   "outputs": [
    {
     "data": {
      "text/plain": [
       "dict_values([['ate', 'eat', 'tea'], ['bat'], ['bob'], ['boo'], ['nat', 'tan']])"
      ]
     },
     "execution_count": 421,
     "metadata": {},
     "output_type": "execute_result"
    }
   ],
   "source": [
    "groupAnagrams(input_array)"
   ]
  },
  {
   "cell_type": "markdown",
   "metadata": {},
   "source": [
    "## April 7: Counting Elements\n",
    "Given an integer array arr, count element x such that x + 1 is also in arr.\n",
    "\n",
    "If there're duplicates in arr, count them separately.\n",
    "\n",
    "Example 1:\n",
    "\n",
    "Input: arr = [1,2,3]\n",
    "Output: 2\n",
    "Explanation: 1 and 2 are counted cause 2 and 3 are in arr.\n",
    "Example 2:\n",
    "\n",
    "Input: arr = [1,1,3,3,5,5,7,7]\n",
    "Output: 0\n",
    "Explanation: No numbers are counted, cause there's no 2, 4, 6, or 8 in arr.\n",
    "Example 3:\n",
    "\n",
    "Input: arr = [1,3,2,3,5,0]\n",
    "Output: 3\n",
    "Explanation: 0, 1 and 2 are counted cause 1, 2 and 3 are in arr.\n",
    "Example 4:\n",
    "\n",
    "Input: arr = [1,1,2,2]\n",
    "Output: 2\n",
    "Explanation: Two 1s are counted cause 2 is in arr.\n",
    " \n",
    "\n",
    "Constraints:\n",
    "\n",
    "1 <= arr.length <= 1000\n",
    "0 <= arr[i] <= 1000"
   ]
  },
  {
   "cell_type": "code",
   "execution_count": 428,
   "metadata": {},
   "outputs": [],
   "source": [
    "def count_elements(input_array):\n",
    "\n",
    "    # create set (uniques contained within input array)\n",
    "    input_set = set(input_array)\n",
    "\n",
    "    # initiate counter at zero, loop over input array, and bump up counter if num+1 is in the set\n",
    "    counter = 0\n",
    "    for item in input_array:\n",
    "        if item+1 in input_set:\n",
    "            counter += 1\n",
    "    return counter"
   ]
  },
  {
   "cell_type": "code",
   "execution_count": 427,
   "metadata": {},
   "outputs": [
    {
     "data": {
      "text/plain": [
       "2"
      ]
     },
     "execution_count": 427,
     "metadata": {},
     "output_type": "execute_result"
    }
   ],
   "source": [
    "input_array = [1,1,2,2]\n"
   ]
  },
  {
   "cell_type": "markdown",
   "metadata": {},
   "source": [
    "## April 8: Middle of the Linked List\n",
    "Given a non-empty, singly linked list with head node head, return a middle node of linked list.\n",
    "\n",
    "If there are two middle nodes, return the second middle node.\n",
    "\n",
    " \n",
    "\n",
    "Example 1:\n",
    "\n",
    "Input: [1,2,3,4,5]\n",
    "Output: Node 3 from this list (Serialization: [3,4,5])\n",
    "The returned node has value 3.  (The judge's serialization of this node is [3,4,5]).\n",
    "Note that we returned a ListNode object ans, such that:\n",
    "ans.val = 3, ans.next.val = 4, ans.next.next.val = 5, and ans.next.next.next = NULL.\n",
    "Example 2:\n",
    "\n",
    "Input: [1,2,3,4,5,6]\n",
    "Output: Node 4 from this list (Serialization: [4,5,6])\n",
    "Since the list has two middle nodes with values 3 and 4, we return the second one.\n",
    " \n",
    "\n",
    "Note:\n",
    "\n",
    "The number of nodes in the given list will be between 1 and 100."
   ]
  },
  {
   "cell_type": "markdown",
   "metadata": {},
   "source": [
    "## April 9: Backspace String Compare\n",
    "Given two strings S and T, return if they are equal when both are typed into empty text editors. # means a backspace character.\n",
    "\n",
    "Example 1:\n",
    "\n",
    "Input: S = \"ab#c\", T = \"ad#c\"\n",
    "Output: true\n",
    "Explanation: Both S and T become \"ac\"."
   ]
  },
  {
   "cell_type": "code",
   "execution_count": 16,
   "metadata": {},
   "outputs": [],
   "source": [
    "def backspace(S, T):\n",
    "    out_S = []\n",
    "    for item in list(S):\n",
    "        if item == '#' and len(out_S) > 0:\n",
    "            del out_S[-1]\n",
    "        else:\n",
    "            out_S.append(item)\n",
    "    print(out_S)\n",
    "\n",
    "    out_T = []\n",
    "    for item in list(T):\n",
    "        if item == '#' and len(out_T) > 0:\n",
    "            del out_T[-1]\n",
    "        else:\n",
    "            out_T.append(item)  \n",
    "    print(out_T)\n",
    "    \n",
    "    if out_S == out_T:\n",
    "        return 'true'\n",
    "    else:\n",
    "        return 'false'"
   ]
  },
  {
   "cell_type": "code",
   "execution_count": 17,
   "metadata": {},
   "outputs": [
    {
     "name": "stdout",
     "output_type": "stream",
     "text": [
      "['c']\n",
      "['b']\n"
     ]
    },
    {
     "data": {
      "text/plain": [
       "'false'"
      ]
     },
     "execution_count": 17,
     "metadata": {},
     "output_type": "execute_result"
    }
   ],
   "source": [
    "S = 'a#c'\n",
    "T = 'b'\n",
    "backspace(S, T)"
   ]
  },
  {
   "cell_type": "markdown",
   "metadata": {},
   "source": [
    "## April 10: Min Stack\n",
    "Design a stack that supports push, pop, top, and retrieving the minimum element in constant time.\n",
    "\n",
    "push(x) -- Push element x onto stack.\n",
    "pop() -- Removes the element on top of the stack.\n",
    "top() -- Get the top element.\n",
    "getMin() -- Retrieve the minimum element in the stack.\n",
    " \n",
    "\n",
    "Example:\n",
    "\n",
    "MinStack minStack = new MinStack();\n",
    "minStack.push(-2);\n",
    "minStack.push(0);\n",
    "minStack.push(-3);\n",
    "minStack.getMin();   --> Returns -3.\n",
    "minStack.pop();\n",
    "minStack.top();      --> Returns 0.\n",
    "minStack.getMin();   --> Returns -2."
   ]
  },
  {
   "cell_type": "code",
   "execution_count": null,
   "metadata": {},
   "outputs": [],
   "source": []
  }
 ],
 "metadata": {
  "kernelspec": {
   "display_name": "Python 3",
   "language": "python",
   "name": "python3"
  },
  "language_info": {
   "codemirror_mode": {
    "name": "ipython",
    "version": 3
   },
   "file_extension": ".py",
   "mimetype": "text/x-python",
   "name": "python",
   "nbconvert_exporter": "python",
   "pygments_lexer": "ipython3",
   "version": "3.7.3"
  },
  "toc": {
   "base_numbering": 1,
   "nav_menu": {},
   "number_sections": false,
   "sideBar": true,
   "skip_h1_title": false,
   "title_cell": "Table of Contents",
   "title_sidebar": "Contents",
   "toc_cell": false,
   "toc_position": {},
   "toc_section_display": true,
   "toc_window_display": true
  }
 },
 "nbformat": 4,
 "nbformat_minor": 4
}
