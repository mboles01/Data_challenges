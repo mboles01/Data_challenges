{
 "cells": [
  {
   "cell_type": "markdown",
   "metadata": {},
   "source": [
    "# Practice coding questions - April 1"
   ]
  },
  {
   "cell_type": "markdown",
   "metadata": {},
   "source": [
    "## Remove doubled entries\n",
    "\n",
    "1. Given a string S of lowercase letters, a duplicate removal consists of choosing two adjacent and equal letters, and removing them.\n",
    "\n",
    "We repeatedly make duplicate removals on S until we no longer can.\n",
    "\n",
    "Return the final string after all such duplicate removals have been made.  It is guaranteed the answer is unique."
   ]
  },
  {
   "cell_type": "markdown",
   "metadata": {},
   "source": [
    " \n",
    "Example:\n",
    "\n",
    "Input: \"abbaca\" <br>\n",
    "Output: \"ca\" <br>\n",
    "Explanation: <br>\n",
    "For example, in \"abbaca\" we could remove \"bb\" since the letters are adjacent and equal, and this is the only possible move.  The result of this move is that the string is \"aaca\", of which only \"aa\" is possible, so the final string is \"ca\".\n",
    "\n",
    "Notes: 1 <= S.length <= 20000\n",
    "S consists only of English lowercase letters."
   ]
  },
  {
   "cell_type": "code",
   "execution_count": 132,
   "metadata": {},
   "outputs": [],
   "source": [
    "# my solution\n",
    "\n",
    "def remove_dups(input_string):\n",
    "\n",
    "    # split string into individual characters\n",
    "    split = list(input_string)\n",
    "\n",
    "    # loop over each character, checking if it matches the one before it\n",
    "    to_remove = []\n",
    "    for counter, item in enumerate(split):\n",
    "        if counter > 0 and item == split[counter-1]:\n",
    "            \n",
    "            # add indices of matching characters to a list \n",
    "            to_remove = [counter, counter-1]\n",
    "    \n",
    "    # if that list is not empty, create new list excluding those characters\n",
    "    if to_remove:\n",
    "        split_new = split[:to_remove[1]] + split[to_remove[0]+1:]\n",
    "        \n",
    "        # recursively run function on new (trimmed) list\n",
    "        return remove_dups(split_new)\n",
    "    \n",
    "    # otherwise, join items in list and return it\n",
    "    else:\n",
    "        return ''.join(split)"
   ]
  },
  {
   "cell_type": "code",
   "execution_count": 133,
   "metadata": {},
   "outputs": [
    {
     "data": {
      "text/plain": [
       "'ca'"
      ]
     },
     "execution_count": 133,
     "metadata": {},
     "output_type": "execute_result"
    }
   ],
   "source": [
    "input_string = 'abbaca'\n",
    "\n",
    "remove_dups(input_string)"
   ]
  },
  {
   "cell_type": "code",
   "execution_count": 11,
   "metadata": {},
   "outputs": [],
   "source": [
    "# Krongrath's solution - problem is it would remove triples\n",
    "\n",
    "def removeDub(s):\n",
    "    temp = []\n",
    "    for i in s:\n",
    "        temp.append(i)\n",
    "        if len(temp) > 1 and temp[-1] == temp[-2]:\n",
    "            temp.pop(-1)\n",
    "            temp.pop(-1)\n",
    "    return \"\".join(temp)\n"
   ]
  },
  {
   "cell_type": "code",
   "execution_count": 12,
   "metadata": {},
   "outputs": [
    {
     "data": {
      "text/plain": [
       "'ca'"
      ]
     },
     "execution_count": 12,
     "metadata": {},
     "output_type": "execute_result"
    }
   ],
   "source": [
    "removeDub(input_string)"
   ]
  },
  {
   "cell_type": "code",
   "execution_count": 129,
   "metadata": {},
   "outputs": [
    {
     "name": "stdout",
     "output_type": "stream",
     "text": [
      "Not empty\n"
     ]
    }
   ],
   "source": [
    "empty_list = [1]\n",
    "if empty_list:\n",
    "    print('Not empty')\n",
    "else:\n",
    "    print('Empty')"
   ]
  },
  {
   "cell_type": "markdown",
   "metadata": {},
   "source": [
    "## Arrange largest\n",
    "\n",
    "2. Given a list of non negative integers, arrange them such that they form the largest number.\n",
    "\n",
    "Example 1:\n",
    "\n",
    "Input: [10,2]\n",
    "Output: \"210\"\n",
    "Example 2:\n",
    "\n",
    "Input: [3,30,34,5,9]\n",
    "Output: \"9534330\"\n",
    "Note: The result may be very large, so you need to return a string instead of an integer.\n"
   ]
  },
  {
   "cell_type": "code",
   "execution_count": 25,
   "metadata": {},
   "outputs": [
    {
     "name": "stdout",
     "output_type": "stream",
     "text": [
      "[0, 1, 2, 3, 4] [0, 3, 3, 0, 0] [3, 0, 4, 5, 9]\n"
     ]
    }
   ],
   "source": [
    "input_array = [3,30,34,5,9]\n",
    "\n",
    "\n",
    "indices = []\n",
    "floors = []\n",
    "modulos = []\n",
    "for counter, item in enumerate(input_array):\n",
    "    indices.append(counter)\n",
    "    floors.append(item // 10)\n",
    "    modulos.append(item % 10)\n",
    "print(indices, floors, modulos)\n",
    "\n"
   ]
  },
  {
   "cell_type": "code",
   "execution_count": null,
   "metadata": {},
   "outputs": [],
   "source": [
    "def largest_number(list_of_n):\n",
    "    n2string = list()\n",
    "\n",
    "    for i in list_of_n:\n",
    "        n2string.append(str(i))\n",
    "    \n",
    "    return int(''.join(sorted(n2string)[::-1]))\n"
   ]
  },
  {
   "cell_type": "markdown",
   "metadata": {},
   "source": [
    "## Sort RBG\n",
    "Given an array of strictly the characters 'R', 'G', and 'B', segregate the values of the array so that all the Rs come first, the Gs come second, and the Bs come last. You can only swap elements of the array. ",
    " ",
    "Do this in linear time and in-place. ",
    " ",
    "For example, given the array ['G', 'B', 'R', 'R', 'B', 'R', 'G'], it should become ['R', 'R', 'R', 'G', 'G', 'B', 'B']."
   ]
  },
  {
   "cell_type": "code",
   "execution_count": 13,
   "metadata": {},
   "outputs": [],
   "source": [
    "def rgb(input_array):\n",
    "    \n",
    "    # create counters for number of Rs, Gs, and Bs\n",
    "    rs = 0\n",
    "    gs = 0\n",
    "    bs = 0\n",
    "\n",
    "    # loop over list and count up number of each\n",
    "    for item in input_array:\n",
    "        if item == 'R':\n",
    "            rs += 1\n",
    "        elif item == 'G':\n",
    "            gs += 1\n",
    "        elif item == 'B':\n",
    "            bs += 1\n",
    "    \n",
    "    # change all entries to 'G'\n",
    "    input_array = ['G']*len(input_array)\n",
    "\n",
    "    # change first and last entries to corresponding number of Rs and Bs\n",
    "    input_array[:rs] = ['R']*rs\n",
    "    input_array[-bs:] = ['B']*bs"
   ]
  },
  {
   "cell_type": "code",
   "execution_count": 16,
   "metadata": {},
   "outputs": [],
   "source": [
    "input_array = ['G', 'B', 'R', 'R', 'B', 'R', 'G']\n",
    "rgb(input_array)"
   ]
  },
  {
   "cell_type": "code",
   "execution_count": 17,
   "metadata": {},
   "outputs": [
    {
     "data": {
      "text/plain": [
       "['G', 'B', 'R', 'R', 'B', 'R', 'G']"
      ]
     },
     "execution_count": 17,
     "metadata": {},
     "output_type": "execute_result"
    }
   ],
   "source": [
    "input_array"
   ]
  },
  {
   "cell_type": "code",
   "execution_count": null,
   "metadata": {},
   "outputs": [],
   "source": []
  }
 ],
 "metadata": {
  "kernelspec": {
   "display_name": "Python 3",
   "language": "python",
   "name": "python3"
  },
  "language_info": {
   "codemirror_mode": {
    "name": "ipython",
    "version": 3
   },
   "file_extension": ".py",
   "mimetype": "text/x-python",
   "name": "python",
   "nbconvert_exporter": "python",
   "pygments_lexer": "ipython3",
   "version": "3.7.3"
  },
  "toc": {
   "base_numbering": 1,
   "nav_menu": {},
   "number_sections": false,
   "sideBar": true,
   "skip_h1_title": false,
   "title_cell": "Table of Contents",
   "title_sidebar": "Contents",
   "toc_cell": false,
   "toc_position": {},
   "toc_section_display": true,
   "toc_window_display": true
  }
 },
 "nbformat": 4,
 "nbformat_minor": 4
}
