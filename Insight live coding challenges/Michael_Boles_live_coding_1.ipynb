{
 "cells": [
  {
   "cell_type": "markdown",
   "metadata": {},
   "source": [
    "# Live coding challenge - Feb 19, 2020"
   ]
  },
  {
   "cell_type": "markdown",
   "metadata": {},
   "source": [
    "### Michael Boles"
   ]
  },
  {
   "cell_type": "markdown",
   "metadata": {},
   "source": [
    "## SQL"
   ]
  },
  {
   "cell_type": "markdown",
   "metadata": {},
   "source": [
    "#### Tables:\n",
    "##### Worker: Worker_ID / First_Name / Last_Name / Salary / Join_Date / Department\n",
    "##### Bonus: Worker_ref_id / Bonus_Date / Bonus_Amount\n",
    "##### Title: Worker_ref_id / Worker_Title / Affected_from"
   ]
  },
  {
   "cell_type": "markdown",
   "metadata": {},
   "source": [
    "##### 1. Write a query to print first name and last name from worker table into single column 'complete name', add a space to separate them"
   ]
  },
  {
   "cell_type": "code",
   "execution_count": null,
   "metadata": {},
   "outputs": [],
   "source": [
    "# Best answer: if one name field is null, will just show other field\n",
    "SELECT COALESCE(First_Name, ' ', Last_Name) AS complete_name\n",
    "FROM Worker;"
   ]
  },
  {
   "cell_type": "code",
   "execution_count": null,
   "metadata": {},
   "outputs": [],
   "source": [
    "# Alternative answer (not as good): entire first + last will be null if one is\n",
    "SELECT CONCAT(First_Name, ' ', Last_Name) AS complete_name\n",
    "FROM Worker;"
   ]
  },
  {
   "cell_type": "markdown",
   "metadata": {},
   "source": [
    "##### 2. Write a SQL query to print all details of workers who are managers"
   ]
  },
  {
   "cell_type": "code",
   "execution_count": null,
   "metadata": {},
   "outputs": [],
   "source": [
    "# My original response - no need for subquery\n",
    "SELECT *\n",
    "    FROM(\n",
    "        SELECT Worker\n",
    "        LEFT JOIN Title\n",
    "        ON Worker.Worker_ID = Title.Worker_ref_id\n",
    "        )\n",
    "    WHERE Worker_Title ILIKE '%Manager%';"
   ]
  },
  {
   "cell_type": "code",
   "execution_count": null,
   "metadata": {},
   "outputs": [],
   "source": [
    "# Suggested solution\n",
    "SELECT * \n",
    "    FROM Worker AS w\n",
    "    JOIN Title AS t \n",
    "    ON w.Worker_ID = t.Worker_ref_id\n",
    "    WHERE Worker_Title ILIKE '%Manager%';"
   ]
  },
  {
   "cell_type": "code",
   "execution_count": null,
   "metadata": {},
   "outputs": [],
   "source": [
    "# But probably should also join third table to get bonus info\n",
    "SELECT * \n",
    "    FROM Worker AS w\n",
    "    JOIN Title AS t \n",
    "    ON w.Worker_ID = t.Worker_ref_id\n",
    "    JOIN Bonus AS b\n",
    "    ON bw.Worker_ID = b.Worker_ref_id\n",
    "    WHERE Worker_Title ILIKE '%Manager%';"
   ]
  },
  {
   "cell_type": "markdown",
   "metadata": {},
   "source": [
    "##### 3. Write a query to print name of employees having highest bonus in each department"
   ]
  },
  {
   "cell_type": "code",
   "execution_count": null,
   "metadata": {},
   "outputs": [],
   "source": [
    "# My response\n",
    "SELECT COALESCE(w.First_Name, ' ', w.Last_Name) AS complete_name, \n",
    "       w.Department, \n",
    "       b.Bonus_Amount\n",
    "    FROM Worker AS w\n",
    "    JOIN Bonus AS b\n",
    "    ON w.Worker_ID = b.Worker_ref_ID\n",
    "    GROUP BY w.Department\n",
    "    ORDER BY b.Bonus_Amount DESC\n",
    "    LIMIT 1"
   ]
  },
  {
   "cell_type": "code",
   "execution_count": null,
   "metadata": {},
   "outputs": [],
   "source": []
  },
  {
   "cell_type": "markdown",
   "metadata": {},
   "source": [
    "## Coding"
   ]
  },
  {
   "cell_type": "markdown",
   "metadata": {},
   "source": [
    "### Given an expression string, write python program to find whether a string has balanced parens or not - output should be 'balanced' or 'unbalanced'"
   ]
  },
  {
   "cell_type": "code",
   "execution_count": null,
   "metadata": {},
   "outputs": [],
   "source": [
    "# My response - lots of code and no end in sight\n",
    "\n",
    "def check_balance(input_string)\n",
    "    input_split = str.split(input_string)\n",
    "    \n",
    "    # determine position of parens '()'\n",
    "    left_1 = []\n",
    "    right_1 = []\n",
    "    for position, i in enumerate(range(len(input_split))):\n",
    "        if i = '(':\n",
    "            left_1.append(position)\n",
    "        elif i = ')':\n",
    "            right_1.append(position)\n",
    "        \n",
    "    # determine position of parens '[]'\n",
    "    left_2 = []\n",
    "    right_2 = []\n",
    "    for position, i in enumerate(range(len(input_split))):\n",
    "        if i = '[':\n",
    "            left_2.append(position)\n",
    "        elif i = ']':\n",
    "            right_2.append(position)\n",
    "        \n",
    "    # determine position of parens '{}'\n",
    "    left_3 = []\n",
    "    right_3 = []\n",
    "    for position, i in enumerate(range(len(input_split))):\n",
    "        if i = '{':\n",
    "            left_3.append(position)\n",
    "        elif i = '}':\n",
    "            right_3.append(position)\n",
    "        \n",
    "    # check that left comes before right\n",
    "    if left_1[0] > right_1[0] or left_2[0] > right_2[0] or left_3[0] > right_3[0]:\n",
    "        return('Check that right parens do not come before left parens')\n",
    "    \n",
    "    # check that parent numbers are balanced\n",
    "    if len(left_1) == len(right_1) and len(left_2) == len(right_2) and len(left_3) == len(right_3):\n",
    "        continue\n",
    "    else:\n",
    "        return('Check that you have equal numbers of left and right parens')\n",
    "    \n",
    "    # check the order of parens\n",
    "    parens_all = pd.DataFrame({'left curved': left_1,\n",
    "                               'right curved': right_1,\n",
    "                               'left square': left_2,\n",
    "                               'right square': right_2,\n",
    "                               'left curly':\n",
    "                    })\n"
   ]
  },
  {
   "cell_type": "code",
   "execution_count": 119,
   "metadata": {},
   "outputs": [],
   "source": [
    "# Suggested solution\n",
    "def check_balance_2(input_string):\n",
    "    \n",
    "    # split items from string into single characters\n",
    "    split_string = list(input_string)\n",
    "    \n",
    "    # create a dictionary to match left parens to right\n",
    "    dict_parens = {'(': ')', '[': ']', '{': '}'}\n",
    "    \n",
    "    stack = []\n",
    "    for char in split_string:\n",
    "        \n",
    "        # create ideal right parens based on left\n",
    "        if char in dict_parens.keys():\n",
    "            stack.append(dict_parens[char])\n",
    "        \n",
    "        # compare actual right parens to ideal right parens\n",
    "        else:\n",
    "            if not stack or char != stack.pop():\n",
    "                return 'Unbalanced' \n",
    "    \n",
    "    # check if anything is left after popping all right parens    \n",
    "    if stack: \n",
    "        return 'Unbalanced'\n",
    "    \n",
    "    # return balanced\n",
    "    else:\n",
    "        return 'Balanced'"
   ]
  },
  {
   "cell_type": "code",
   "execution_count": 120,
   "metadata": {},
   "outputs": [
    {
     "data": {
      "text/plain": [
       "'Unbalanced'"
      ]
     },
     "execution_count": 120,
     "metadata": {},
     "output_type": "execute_result"
    }
   ],
   "source": [
    "check_balance_2('((([[[{{{}}]]])))')"
   ]
  },
  {
   "cell_type": "markdown",
   "metadata": {},
   "source": [
    "### Given a sentence string, create a fn that will return first duplicate word or 'No repetition'"
   ]
  },
  {
   "cell_type": "code",
   "execution_count": 18,
   "metadata": {},
   "outputs": [],
   "source": [
    "input = 'Ravi had been saying that he had been there'"
   ]
  },
  {
   "cell_type": "code",
   "execution_count": 134,
   "metadata": {},
   "outputs": [],
   "source": [
    "input2 = 'This word is repeated later than the other later word'"
   ]
  },
  {
   "cell_type": "code",
   "execution_count": 126,
   "metadata": {},
   "outputs": [],
   "source": [
    "# My attempt - doesn't work\n",
    "\n",
    "def return_dups(input):\n",
    "    import pandas as pd\n",
    "    split_words = input.split(' ')\n",
    "    \n",
    "    word_stack = pd.DataFrame({'word': [],\n",
    "                               'count': []})\n",
    "    \n",
    "    for word in split_words:\n",
    "        if word in word_stack:\n",
    "            word_stack.count += 1\n",
    "        else:\n",
    "            word_and_count = pd.Series({'word': word,\n",
    "                                       'count': 1})\n",
    "            word_stack.append(word_and_count,\n",
    "                                      ignore_index = True)\n",
    "    \n",
    "    return(word_stack)"
   ]
  },
  {
   "cell_type": "code",
   "execution_count": 127,
   "metadata": {},
   "outputs": [
    {
     "data": {
      "text/html": [
       "<div>\n",
       "<style scoped>\n",
       "    .dataframe tbody tr th:only-of-type {\n",
       "        vertical-align: middle;\n",
       "    }\n",
       "\n",
       "    .dataframe tbody tr th {\n",
       "        vertical-align: top;\n",
       "    }\n",
       "\n",
       "    .dataframe thead th {\n",
       "        text-align: right;\n",
       "    }\n",
       "</style>\n",
       "<table border=\"1\" class=\"dataframe\">\n",
       "  <thead>\n",
       "    <tr style=\"text-align: right;\">\n",
       "      <th></th>\n",
       "      <th>word</th>\n",
       "      <th>count</th>\n",
       "    </tr>\n",
       "  </thead>\n",
       "  <tbody>\n",
       "  </tbody>\n",
       "</table>\n",
       "</div>"
      ],
      "text/plain": [
       "Empty DataFrame\n",
       "Columns: [word, count]\n",
       "Index: []"
      ]
     },
     "execution_count": 127,
     "metadata": {},
     "output_type": "execute_result"
    }
   ],
   "source": [
    "return_dups(input)"
   ]
  },
  {
   "cell_type": "code",
   "execution_count": 52,
   "metadata": {},
   "outputs": [],
   "source": [
    "# Suggested answer - doesn't work for first duplicated word not having first next appearance\n",
    "\n",
    "def find_dups_2(input):\n",
    "    words = input.split(' ')\n",
    "    used_words = set()\n",
    "    for word in words:\n",
    "        if word in used_words:\n",
    "            return word\n",
    "        else:\n",
    "            used_words.add(word)\n",
    "    return 'No duplicates'"
   ]
  },
  {
   "cell_type": "code",
   "execution_count": 53,
   "metadata": {
    "scrolled": true
   },
   "outputs": [
    {
     "data": {
      "text/plain": [
       "'had'"
      ]
     },
     "execution_count": 53,
     "metadata": {},
     "output_type": "execute_result"
    }
   ],
   "source": [
    "find_dups_2(input)"
   ]
  },
  {
   "cell_type": "code",
   "execution_count": 131,
   "metadata": {},
   "outputs": [],
   "source": [
    "# Best answer\n",
    "\n",
    "def find_dups_3(input_string):\n",
    "    \n",
    "    # split on whitespace\n",
    "    words = input_string.split(' ')\n",
    "    \n",
    "    # create empty set object\n",
    "    word_set = set()\n",
    "    most_recent = ''\n",
    "    \n",
    "    # look at words in reverse\n",
    "    for word in words[-1::-1]:\n",
    "        \n",
    "        # if a word is already in set, call it most recent\n",
    "        if word in word_set:\n",
    "            most_recent = word\n",
    "            \n",
    "        # otherwise add it to the set\n",
    "        word_set.add(word)\n",
    "    \n",
    "    # return first duplicated word, even if its second appearance comes after another\n",
    "    if most_recent:\n",
    "        return most_recent\n",
    "    \n",
    "    # otherwise return no duplicates\n",
    "    else: \n",
    "        return 'No duplicates'"
   ]
  },
  {
   "cell_type": "code",
   "execution_count": 135,
   "metadata": {},
   "outputs": [
    {
     "data": {
      "text/plain": [
       "'word'"
      ]
     },
     "execution_count": 135,
     "metadata": {},
     "output_type": "execute_result"
    }
   ],
   "source": [
    "find_dups_3(input2)"
   ]
  },
  {
   "cell_type": "code",
   "execution_count": null,
   "metadata": {},
   "outputs": [],
   "source": []
  }
 ],
 "metadata": {
  "kernelspec": {
   "display_name": "Python 3",
   "language": "python",
   "name": "python3"
  },
  "language_info": {
   "codemirror_mode": {
    "name": "ipython",
    "version": 3
   },
   "file_extension": ".py",
   "mimetype": "text/x-python",
   "name": "python",
   "nbconvert_exporter": "python",
   "pygments_lexer": "ipython3",
   "version": "3.7.3"
  }
 },
 "nbformat": 4,
 "nbformat_minor": 4
}
