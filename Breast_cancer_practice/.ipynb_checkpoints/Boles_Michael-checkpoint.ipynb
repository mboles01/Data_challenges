{
 "cells": [
  {
   "cell_type": "markdown",
   "metadata": {},
   "source": [
    "# Insight Data Science\n",
    "## Michael Boles\n",
    "### Data Challenge: breast cancer detection"
   ]
  },
  {
   "cell_type": "markdown",
   "metadata": {},
   "source": [
    "## Table of Contents\n",
    "1. [Prompt and Executive Summary](#1)\n",
    "2. [Initial Data Analysis](#2)\n",
    "3. [Data Wrangling](#3)\n",
    "4. [Exploratory Data Analysis](#4)\n",
    "5. [Data Wrangling](#5)\n",
    "6. [Machine Learning](#6)\n",
    "7. [Model Evaluation](#7)"
   ]
  },
  {
   "cell_type": "markdown",
   "metadata": {},
   "source": [
    "<a id='1'></a>\n",
    "## 1. Prompt and Executive Summary\n",
    "\n",
    "### 1.1. Prompt\n",
    "You belong to the data team at a local research hospital. You've been tasked with developing a means to help doctors diagnose breast cancer. You've been given data about east cells; where biopsied brit is benign (not harmful) or malignant (cancerous).\n",
    "1.\tWhat features of a cell are the largest drivers of malignancy?\n",
    "2.\tHow would a physician use your product?\n",
    "3.\tThere is a non-zero cost in time and money to collect each feature about a given cell. How would you go about determining the most cost-effective method of detecting malignancy?"
   ]
  },
  {
   "cell_type": "markdown",
   "metadata": {},
   "source": [
    "### 1.2. Response (executive summary)\n",
    "\n",
    "#### 1.2.1. Largest drivers of malignancy\n",
    " - The three features most strongly predictive of malignancy, as determined by logistic regression coefficients, are:\n",
    "  - Clump thickness (0.61)\n",
    "  - Mitoses (0.60)\n",
    "  - Bare nuclei (0.50)\n",
    "  \n",
    "##### Comment: classifier model  \n",
    "  \n",
    " - The model (logistic regression classifier):\n",
    "  - Was trained on 666 unique observations, resampled such that class abundance (malignant vs. benign) is 50/50\n",
    "  - Employed 6 of 9 relevant features, using recursive feature elimination (RFE) to exclude least significant features (uniformity of cell size and single epithelial cell size)\n",
    "  - Attained a classification accuracy of 97%, with similar abundance of false negatives and false positives\n",
    "  - Next steps: would optimize for recall to minimize cases where sick patients are told they're healthy\n",
    "  \n",
    "#### 1.2.2. Use of this product by physicians\n",
    " - A physician may use this as a tool to assist in breast cancer diagnoses by:\n",
    "  - Excising tissue and collecting information about the cell corresponding to key features used as model inputs (clump thickness, mitoses, bare nuclei, marginal adhesion, bland chromatin) \n",
    "  - Entering in measurements as features and running model\n",
    "  \n",
    "#### 1.2.3. Prioritizing feature collection for malignancy\n",
    " - There exists a fundamental tradeoff between prediction accuracy and number of features used in the model\n",
    " - The general recommendation is to collect features in the order of their feature importance (model coefficients)\n",
    " - The model attains 75% accuracy with just 3 features -- on leanest budget, should collect these first (see point 1.)"
   ]
  },
  {
   "cell_type": "markdown",
   "metadata": {},
   "source": [
    "<a id='2'></a>\n",
    "## 2. Initial Data Analysis"
   ]
  },
  {
   "cell_type": "markdown",
   "metadata": {},
   "source": [
    "### Overview\n",
    "\n",
    "2.1. Loading packages and data set\n",
    "\n",
    "2.2. Checking size of data set and data types \n",
    "- ~16000 rows, 12 columns\n",
    "- mixture of integer and object data \n",
    "\n",
    "2.3. Looking at most common values, frequency of missing values\n",
    "- mostly numbers 1 through 10\n",
    "- some numbers >10, strings \"No idea\" and symbols \"#\"\n",
    "- 0.2% missing values"
   ]
  },
  {
   "cell_type": "markdown",
   "metadata": {},
   "source": [
    "#### 2.1 Loading packages and data set"
   ]
  },
  {
   "cell_type": "code",
   "execution_count": 359,
   "metadata": {},
   "outputs": [],
   "source": [
    "# Import libraries\n",
    "import pandas as pd\n",
    "import numpy as np\n",
    "import matplotlib.pyplot as plt\n",
    "%matplotlib inline\n",
    "import seaborn as sns"
   ]
  },
  {
   "cell_type": "code",
   "execution_count": 2,
   "metadata": {},
   "outputs": [],
   "source": [
    "# Import data set\n",
    "data_raw = pd.read_csv('./breast-cancer-wisconsin.txt')"
   ]
  },
  {
   "cell_type": "markdown",
   "metadata": {},
   "source": [
    "#### 2.2 Checking size of data set and data types"
   ]
  },
  {
   "cell_type": "code",
   "execution_count": 214,
   "metadata": {},
   "outputs": [
    {
     "name": "stdout",
     "output_type": "stream",
     "text": [
      "(15855, 12)\n",
      "Index                           int64\n",
      "ID                              int64\n",
      "Clump Thickness                 int64\n",
      "Uniformity of Cell Size        object\n",
      "Uniformity of Cell Shape       object\n",
      "Marginal Adhesion              object\n",
      "Single Epithelial Cell Size    object\n",
      "Bare Nuclei                    object\n",
      "Bland Chromatin                object\n",
      "Normal Nucleoli                object\n",
      "Mitoses                        object\n",
      "Class                          object\n",
      "dtype: object\n"
     ]
    }
   ],
   "source": [
    "# check shape of raw data table and data type across columns\n",
    "print(data_raw.shape)\n",
    "print(data_raw.dtypes)"
   ]
  },
  {
   "cell_type": "markdown",
   "metadata": {},
   "source": [
    "#### 2.3 Looking at most common values, frequency of missing values"
   ]
  },
  {
   "cell_type": "code",
   "execution_count": 155,
   "metadata": {},
   "outputs": [
    {
     "data": {
      "text/html": [
       "<div>\n",
       "<style scoped>\n",
       "    .dataframe tbody tr th:only-of-type {\n",
       "        vertical-align: middle;\n",
       "    }\n",
       "\n",
       "    .dataframe tbody tr th {\n",
       "        vertical-align: top;\n",
       "    }\n",
       "\n",
       "    .dataframe thead th {\n",
       "        text-align: right;\n",
       "    }\n",
       "</style>\n",
       "<table border=\"1\" class=\"dataframe\">\n",
       "  <thead>\n",
       "    <tr style=\"text-align: right;\">\n",
       "      <th></th>\n",
       "      <th>Index</th>\n",
       "      <th>ID</th>\n",
       "      <th>Clump Thickness</th>\n",
       "      <th>Uniformity of Cell Size</th>\n",
       "      <th>Uniformity of Cell Shape</th>\n",
       "      <th>Marginal Adhesion</th>\n",
       "      <th>Single Epithelial Cell Size</th>\n",
       "      <th>Bare Nuclei</th>\n",
       "      <th>Bland Chromatin</th>\n",
       "      <th>Normal Nucleoli</th>\n",
       "      <th>Mitoses</th>\n",
       "      <th>Class</th>\n",
       "    </tr>\n",
       "  </thead>\n",
       "  <tbody>\n",
       "    <tr>\n",
       "      <th>0</th>\n",
       "      <td>2047</td>\n",
       "      <td>1198641</td>\n",
       "      <td>10</td>\n",
       "      <td>10</td>\n",
       "      <td>4</td>\n",
       "      <td>3</td>\n",
       "      <td>3</td>\n",
       "      <td>10</td>\n",
       "      <td>3</td>\n",
       "      <td>1</td>\n",
       "      <td>1</td>\n",
       "      <td>4</td>\n",
       "    </tr>\n",
       "    <tr>\n",
       "      <th>1</th>\n",
       "      <td>12963</td>\n",
       "      <td>1112209</td>\n",
       "      <td>7</td>\n",
       "      <td>6</td>\n",
       "      <td>5</td>\n",
       "      <td>10</td>\n",
       "      <td>4</td>\n",
       "      <td>8</td>\n",
       "      <td>7</td>\n",
       "      <td>3</td>\n",
       "      <td>2</td>\n",
       "      <td>2</td>\n",
       "    </tr>\n",
       "    <tr>\n",
       "      <th>2</th>\n",
       "      <td>8865</td>\n",
       "      <td>691628</td>\n",
       "      <td>8</td>\n",
       "      <td>5</td>\n",
       "      <td>6</td>\n",
       "      <td>4</td>\n",
       "      <td>2</td>\n",
       "      <td>3</td>\n",
       "      <td>6</td>\n",
       "      <td>8</td>\n",
       "      <td>7</td>\n",
       "      <td>40</td>\n",
       "    </tr>\n",
       "    <tr>\n",
       "      <th>3</th>\n",
       "      <td>10912</td>\n",
       "      <td>1107684</td>\n",
       "      <td>5</td>\n",
       "      <td>8</td>\n",
       "      <td>10</td>\n",
       "      <td>6</td>\n",
       "      <td>6</td>\n",
       "      <td>5</td>\n",
       "      <td>2</td>\n",
       "      <td>4</td>\n",
       "      <td>10</td>\n",
       "      <td>?</td>\n",
       "    </tr>\n",
       "    <tr>\n",
       "      <th>4</th>\n",
       "      <td>4759</td>\n",
       "      <td>1226612</td>\n",
       "      <td>3</td>\n",
       "      <td>3</td>\n",
       "      <td>7</td>\n",
       "      <td>1</td>\n",
       "      <td>10</td>\n",
       "      <td>1</td>\n",
       "      <td>4</td>\n",
       "      <td>5</td>\n",
       "      <td>20</td>\n",
       "      <td>No idea</td>\n",
       "    </tr>\n",
       "    <tr>\n",
       "      <th>5</th>\n",
       "      <td>6806</td>\n",
       "      <td>1241035</td>\n",
       "      <td>6</td>\n",
       "      <td>4</td>\n",
       "      <td>3</td>\n",
       "      <td>2</td>\n",
       "      <td>8</td>\n",
       "      <td>2</td>\n",
       "      <td>1</td>\n",
       "      <td>10</td>\n",
       "      <td>3</td>\n",
       "      <td>#</td>\n",
       "    </tr>\n",
       "    <tr>\n",
       "      <th>6</th>\n",
       "      <td>661</td>\n",
       "      <td>1106829</td>\n",
       "      <td>1</td>\n",
       "      <td>9</td>\n",
       "      <td>1</td>\n",
       "      <td>5</td>\n",
       "      <td>30</td>\n",
       "      <td>6</td>\n",
       "      <td>30</td>\n",
       "      <td>2</td>\n",
       "      <td>?</td>\n",
       "      <td>20</td>\n",
       "    </tr>\n",
       "    <tr>\n",
       "      <th>7</th>\n",
       "      <td>2708</td>\n",
       "      <td>1111249</td>\n",
       "      <td>4</td>\n",
       "      <td>1</td>\n",
       "      <td>2</td>\n",
       "      <td>7</td>\n",
       "      <td>40</td>\n",
       "      <td>100</td>\n",
       "      <td>70</td>\n",
       "      <td>6</td>\n",
       "      <td>No idea</td>\n",
       "      <td>NaN</td>\n",
       "    </tr>\n",
       "    <tr>\n",
       "      <th>8</th>\n",
       "      <td>12947</td>\n",
       "      <td>1200892</td>\n",
       "      <td>2</td>\n",
       "      <td>2</td>\n",
       "      <td>40</td>\n",
       "      <td>30</td>\n",
       "      <td>1</td>\n",
       "      <td>?</td>\n",
       "      <td>5</td>\n",
       "      <td>7</td>\n",
       "      <td>70</td>\n",
       "      <td>NaN</td>\n",
       "    </tr>\n",
       "    <tr>\n",
       "      <th>9</th>\n",
       "      <td>14994</td>\n",
       "      <td>1076352</td>\n",
       "      <td>100</td>\n",
       "      <td>60</td>\n",
       "      <td>60</td>\n",
       "      <td>100</td>\n",
       "      <td>5</td>\n",
       "      <td>80</td>\n",
       "      <td>60</td>\n",
       "      <td>9</td>\n",
       "      <td>4</td>\n",
       "      <td>NaN</td>\n",
       "    </tr>\n",
       "  </tbody>\n",
       "</table>\n",
       "</div>"
      ],
      "text/plain": [
       "   Index       ID  Clump Thickness Uniformity of Cell Size  \\\n",
       "0   2047  1198641               10                      10   \n",
       "1  12963  1112209                7                       6   \n",
       "2   8865   691628                8                       5   \n",
       "3  10912  1107684                5                       8   \n",
       "4   4759  1226612                3                       3   \n",
       "5   6806  1241035                6                       4   \n",
       "6    661  1106829                1                       9   \n",
       "7   2708  1111249                4                       1   \n",
       "8  12947  1200892                2                       2   \n",
       "9  14994  1076352              100                      60   \n",
       "\n",
       "  Uniformity of Cell Shape Marginal Adhesion Single Epithelial Cell Size  \\\n",
       "0                        4                 3                           3   \n",
       "1                        5                10                           4   \n",
       "2                        6                 4                           2   \n",
       "3                       10                 6                           6   \n",
       "4                        7                 1                          10   \n",
       "5                        3                 2                           8   \n",
       "6                        1                 5                          30   \n",
       "7                        2                 7                          40   \n",
       "8                       40                30                           1   \n",
       "9                       60               100                           5   \n",
       "\n",
       "  Bare Nuclei Bland Chromatin Normal Nucleoli  Mitoses    Class  \n",
       "0          10               3               1        1        4  \n",
       "1           8               7               3        2        2  \n",
       "2           3               6               8        7       40  \n",
       "3           5               2               4       10        ?  \n",
       "4           1               4               5       20  No idea  \n",
       "5           2               1              10        3        #  \n",
       "6           6              30               2        ?       20  \n",
       "7         100              70               6  No idea      NaN  \n",
       "8           ?               5               7       70      NaN  \n",
       "9          80              60               9        4      NaN  "
      ]
     },
     "execution_count": 155,
     "metadata": {},
     "output_type": "execute_result"
    }
   ],
   "source": [
    "# get most common values\n",
    "values = pd.DataFrame()\n",
    "for column in data_raw:\n",
    "    value_counts = data_raw[column].value_counts() \n",
    "    values[str(column)] = pd.Series(value_counts.index[:10])\n",
    "values"
   ]
  },
  {
   "cell_type": "code",
   "execution_count": 213,
   "metadata": {},
   "outputs": [
    {
     "data": {
      "text/html": [
       "<div>\n",
       "<style scoped>\n",
       "    .dataframe tbody tr th:only-of-type {\n",
       "        vertical-align: middle;\n",
       "    }\n",
       "\n",
       "    .dataframe tbody tr th {\n",
       "        vertical-align: top;\n",
       "    }\n",
       "\n",
       "    .dataframe thead th {\n",
       "        text-align: right;\n",
       "    }\n",
       "</style>\n",
       "<table border=\"1\" class=\"dataframe\">\n",
       "  <thead>\n",
       "    <tr style=\"text-align: right;\">\n",
       "      <th></th>\n",
       "      <th>Index</th>\n",
       "      <th>ID</th>\n",
       "      <th>Clump Thickness</th>\n",
       "      <th>Uniformity of Cell Size</th>\n",
       "      <th>Uniformity of Cell Shape</th>\n",
       "      <th>Marginal Adhesion</th>\n",
       "      <th>Single Epithelial Cell Size</th>\n",
       "      <th>Bare Nuclei</th>\n",
       "      <th>Bland Chromatin</th>\n",
       "      <th>Normal Nucleoli</th>\n",
       "      <th>Mitoses</th>\n",
       "      <th>Class</th>\n",
       "    </tr>\n",
       "  </thead>\n",
       "  <tbody>\n",
       "    <tr>\n",
       "      <th>0</th>\n",
       "      <td>1</td>\n",
       "      <td>1003</td>\n",
       "      <td>5070</td>\n",
       "      <td>4051</td>\n",
       "      <td>4022</td>\n",
       "      <td>4035</td>\n",
       "      <td>6043</td>\n",
       "      <td>5123</td>\n",
       "      <td>6132</td>\n",
       "      <td>2430</td>\n",
       "      <td>10527</td>\n",
       "      <td>15164.0</td>\n",
       "    </tr>\n",
       "    <tr>\n",
       "      <th>1</th>\n",
       "      <td>1</td>\n",
       "      <td>1001</td>\n",
       "      <td>4023</td>\n",
       "      <td>4005</td>\n",
       "      <td>3020</td>\n",
       "      <td>3052</td>\n",
       "      <td>5023</td>\n",
       "      <td>3006</td>\n",
       "      <td>4054</td>\n",
       "      <td>2028</td>\n",
       "      <td>4013</td>\n",
       "      <td>456.0</td>\n",
       "    </tr>\n",
       "    <tr>\n",
       "      <th>2</th>\n",
       "      <td>1</td>\n",
       "      <td>1001</td>\n",
       "      <td>3046</td>\n",
       "      <td>2020</td>\n",
       "      <td>3010</td>\n",
       "      <td>2024</td>\n",
       "      <td>1377</td>\n",
       "      <td>2019</td>\n",
       "      <td>3001</td>\n",
       "      <td>2013</td>\n",
       "      <td>1004</td>\n",
       "      <td>151.0</td>\n",
       "    </tr>\n",
       "    <tr>\n",
       "      <th>3</th>\n",
       "      <td>1</td>\n",
       "      <td>1001</td>\n",
       "      <td>1129</td>\n",
       "      <td>2018</td>\n",
       "      <td>2055</td>\n",
       "      <td>2008</td>\n",
       "      <td>1039</td>\n",
       "      <td>2016</td>\n",
       "      <td>1159</td>\n",
       "      <td>2011</td>\n",
       "      <td>118</td>\n",
       "      <td>23.0</td>\n",
       "    </tr>\n",
       "    <tr>\n",
       "      <th>4</th>\n",
       "      <td>1</td>\n",
       "      <td>1001</td>\n",
       "      <td>1108</td>\n",
       "      <td>1047</td>\n",
       "      <td>2022</td>\n",
       "      <td>1401</td>\n",
       "      <td>1024</td>\n",
       "      <td>1394</td>\n",
       "      <td>1031</td>\n",
       "      <td>2011</td>\n",
       "      <td>36</td>\n",
       "      <td>17.0</td>\n",
       "    </tr>\n",
       "    <tr>\n",
       "      <th>5</th>\n",
       "      <td>1</td>\n",
       "      <td>1001</td>\n",
       "      <td>1034</td>\n",
       "      <td>1033</td>\n",
       "      <td>1050</td>\n",
       "      <td>1053</td>\n",
       "      <td>1014</td>\n",
       "      <td>1027</td>\n",
       "      <td>151</td>\n",
       "      <td>1078</td>\n",
       "      <td>33</td>\n",
       "      <td>11.0</td>\n",
       "    </tr>\n",
       "    <tr>\n",
       "      <th>6</th>\n",
       "      <td>1</td>\n",
       "      <td>1001</td>\n",
       "      <td>145</td>\n",
       "      <td>1003</td>\n",
       "      <td>351</td>\n",
       "      <td>1020</td>\n",
       "      <td>59</td>\n",
       "      <td>1000</td>\n",
       "      <td>66</td>\n",
       "      <td>1031</td>\n",
       "      <td>23</td>\n",
       "      <td>5.0</td>\n",
       "    </tr>\n",
       "    <tr>\n",
       "      <th>7</th>\n",
       "      <td>1</td>\n",
       "      <td>1001</td>\n",
       "      <td>80</td>\n",
       "      <td>382</td>\n",
       "      <td>59</td>\n",
       "      <td>1007</td>\n",
       "      <td>54</td>\n",
       "      <td>46</td>\n",
       "      <td>41</td>\n",
       "      <td>1014</td>\n",
       "      <td>17</td>\n",
       "      <td>NaN</td>\n",
       "    </tr>\n",
       "    <tr>\n",
       "      <th>8</th>\n",
       "      <td>1</td>\n",
       "      <td>1001</td>\n",
       "      <td>50</td>\n",
       "      <td>45</td>\n",
       "      <td>47</td>\n",
       "      <td>42</td>\n",
       "      <td>47</td>\n",
       "      <td>39</td>\n",
       "      <td>34</td>\n",
       "      <td>1013</td>\n",
       "      <td>16</td>\n",
       "      <td>NaN</td>\n",
       "    </tr>\n",
       "    <tr>\n",
       "      <th>9</th>\n",
       "      <td>1</td>\n",
       "      <td>1001</td>\n",
       "      <td>48</td>\n",
       "      <td>43</td>\n",
       "      <td>32</td>\n",
       "      <td>30</td>\n",
       "      <td>39</td>\n",
       "      <td>26</td>\n",
       "      <td>28</td>\n",
       "      <td>1012</td>\n",
       "      <td>12</td>\n",
       "      <td>NaN</td>\n",
       "    </tr>\n",
       "  </tbody>\n",
       "</table>\n",
       "</div>"
      ],
      "text/plain": [
       "   Index    ID  Clump Thickness  Uniformity of Cell Size  \\\n",
       "0      1  1003             5070                     4051   \n",
       "1      1  1001             4023                     4005   \n",
       "2      1  1001             3046                     2020   \n",
       "3      1  1001             1129                     2018   \n",
       "4      1  1001             1108                     1047   \n",
       "5      1  1001             1034                     1033   \n",
       "6      1  1001              145                     1003   \n",
       "7      1  1001               80                      382   \n",
       "8      1  1001               50                       45   \n",
       "9      1  1001               48                       43   \n",
       "\n",
       "   Uniformity of Cell Shape  Marginal Adhesion  Single Epithelial Cell Size  \\\n",
       "0                      4022               4035                         6043   \n",
       "1                      3020               3052                         5023   \n",
       "2                      3010               2024                         1377   \n",
       "3                      2055               2008                         1039   \n",
       "4                      2022               1401                         1024   \n",
       "5                      1050               1053                         1014   \n",
       "6                       351               1020                           59   \n",
       "7                        59               1007                           54   \n",
       "8                        47                 42                           47   \n",
       "9                        32                 30                           39   \n",
       "\n",
       "   Bare Nuclei  Bland Chromatin  Normal Nucleoli  Mitoses    Class  \n",
       "0         5123             6132             2430    10527  15164.0  \n",
       "1         3006             4054             2028     4013    456.0  \n",
       "2         2019             3001             2013     1004    151.0  \n",
       "3         2016             1159             2011      118     23.0  \n",
       "4         1394             1031             2011       36     17.0  \n",
       "5         1027              151             1078       33     11.0  \n",
       "6         1000               66             1031       23      5.0  \n",
       "7           46               41             1014       17      NaN  \n",
       "8           39               34             1013       16      NaN  \n",
       "9           26               28             1012       12      NaN  "
      ]
     },
     "execution_count": 213,
     "metadata": {},
     "output_type": "execute_result"
    }
   ],
   "source": [
    "# for those most common values, get corresponding counts\n",
    "counts = pd.DataFrame()\n",
    "for column in data_raw:\n",
    "    value_counts = data_raw[column].value_counts()\n",
    "    counts[str(column)] = pd.Series(value_counts.values[:10])\n",
    "counts"
   ]
  },
  {
   "cell_type": "code",
   "execution_count": 360,
   "metadata": {},
   "outputs": [
    {
     "data": {
      "text/plain": [
       "{'Index': 0.0,\n",
       " 'ID': 0.0,\n",
       " 'Clump_Thickness': 0.0,\n",
       " 'Uniformity_of_Cell_Size': 0.18,\n",
       " 'Uniformity_of_Cell_Shape': 0.18,\n",
       " 'Marginal_Adhesion': 0.18,\n",
       " 'Single_Epithelial_Cell_Size': 0.18,\n",
       " 'Bare_Nuclei': 0.18,\n",
       " 'Bland_Chromatin': 0.18,\n",
       " 'Normal_Nucleoli': 0.18,\n",
       " 'Mitoses': 0.18,\n",
       " 'Class': 0.18}"
      ]
     },
     "execution_count": 360,
     "metadata": {},
     "output_type": "execute_result"
    }
   ],
   "source": [
    "# check number of missing values across columns \n",
    "columns = list(data_raw.columns)\n",
    "percent_missing = [round(data_raw[column].isna().mean()*100,2) for column in columns]\n",
    "missing_dict = dict(zip(columns, percent_missing))\n",
    "missing_dict"
   ]
  },
  {
   "cell_type": "markdown",
   "metadata": {},
   "source": [
    "<a id='3'></a>\n",
    "### 3. Data Wrangling"
   ]
  },
  {
   "cell_type": "markdown",
   "metadata": {},
   "source": [
    "### Overview\n",
    "\n",
    "3.1. Duplicates\n",
    "- 96% of data set is duplicated data (assuming 'ID' column is unique identifier)\n",
    "- Duplicate entries were dropped, left with 666 unique observations\n",
    "\n",
    "3.2. Data type\n",
    "- dataframe columns converted from object to integer type\n",
    "- converting a string to integer yields NaNs - replaced with column averages\n",
    "\n",
    "3.3. Extreme values\n",
    "- removed entries with any column value exceeding 3 sigma from column mean\n",
    "- lost 3.6% of entries with this filter"
   ]
  },
  {
   "cell_type": "markdown",
   "metadata": {},
   "source": [
    "#### 3.1 Duplicates"
   ]
  },
  {
   "cell_type": "code",
   "execution_count": 8,
   "metadata": {},
   "outputs": [
    {
     "name": "stdout",
     "output_type": "stream",
     "text": [
      "Duplicate fraction is: 95.8%\n"
     ]
    }
   ],
   "source": [
    "# check for duplicate entries\n",
    "dups = data_raw[data_raw['ID'].duplicated(keep='first')]\n",
    "print('Duplicate fraction is: ' + str(100*round(len(dups)/len(data_raw),3)) + '%')"
   ]
  },
  {
   "cell_type": "code",
   "execution_count": 365,
   "metadata": {},
   "outputs": [
    {
     "name": "stdout",
     "output_type": "stream",
     "text": [
      "Keeping 666 (4.2%) of 15855 entries\n"
     ]
    }
   ],
   "source": [
    "# drop duplicates\n",
    "data_2 = data_raw.drop_duplicates(subset=['ID'], keep='first')\n",
    "print('Keeping ' + str(len(data_2)) + ' (' + str(100*round(len(data_2)/len(data_raw),4)) + '%) of ' + str(len(data_raw))+ ' entries') "
   ]
  },
  {
   "cell_type": "markdown",
   "metadata": {},
   "source": [
    "#### 3.2 Data type conversion"
   ]
  },
  {
   "cell_type": "code",
   "execution_count": 364,
   "metadata": {},
   "outputs": [
    {
     "name": "stdout",
     "output_type": "stream",
     "text": [
      "Keeping 649 (4.09%) of 649 entries\n"
     ]
    }
   ],
   "source": [
    "# convert all columns to integer data type\n",
    "data_numeric = data_2.apply(pd.to_numeric, errors='coerce').dropna().astype(int)\n",
    "print('Keeping ' + str(len(data_numeric)) + ' (' + str(100*round(len(data_numeric)/len(data_raw),4)) + '%) of ' + str(len(data_numeric))+ ' entries') "
   ]
  },
  {
   "cell_type": "code",
   "execution_count": 379,
   "metadata": {},
   "outputs": [],
   "source": [
    "# convert columns to integers, replacing string values with column averages\n",
    "data_numeric = data_2.apply(pd.to_numeric, errors='coerce').fillna(data_numeric.mean())"
   ]
  },
  {
   "cell_type": "markdown",
   "metadata": {},
   "source": [
    "#### 3.3 Outlier removal"
   ]
  },
  {
   "cell_type": "code",
   "execution_count": 382,
   "metadata": {},
   "outputs": [
    {
     "name": "stdout",
     "output_type": "stream",
     "text": [
      "Keeping 96.4% (642 of 666), excluding remainder as outliers\n"
     ]
    }
   ],
   "source": [
    "# remove outliers\n",
    "from scipy import stats\n",
    "data_no_outliers = data_numeric[(np.abs(stats.zscore(data_numeric)) < 3).all(axis=1)]\n",
    "fraction_retained = len(data_no_outliers)/len(data_numeric)\n",
    "print('Keeping ' + str(round(100*fraction_retained, 1)) + '% ('+ str(len(data_no_outliers)) + ' of ' + str(len(data_numeric)) + '), excluding remainder as outliers')"
   ]
  },
  {
   "cell_type": "markdown",
   "metadata": {},
   "source": [
    "<a id='4'></a>\n",
    "### 4. Exploratory Data Analysis"
   ]
  },
  {
   "cell_type": "markdown",
   "metadata": {},
   "source": [
    "### Overview\n",
    "\n",
    "4.1. Data summary\n",
    "- Basic statistics\n",
    "\n",
    "4.2. Plot feature histograms\n",
    "- Sample distributions with statistics\n",
    "\n",
    "4.3. Feature correlation\n",
    "- Calculated Pearson correlation coefficient (r)\n",
    "- Using r > 0.7 to denote strong correlation\n",
    "- Two features (uniformity of cell size, shape) strongly correlated with each other\n",
    "- Also strongly correlated with some of the other features\n",
    "- Suspect these will be discarded for modeling"
   ]
  },
  {
   "cell_type": "markdown",
   "metadata": {},
   "source": [
    "#### 4.1 Data summary"
   ]
  },
  {
   "cell_type": "code",
   "execution_count": 380,
   "metadata": {},
   "outputs": [
    {
     "data": {
      "text/html": [
       "<div>\n",
       "<style scoped>\n",
       "    .dataframe tbody tr th:only-of-type {\n",
       "        vertical-align: middle;\n",
       "    }\n",
       "\n",
       "    .dataframe tbody tr th {\n",
       "        vertical-align: top;\n",
       "    }\n",
       "\n",
       "    .dataframe thead th {\n",
       "        text-align: right;\n",
       "    }\n",
       "</style>\n",
       "<table border=\"1\" class=\"dataframe\">\n",
       "  <thead>\n",
       "    <tr style=\"text-align: right;\">\n",
       "      <th></th>\n",
       "      <th>Clump_Thickness</th>\n",
       "      <th>Uniformity_of_Cell_Size</th>\n",
       "      <th>Uniformity_of_Cell_Shape</th>\n",
       "      <th>Marginal_Adhesion</th>\n",
       "      <th>Single_Epithelial_Cell_Size</th>\n",
       "      <th>Bare_Nuclei</th>\n",
       "      <th>Bland_Chromatin</th>\n",
       "      <th>Normal_Nucleoli</th>\n",
       "      <th>Mitoses</th>\n",
       "      <th>Class</th>\n",
       "    </tr>\n",
       "  </thead>\n",
       "  <tbody>\n",
       "    <tr>\n",
       "      <th>count</th>\n",
       "      <td>666.000000</td>\n",
       "      <td>666.000000</td>\n",
       "      <td>666.000000</td>\n",
       "      <td>666.000000</td>\n",
       "      <td>666.000000</td>\n",
       "      <td>666.000000</td>\n",
       "      <td>666.000000</td>\n",
       "      <td>666.000000</td>\n",
       "      <td>666.000000</td>\n",
       "      <td>666.000000</td>\n",
       "    </tr>\n",
       "    <tr>\n",
       "      <th>mean</th>\n",
       "      <td>6.539039</td>\n",
       "      <td>4.933835</td>\n",
       "      <td>4.739850</td>\n",
       "      <td>4.318797</td>\n",
       "      <td>4.387970</td>\n",
       "      <td>5.436055</td>\n",
       "      <td>4.786466</td>\n",
       "      <td>4.236090</td>\n",
       "      <td>2.048120</td>\n",
       "      <td>3.810526</td>\n",
       "    </tr>\n",
       "    <tr>\n",
       "      <th>std</th>\n",
       "      <td>12.259934</td>\n",
       "      <td>11.230268</td>\n",
       "      <td>9.476524</td>\n",
       "      <td>9.881281</td>\n",
       "      <td>7.317905</td>\n",
       "      <td>11.953519</td>\n",
       "      <td>8.173097</td>\n",
       "      <td>9.114141</td>\n",
       "      <td>3.690765</td>\n",
       "      <td>6.122082</td>\n",
       "    </tr>\n",
       "    <tr>\n",
       "      <th>min</th>\n",
       "      <td>1.000000</td>\n",
       "      <td>1.000000</td>\n",
       "      <td>1.000000</td>\n",
       "      <td>1.000000</td>\n",
       "      <td>1.000000</td>\n",
       "      <td>1.000000</td>\n",
       "      <td>1.000000</td>\n",
       "      <td>1.000000</td>\n",
       "      <td>1.000000</td>\n",
       "      <td>2.000000</td>\n",
       "    </tr>\n",
       "    <tr>\n",
       "      <th>25%</th>\n",
       "      <td>2.000000</td>\n",
       "      <td>1.000000</td>\n",
       "      <td>1.000000</td>\n",
       "      <td>1.000000</td>\n",
       "      <td>2.000000</td>\n",
       "      <td>1.000000</td>\n",
       "      <td>2.000000</td>\n",
       "      <td>1.000000</td>\n",
       "      <td>1.000000</td>\n",
       "      <td>2.000000</td>\n",
       "    </tr>\n",
       "    <tr>\n",
       "      <th>50%</th>\n",
       "      <td>4.000000</td>\n",
       "      <td>1.000000</td>\n",
       "      <td>2.000000</td>\n",
       "      <td>1.000000</td>\n",
       "      <td>2.000000</td>\n",
       "      <td>1.000000</td>\n",
       "      <td>3.000000</td>\n",
       "      <td>1.000000</td>\n",
       "      <td>1.000000</td>\n",
       "      <td>2.000000</td>\n",
       "    </tr>\n",
       "    <tr>\n",
       "      <th>75%</th>\n",
       "      <td>7.000000</td>\n",
       "      <td>5.000000</td>\n",
       "      <td>6.000000</td>\n",
       "      <td>4.000000</td>\n",
       "      <td>4.000000</td>\n",
       "      <td>8.000000</td>\n",
       "      <td>5.000000</td>\n",
       "      <td>5.000000</td>\n",
       "      <td>1.000000</td>\n",
       "      <td>4.000000</td>\n",
       "    </tr>\n",
       "    <tr>\n",
       "      <th>max</th>\n",
       "      <td>100.000000</td>\n",
       "      <td>100.000000</td>\n",
       "      <td>100.000000</td>\n",
       "      <td>100.000000</td>\n",
       "      <td>100.000000</td>\n",
       "      <td>100.000000</td>\n",
       "      <td>70.000000</td>\n",
       "      <td>100.000000</td>\n",
       "      <td>70.000000</td>\n",
       "      <td>40.000000</td>\n",
       "    </tr>\n",
       "  </tbody>\n",
       "</table>\n",
       "</div>"
      ],
      "text/plain": [
       "       Clump_Thickness  Uniformity_of_Cell_Size  Uniformity_of_Cell_Shape  \\\n",
       "count       666.000000               666.000000                666.000000   \n",
       "mean          6.539039                 4.933835                  4.739850   \n",
       "std          12.259934                11.230268                  9.476524   \n",
       "min           1.000000                 1.000000                  1.000000   \n",
       "25%           2.000000                 1.000000                  1.000000   \n",
       "50%           4.000000                 1.000000                  2.000000   \n",
       "75%           7.000000                 5.000000                  6.000000   \n",
       "max         100.000000               100.000000                100.000000   \n",
       "\n",
       "       Marginal_Adhesion  Single_Epithelial_Cell_Size  Bare_Nuclei  \\\n",
       "count         666.000000                   666.000000   666.000000   \n",
       "mean            4.318797                     4.387970     5.436055   \n",
       "std             9.881281                     7.317905    11.953519   \n",
       "min             1.000000                     1.000000     1.000000   \n",
       "25%             1.000000                     2.000000     1.000000   \n",
       "50%             1.000000                     2.000000     1.000000   \n",
       "75%             4.000000                     4.000000     8.000000   \n",
       "max           100.000000                   100.000000   100.000000   \n",
       "\n",
       "       Bland_Chromatin  Normal_Nucleoli     Mitoses       Class  \n",
       "count       666.000000       666.000000  666.000000  666.000000  \n",
       "mean          4.786466         4.236090    2.048120    3.810526  \n",
       "std           8.173097         9.114141    3.690765    6.122082  \n",
       "min           1.000000         1.000000    1.000000    2.000000  \n",
       "25%           2.000000         1.000000    1.000000    2.000000  \n",
       "50%           3.000000         1.000000    1.000000    2.000000  \n",
       "75%           5.000000         5.000000    1.000000    4.000000  \n",
       "max          70.000000       100.000000   70.000000   40.000000  "
      ]
     },
     "execution_count": 380,
     "metadata": {},
     "output_type": "execute_result"
    }
   ],
   "source": [
    "# Examine data summary\n",
    "data_numeric.drop(columns=['Index', 'ID']).describe()"
   ]
  },
  {
   "cell_type": "code",
   "execution_count": null,
   "metadata": {},
   "outputs": [],
   "source": [
    "# Create pandas profile report - [don't include?]\n",
    "from pandas_profiling import ProfileReport\n",
    "profile = ProfileReport(data_raw, title='Pandas Profiling Report', html={'style':{'full_width': True}})\n",
    "profile.to_notebook_iframe()"
   ]
  },
  {
   "cell_type": "markdown",
   "metadata": {},
   "source": [
    "#### 4.2 Feature histograms "
   ]
  },
  {
   "cell_type": "code",
   "execution_count": 222,
   "metadata": {
    "scrolled": true
   },
   "outputs": [],
   "source": [
    "# # plot distributions\n",
    "# import numpy as np\n",
    "\n",
    "# for column in data_numeric.columns[2:]:\n",
    "#     print(column)\n",
    "#     data = data_numeric[str(column)]\n",
    "\n",
    "#     # textbox\n",
    "#     average = round(np.nanmean(data), 2)\n",
    "#     median = round(np.nanmedian(data), 2)\n",
    "#     stdev = round(np.std(data), 2)\n",
    "#     props = dict(facecolor='white', edgecolor='none', alpha=0.67, boxstyle='square, pad=1')\n",
    "#     textbox = str(column) + ' \\nAverage = %.1f \\nMedian = %.1f \\nStdev = %.1f' % (average, median, stdev)\n",
    "\n",
    "#     xlabel = 'Value'\n",
    "#     ylabel = 'Counts'\n",
    "\n",
    "#     from plotfunctions import plot_hist\n",
    "#     plot_hist(data, textbox, props, xlabel, ylabel)"
   ]
  },
  {
   "cell_type": "code",
   "execution_count": null,
   "metadata": {
    "scrolled": false
   },
   "outputs": [],
   "source": [
    "# plot distributions, this time without the outliers\n",
    "import numpy as np\n",
    "\n",
    "for column in data_no_outliers.columns[2:]:\n",
    "    print(column)\n",
    "    data = data_no_outliers[str(column)]\n",
    "    \n",
    "    # textbox\n",
    "    average = round(np.nanmean(data), 2)\n",
    "    median = round(np.nanmedian(data), 2)\n",
    "    stdev = round(np.std(data), 2)\n",
    "    props = dict(facecolor='white', edgecolor='none', alpha=0.67, boxstyle='square, pad=1')\n",
    "    textbox = str(column) + ' \\nAverage = %.1f \\nMedian = %.1f \\nStdev = %.1f' % (average, median, stdev)\n",
    "\n",
    "    import numpy as np\n",
    "    xlabel = 'Value'\n",
    "    ylabel = 'Counts'\n",
    "\n",
    "    from plotfunctions import plot_hist\n",
    "    plot_hist(data, textbox, props, xlabel, ylabel)"
   ]
  },
  {
   "cell_type": "markdown",
   "metadata": {},
   "source": [
    "#### 4.3 Feature correlation  "
   ]
  },
  {
   "cell_type": "code",
   "execution_count": 389,
   "metadata": {},
   "outputs": [
    {
     "data": {
      "text/html": [
       "<div>\n",
       "<style scoped>\n",
       "    .dataframe tbody tr th:only-of-type {\n",
       "        vertical-align: middle;\n",
       "    }\n",
       "\n",
       "    .dataframe tbody tr th {\n",
       "        vertical-align: top;\n",
       "    }\n",
       "\n",
       "    .dataframe thead th {\n",
       "        text-align: right;\n",
       "    }\n",
       "</style>\n",
       "<table border=\"1\" class=\"dataframe\">\n",
       "  <thead>\n",
       "    <tr style=\"text-align: right;\">\n",
       "      <th></th>\n",
       "      <th>Clump Thickness</th>\n",
       "      <th>Uniformity of Cell Size</th>\n",
       "      <th>Uniformity of Cell Shape</th>\n",
       "      <th>Marginal Adhesion</th>\n",
       "      <th>Single Epithelial Cell Size</th>\n",
       "      <th>Bare Nuclei</th>\n",
       "      <th>Bland Chromatin</th>\n",
       "      <th>Normal Nucleoli</th>\n",
       "      <th>Mitoses</th>\n",
       "    </tr>\n",
       "  </thead>\n",
       "  <tbody>\n",
       "    <tr>\n",
       "      <th>Clump Thickness</th>\n",
       "      <td>1.000000</td>\n",
       "      <td>0.620439</td>\n",
       "      <td>0.632527</td>\n",
       "      <td>0.456534</td>\n",
       "      <td>0.473682</td>\n",
       "      <td>0.588434</td>\n",
       "      <td>0.534648</td>\n",
       "      <td>0.499713</td>\n",
       "      <td>0.324192</td>\n",
       "    </tr>\n",
       "    <tr>\n",
       "      <th>Uniformity of Cell Size</th>\n",
       "      <td>0.620439</td>\n",
       "      <td>1.000000</td>\n",
       "      <td>0.909888</td>\n",
       "      <td>0.677045</td>\n",
       "      <td>0.716391</td>\n",
       "      <td>0.623648</td>\n",
       "      <td>0.740090</td>\n",
       "      <td>0.696524</td>\n",
       "      <td>0.434286</td>\n",
       "    </tr>\n",
       "    <tr>\n",
       "      <th>Uniformity of Cell Shape</th>\n",
       "      <td>0.632527</td>\n",
       "      <td>0.909888</td>\n",
       "      <td>1.000000</td>\n",
       "      <td>0.650110</td>\n",
       "      <td>0.683095</td>\n",
       "      <td>0.655548</td>\n",
       "      <td>0.727016</td>\n",
       "      <td>0.698070</td>\n",
       "      <td>0.426441</td>\n",
       "    </tr>\n",
       "    <tr>\n",
       "      <th>Marginal Adhesion</th>\n",
       "      <td>0.456534</td>\n",
       "      <td>0.677045</td>\n",
       "      <td>0.650110</td>\n",
       "      <td>1.000000</td>\n",
       "      <td>0.538014</td>\n",
       "      <td>0.619494</td>\n",
       "      <td>0.635563</td>\n",
       "      <td>0.537569</td>\n",
       "      <td>0.391034</td>\n",
       "    </tr>\n",
       "    <tr>\n",
       "      <th>Single Epithelial Cell Size</th>\n",
       "      <td>0.473682</td>\n",
       "      <td>0.716391</td>\n",
       "      <td>0.683095</td>\n",
       "      <td>0.538014</td>\n",
       "      <td>1.000000</td>\n",
       "      <td>0.473303</td>\n",
       "      <td>0.564153</td>\n",
       "      <td>0.592487</td>\n",
       "      <td>0.499794</td>\n",
       "    </tr>\n",
       "    <tr>\n",
       "      <th>Bare Nuclei</th>\n",
       "      <td>0.588434</td>\n",
       "      <td>0.623648</td>\n",
       "      <td>0.655548</td>\n",
       "      <td>0.619494</td>\n",
       "      <td>0.473303</td>\n",
       "      <td>1.000000</td>\n",
       "      <td>0.635248</td>\n",
       "      <td>0.507929</td>\n",
       "      <td>0.280776</td>\n",
       "    </tr>\n",
       "    <tr>\n",
       "      <th>Bland Chromatin</th>\n",
       "      <td>0.534648</td>\n",
       "      <td>0.740090</td>\n",
       "      <td>0.727016</td>\n",
       "      <td>0.635563</td>\n",
       "      <td>0.564153</td>\n",
       "      <td>0.635248</td>\n",
       "      <td>1.000000</td>\n",
       "      <td>0.641618</td>\n",
       "      <td>0.307859</td>\n",
       "    </tr>\n",
       "    <tr>\n",
       "      <th>Normal Nucleoli</th>\n",
       "      <td>0.499713</td>\n",
       "      <td>0.696524</td>\n",
       "      <td>0.698070</td>\n",
       "      <td>0.537569</td>\n",
       "      <td>0.592487</td>\n",
       "      <td>0.507929</td>\n",
       "      <td>0.641618</td>\n",
       "      <td>1.000000</td>\n",
       "      <td>0.418247</td>\n",
       "    </tr>\n",
       "    <tr>\n",
       "      <th>Mitoses</th>\n",
       "      <td>0.324192</td>\n",
       "      <td>0.434286</td>\n",
       "      <td>0.426441</td>\n",
       "      <td>0.391034</td>\n",
       "      <td>0.499794</td>\n",
       "      <td>0.280776</td>\n",
       "      <td>0.307859</td>\n",
       "      <td>0.418247</td>\n",
       "      <td>1.000000</td>\n",
       "    </tr>\n",
       "  </tbody>\n",
       "</table>\n",
       "</div>"
      ],
      "text/plain": [
       "                             Clump Thickness  Uniformity of Cell Size  \\\n",
       "Clump Thickness                     1.000000                 0.620439   \n",
       "Uniformity of Cell Size             0.620439                 1.000000   \n",
       "Uniformity of Cell Shape            0.632527                 0.909888   \n",
       "Marginal Adhesion                   0.456534                 0.677045   \n",
       "Single Epithelial Cell Size         0.473682                 0.716391   \n",
       "Bare Nuclei                         0.588434                 0.623648   \n",
       "Bland Chromatin                     0.534648                 0.740090   \n",
       "Normal Nucleoli                     0.499713                 0.696524   \n",
       "Mitoses                             0.324192                 0.434286   \n",
       "\n",
       "                             Uniformity of Cell Shape  Marginal Adhesion  \\\n",
       "Clump Thickness                              0.632527           0.456534   \n",
       "Uniformity of Cell Size                      0.909888           0.677045   \n",
       "Uniformity of Cell Shape                     1.000000           0.650110   \n",
       "Marginal Adhesion                            0.650110           1.000000   \n",
       "Single Epithelial Cell Size                  0.683095           0.538014   \n",
       "Bare Nuclei                                  0.655548           0.619494   \n",
       "Bland Chromatin                              0.727016           0.635563   \n",
       "Normal Nucleoli                              0.698070           0.537569   \n",
       "Mitoses                                      0.426441           0.391034   \n",
       "\n",
       "                             Single Epithelial Cell Size  Bare Nuclei  \\\n",
       "Clump Thickness                                 0.473682     0.588434   \n",
       "Uniformity of Cell Size                         0.716391     0.623648   \n",
       "Uniformity of Cell Shape                        0.683095     0.655548   \n",
       "Marginal Adhesion                               0.538014     0.619494   \n",
       "Single Epithelial Cell Size                     1.000000     0.473303   \n",
       "Bare Nuclei                                     0.473303     1.000000   \n",
       "Bland Chromatin                                 0.564153     0.635248   \n",
       "Normal Nucleoli                                 0.592487     0.507929   \n",
       "Mitoses                                         0.499794     0.280776   \n",
       "\n",
       "                             Bland Chromatin  Normal Nucleoli   Mitoses  \n",
       "Clump Thickness                     0.534648         0.499713  0.324192  \n",
       "Uniformity of Cell Size             0.740090         0.696524  0.434286  \n",
       "Uniformity of Cell Shape            0.727016         0.698070  0.426441  \n",
       "Marginal Adhesion                   0.635563         0.537569  0.391034  \n",
       "Single Epithelial Cell Size         0.564153         0.592487  0.499794  \n",
       "Bare Nuclei                         0.635248         0.507929  0.280776  \n",
       "Bland Chromatin                     1.000000         0.641618  0.307859  \n",
       "Normal Nucleoli                     0.641618         1.000000  0.418247  \n",
       "Mitoses                             0.307859         0.418247  1.000000  "
      ]
     },
     "execution_count": 389,
     "metadata": {},
     "output_type": "execute_result"
    }
   ],
   "source": [
    "# Print table of feature correlation\n",
    "X_res_df.corr()"
   ]
  },
  {
   "cell_type": "code",
   "execution_count": 386,
   "metadata": {},
   "outputs": [
    {
     "data": {
      "image/png": "[encoded data removed]",
      "text/plain": [
       "<Figure size 792x648 with 1 Axes>"
      ]
     },
     "metadata": {
      "needs_background": "light"
     },
     "output_type": "display_data"
    }
   ],
   "source": [
    "# Plot correlation heatmap\n",
    "\n",
    "# Generate a mask for the upper triangle\n",
    "mask = np.triu(np.ones_like(X_res_df.corr(), dtype=np.bool))\n",
    "\n",
    "# Set up the matplotlib figure\n",
    "f, ax = plt.subplots(figsize=(11, 9))\n",
    "\n",
    "# Generate a custom diverging colormap\n",
    "cmap = sns.diverging_palette(260, 0, n=9, as_cmap=True)\n",
    "\n",
    "# Draw the heatmap with the mask and correct aspect ratio\n",
    "sns.heatmap(X_res_df.corr(), \n",
    "            mask=mask, \n",
    "            cmap=cmap, \n",
    "            annot=True,\n",
    "            annot_kws={\"fontsize\":18},\n",
    "            vmin=X_res_df.corr().min().min(), \n",
    "            vmax=X_res_df.corr().max().max(),\n",
    "            square=True, \n",
    "            linewidths=.5, \n",
    "            cbar=False)#### 4.2 Plot feature histograms \n",
    "plt.setp(ax.get_xticklabels(), rotation=45, ha='right', fontsize=14)\n",
    "plt.setp(ax.get_yticklabels(), rotation=0, ha='right', fontsize=14)\n",
    "ax.set_ylim(9,0)\n",
    "ax.set_facecolor([1,1,1])\n",
    "ax.set_title('Feature correlation', fontsize=18)\n",
    "plt.show()"
   ]
  },
  {
   "cell_type": "markdown",
   "metadata": {},
   "source": [
    "<a id='5'></a>\n",
    "### 5. Preprocessing"
   ]
  },
  {
   "cell_type": "markdown",
   "metadata": {},
   "source": [
    "### Overview\n",
    "\n",
    "5.1 Label re-labeling\n",
    "- Given labels 2 (benign) and 4 (malignant)\n",
    "- Converted to 0 (benign) and 1 (malignant)\n",
    "\n",
    "5.2. Class rebalancing with resampling \n",
    "- Class imbalance: 37% of entries are malignant, 63% are benign\n",
    "- Since data set is small (< 700 entries), will avoid dropping entries from benign class\n",
    "- Used sythetic minority oversampling technique (SMOTE) to rectify class imbalance"
   ]
  },
  {
   "cell_type": "markdown",
   "metadata": {},
   "source": [
    "#### 5.1 Label re-labeling"
   ]
  },
  {
   "cell_type": "code",
   "execution_count": 477,
   "metadata": {},
   "outputs": [],
   "source": [
    "# convert Class labels from 2 (ben) and 4 (mal) to 0 (ben) and 1 (mal)\n",
    "y = data_no_outliers.Class.astype(int).values\n",
    "y_binary = label_binarize(y, classes=[2, 4])[:,1]"
   ]
  },
  {
   "cell_type": "markdown",
   "metadata": {},
   "source": [
    "#### 5.2 Class rebalancing with resampling"
   ]
  },
  {
   "cell_type": "code",
   "execution_count": 476,
   "metadata": {},
   "outputs": [
    {
     "name": "stdout",
     "output_type": "stream",
     "text": [
      "Malignant: 234\n",
      "Benign: 408\n",
      "Fraction malignant: 0.364\n"
     ]
    }
   ],
   "source": [
    "# Feature/label Engineering - rectify unbalanced class abundance\n",
    "n_benign = len(y_binary[y_binary == 0])\n",
    "n_malignant = len(y_binary[y_binary == 1])\n",
    "print('Malignant: ' + str(n_malignant)) \n",
    "print('Benign: ' + str(n_benign)) \n",
    "print('Fraction malignant: ' + str(round(n_malignant/(n_malignant + n_benign),3)))"
   ]
  },
  {
   "cell_type": "code",
   "execution_count": null,
   "metadata": {
    "scrolled": true
   },
   "outputs": [],
   "source": [
    "from collections import Counter\n",
    "from sklearn.datasets import make_classification\n",
    "from imblearn.over_sampling import SMOTE # doctest: +NORMALIZE_WHITESPACE\n",
    "X, y = make_classification(n_classes=2, class_sep=2,\n",
    "weights=[0.1, 0.9], n_informative=3, n_redundant=1, flip_y=0,\n",
    "n_features=20, n_clusters_per_class=1, n_samples=1000, random_state=10)\n",
    "print('Original dataset shape %s' % Counter(y))\n",
    "\n",
    "sm = SMOTE(random_state=42)\n",
    "X_res, y_res = sm.fit_resample(X, y)\n",
    "print('Resampled dataset shape %s' % Counter(y_res))\n",
    "y"
   ]
  },
  {
   "cell_type": "code",
   "execution_count": 479,
   "metadata": {},
   "outputs": [],
   "source": [
    "# over-sample minority entries to get to 50/50 for classification\n",
    "from imblearn.over_sampling import SMOTE\n",
    "X = data_no_outliers.drop(columns=['Index', 'ID', 'Class'])\n",
    "sm = SMOTE(sampling_strategy='auto', k_neighbors=1, random_state=100)\n",
    "X_res, y_res = sm.fit_resample(X, y_binary)"
   ]
  },
  {
   "cell_type": "code",
   "execution_count": 486,
   "metadata": {},
   "outputs": [],
   "source": [
    "# Remake data frames\n",
    "X_res_df = pd.DataFrame(data=X_res, columns=X.columns)\n",
    "y_res_df = pd.DataFrame(data=y_res, columns=['Class'])"
   ]
  },
  {
   "cell_type": "code",
   "execution_count": 483,
   "metadata": {},
   "outputs": [
    {
     "name": "stdout",
     "output_type": "stream",
     "text": [
      "Malignant: 408\n",
      "Benign: 408\n",
      "Fraction malignant: 0.5\n"
     ]
    }
   ],
   "source": [
    "# confirm desired abundance of each class\n",
    "n_benign_res = len(y_res[y_res == 0])\n",
    "n_malignant_res = len(y_res[y_res == 1])\n",
    "print('Malignant: ' + str(n_malignant_res)) \n",
    "print('Benign: ' + str(n_benign_res)) \n",
    "print('Fraction malignant: ' + str(round(n_malignant_res/(n_malignant_res + n_benign_res),3)))"
   ]
  },
  {
   "cell_type": "markdown",
   "metadata": {},
   "source": [
    "<a id='6'></a>\n",
    "### 6. Machine Learning"
   ]
  },
  {
   "cell_type": "markdown",
   "metadata": {},
   "source": [
    "### Overview\n",
    "\n",
    "6.1 Principle component analysis (PCA)\n",
    "- Recast 9 features across 2 axes\n",
    "- Observed good visual separation between classes (benign vs. malignant)\n",
    "- Benign tumors concentrated in small area, malignant tumors sparsely distributed\n",
    "\n",
    "6.2. Classification via logistic regression\n",
    "- Model coefficients reveal relative feature importances\n",
    "\n",
    "6.3. Recursive feature elimination with cross validation (RFECV)\n",
    "- Retains 6 of 9 features\n",
    "- Eliminates 3 features: Single Epithelial Cell Size, Uniformity of Cell Size, Normal Nucleoli\n",
    "- With 6 features, model explains 87% of class variance (R2 ~ 0.87)"
   ]
  },
  {
   "cell_type": "markdown",
   "metadata": {},
   "source": [
    "#### 6.1 Principle component analysis (PCA)"
   ]
  },
  {
   "cell_type": "code",
   "execution_count": 493,
   "metadata": {},
   "outputs": [],
   "source": [
    "# PCA: fit 9 features to 2 principle components \n",
    "from sklearn.decomposition import PCA\n",
    "pca = PCA(n_components=2)\n",
    "principalComponents = pca.fit_transform(X_res_df)\n",
    "\n",
    "# Create dataframe of principle components (PCA X values)\n",
    "X_PCA_df = pd.DataFrame(data = principalComponents, \n",
    "                      columns = ['Component 1', 'Component 2'])\n",
    "\n",
    "# recombine PCA x-values and resampled y values\n",
    "X_y_PCA = pd.concat([X_PCA_df, y_res_df], axis = 1)\n",
    "# X_y_PCA[10:25]    # check result"
   ]
  },
  {
   "cell_type": "code",
   "execution_count": 494,
   "metadata": {},
   "outputs": [
    {
     "data": {
      "image/png": "[encoded data removed]",
      "text/plain": [
       "<Figure size 576x576 with 1 Axes>"
      ]
     },
     "metadata": {
      "needs_background": "light"
     },
     "output_type": "display_data"
    }
   ],
   "source": [
    "# Plot PCA result\n",
    "fig = plt.figure(figsize = (8,8))\n",
    "ax = fig.add_subplot(1,1,1) \n",
    "ax.set_xlabel('Component 1', fontsize = 16)\n",
    "ax.set_ylabel('Component 2', fontsize = 16)\n",
    "ax.set_title('\\nPCA: 9 tissue features condensed along 2 axes\\n', fontsize = 20)\n",
    "\n",
    "labels = [0, 1]\n",
    "colors = ['r', 'b']\n",
    "for label, color in zip(labels, colors):\n",
    "    indicesToKeep = X_y_PCA['Class'] == label\n",
    "    ax.scatter(X_y_PCA.loc[indicesToKeep, 'Component 1'],\n",
    "               X_y_PCA.loc[indicesToKeep, 'Component 2'],\n",
    "               c = color,\n",
    "               s = 50)\n",
    "plt.legend(title='Class', title_fontsize=18, labels=labels, fontsize=18)\n",
    "ax.tick_params(labelsize=14)"
   ]
  },
  {
   "cell_type": "markdown",
   "metadata": {},
   "source": [
    "#### 6.2. Logistic regression classifier and feature importances"
   ]
  },
  {
   "cell_type": "code",
   "execution_count": 498,
   "metadata": {},
   "outputs": [],
   "source": [
    "# Instantiate logistic regression classifier model \n",
    "from sklearn.linear_model import LogisticRegression\n",
    "from sklearn.feature_selection import RFECV\n",
    "logreg = LogisticRegression(solver='lbfgs')\n",
    "\n",
    "# model data using all features\n",
    "logreg.fit(X_res, y_res)\n",
    "\n",
    "# print feature importances\n",
    "logreg_feature_importances = pd.DataFrame({'Feature': X_res_df.columns,\n",
    "                                          'Coefficient': logreg.coef_[0]})\n",
    "# logreg_feature_importances   # check feature importances"
   ]
  },
  {
   "cell_type": "code",
   "execution_count": 499,
   "metadata": {},
   "outputs": [
    {
     "data": {
      "image/png": "[encoded data removed]",
      "text/plain": [
       "<Figure size 720x504 with 1 Axes>"
      ]
     },
     "metadata": {
      "needs_background": "light"
     },
     "output_type": "display_data"
    }
   ],
   "source": [
    "# plot bar graph of feature importances\n",
    "fig, ax = plt.subplots(1,1,figsize=(10,7))\n",
    "plt.bar(logreg_feature_importances.sort_values('Coefficient', ascending=False)['Feature'], \n",
    "        logreg_feature_importances.sort_values('Coefficient', ascending=False)['Coefficient'], \n",
    "        color='blue', \n",
    "        edgecolor='black')\n",
    "plt.xticks(rotation=45, ha='right')\n",
    "plt.title('\\nLogistic regression: feature importances\\n', size=22)\n",
    "plt.xlabel('Feature', size=18)\n",
    "plt.ylabel('Model coefficient\\n', size=18)\n",
    "ax.tick_params(labelsize=14)"
   ]
  },
  {
   "cell_type": "markdown",
   "metadata": {},
   "source": [
    "#### 6.3. Recursive feature elimination with cross-validation (RFECV)"
   ]
  },
  {
   "cell_type": "code",
   "execution_count": 502,
   "metadata": {},
   "outputs": [],
   "source": [
    "# Use recursive feature elimination with cross-validation (RFECV) to create model with most important features\n",
    "rfecv = RFECV(estimator=logreg, step=1, cv=5, scoring='r2')\n",
    "rfecv.fit(X_res, y_res)\n",
    "features_selected = [f for f,s in zip(X.columns, rfecv.support_) if s]"
   ]
  },
  {
   "cell_type": "code",
   "execution_count": 507,
   "metadata": {},
   "outputs": [
    {
     "name": "stdout",
     "output_type": "stream",
     "text": [
      "Optimal number of features : 6\n",
      "\n",
      "Rejected features are:\n",
      "['Single_Epithelial_Cell_Size', 'Uniformity_of_Cell_Size', 'Normal_Nucleoli']\n",
      "\n",
      "Model fit quality (R2) changes with successive feature inclusion as:\n",
      "[0.55874737 0.66672689 0.75486299 0.80391448 0.8480277  0.86763023\n",
      " 0.85781391 0.85290575 0.85290575]\n"
     ]
    }
   ],
   "source": [
    "# Display feature importances resulting from recursive feature elimination\n",
    "print(\"Optimal number of features : %d\" % rfecv.n_features_)\n",
    "\n",
    "# print(\"\\nSelected features are:\")\n",
    "# print([feature for feature in features_selected])\n",
    "# print(rfecv.estimator_.coef_)\n",
    "print(\"\\nRejected features are:\")\n",
    "print(list(set(X_res_df.columns) - set(features_selected)))\n",
    "print(\"\\nModel fit quality (R2) changes with successive feature inclusion as:\")\n",
    "print(rfecv.grid_scores_)"
   ]
  },
  {
   "cell_type": "code",
   "execution_count": 508,
   "metadata": {},
   "outputs": [
    {
     "data": {
      "text/html": [
       "<div>\n",
       "<style scoped>\n",
       "    .dataframe tbody tr th:only-of-type {\n",
       "        vertical-align: middle;\n",
       "    }\n",
       "\n",
       "    .dataframe tbody tr th {\n",
       "        vertical-align: top;\n",
       "    }\n",
       "\n",
       "    .dataframe thead th {\n",
       "        text-align: right;\n",
       "    }\n",
       "</style>\n",
       "<table border=\"1\" class=\"dataframe\">\n",
       "  <thead>\n",
       "    <tr style=\"text-align: right;\">\n",
       "      <th></th>\n",
       "      <th>Feature</th>\n",
       "      <th>Coefficient</th>\n",
       "    </tr>\n",
       "  </thead>\n",
       "  <tbody>\n",
       "    <tr>\n",
       "      <th>5</th>\n",
       "      <td>Mitoses</td>\n",
       "      <td>0.586482</td>\n",
       "    </tr>\n",
       "    <tr>\n",
       "      <th>0</th>\n",
       "      <td>Clump_Thickness</td>\n",
       "      <td>0.568634</td>\n",
       "    </tr>\n",
       "    <tr>\n",
       "      <th>3</th>\n",
       "      <td>Bare_Nuclei</td>\n",
       "      <td>0.424296</td>\n",
       "    </tr>\n",
       "    <tr>\n",
       "      <th>4</th>\n",
       "      <td>Bland_Chromatin</td>\n",
       "      <td>0.412479</td>\n",
       "    </tr>\n",
       "    <tr>\n",
       "      <th>2</th>\n",
       "      <td>Marginal_Adhesion</td>\n",
       "      <td>0.397576</td>\n",
       "    </tr>\n",
       "    <tr>\n",
       "      <th>1</th>\n",
       "      <td>Uniformity_of_Cell_Shape</td>\n",
       "      <td>0.370186</td>\n",
       "    </tr>\n",
       "  </tbody>\n",
       "</table>\n",
       "</div>"
      ],
      "text/plain": [
       "                    Feature  Coefficient\n",
       "5                   Mitoses     0.586482\n",
       "0           Clump_Thickness     0.568634\n",
       "3               Bare_Nuclei     0.424296\n",
       "4           Bland_Chromatin     0.412479\n",
       "2         Marginal_Adhesion     0.397576\n",
       "1  Uniformity_of_Cell_Shape     0.370186"
      ]
     },
     "execution_count": 508,
     "metadata": {},
     "output_type": "execute_result"
    }
   ],
   "source": [
    "# Create feature importances data frame and display result\n",
    "feature_importances = pd.DataFrame(zip(features_selected, rfecv.estimator_.coef_[0]))\n",
    "feature_importances = pd.DataFrame({'Feature': features_selected, \n",
    "                                    'Coefficient': rfecv.estimator_.coef_[0]})\n",
    "feature_importances.sort_values('Coefficient', ascending=False)"
   ]
  },
  {
   "cell_type": "code",
   "execution_count": 513,
   "metadata": {},
   "outputs": [
    {
     "data": {
      "image/png": "[encoded data removed]",
      "text/plain": [
       "<Figure size 720x504 with 1 Axes>"
      ]
     },
     "metadata": {
      "needs_background": "light"
     },
     "output_type": "display_data"
    }
   ],
   "source": [
    "# Plot number of features VS. cross-validation scores\n",
    "import matplotlib.pyplot as plt\n",
    "fig, ax = plt.subplots(1,1,figsize=(10,7))\n",
    "plt.xlabel(\"Number of features selected\", fontsize=18)\n",
    "plt.ylabel(\"Cross validation score\", fontsize=18)\n",
    "plt.plot(range(1, len(rfecv.grid_scores_) + 1), rfecv.grid_scores_)\n",
    "ax.tick_params(labelsize=14)\n",
    "plt.show()"
   ]
  },
  {
   "cell_type": "markdown",
   "metadata": {},
   "source": [
    "<a id='7'></a>\n",
    "### 7. Model evaluation"
   ]
  },
  {
   "cell_type": "markdown",
   "metadata": {},
   "source": [
    "### Overview\n",
    "\n",
    "7.1 Confusion matrix\n",
    "- Trained on 75% of data, tested on remaining 25%\n",
    "- Guessed correct label for 96.6% of test set\n",
    "- Incorrect label for 7 entries - 3 false negatives and 4 false positives\n",
    "- Future work: may bias model towards recall (avoid false negatives)\n",
    "\n",
    "7.2 Receiver-operating characteristic (ROC) analysis\n",
    "- Area under curve: 99.3% \n",
    "- Strong ability to discriminate between benign and malignant tumors\n",
    "\n",
    "7.3 Precision-recall tradeoff\n",
    "- Precision: TP / (TP + FP)\n",
    "- Recall: TP / (TP + FN)\n",
    "- Attain 100% precision at 62% recall \n",
    "- Attain 100% recall at 95% precision\n",
    "- Given danger of false negatives (cancer goes undetected), may wish to bias model towards recall"
   ]
  },
  {
   "cell_type": "markdown",
   "metadata": {},
   "source": [
    "#### 7.1. Confusion matrix"
   ]
  },
  {
   "cell_type": "code",
   "execution_count": 520,
   "metadata": {},
   "outputs": [],
   "source": [
    "# Create train-test split\n",
    "from sklearn.model_selection import train_test_split\n",
    "X_train, X_test, y_train, y_test = train_test_split(X_res, y_res, test_size=0.25, random_state=101)"
   ]
  },
  {
   "cell_type": "code",
   "execution_count": 521,
   "metadata": {},
   "outputs": [],
   "source": [
    "# Predict class labels for test set and evaluate with confusion matrix\n",
    "y_pred = rfecv.predict(X_test)\n",
    "\n",
    "from sklearn.metrics import confusion_matrix, accuracy_score\n",
    "cm = confusion_matrix(y_test, y_pred)\n",
    "score = accuracy_score(y_test, y_pred)"
   ]
  },
  {
   "cell_type": "code",
   "execution_count": 522,
   "metadata": {},
   "outputs": [
    {
     "name": "stdout",
     "output_type": "stream",
     "text": [
      "               2 (benign)  4 (malignant)\n",
      "2 (benign)            103              4\n",
      "4 (malignant)           3             94\n",
      "Score: 0.966\n"
     ]
    }
   ],
   "source": [
    "# Print confusion matrix report\n",
    "cm_df = pd.DataFrame(cm, index = ['2 (benign)', '4 (malignant)'], columns = ['2 (benign)', '4 (malignant)'])\n",
    "print(cm_df)\n",
    "print('Score: ' + str(round(score,3)))"
   ]
  },
  {
   "cell_type": "code",
   "execution_count": 523,
   "metadata": {},
   "outputs": [
    {
     "data": {
      "image/png": "[encoded data removed]",
      "text/plain": [
       "<Figure size 360x360 with 1 Axes>"
      ]
     },
     "metadata": {
      "needs_background": "light"
     },
     "output_type": "display_data"
    }
   ],
   "source": [
    "# Plot confusion matrix\n",
    "import seaborn as sns\n",
    "fig, ax = plt.subplots(figsize = (5,5))\n",
    "\n",
    "x_labels = ['2: benign','4: malignant']\n",
    "y_labels = ['2: benign','4: malignant'] \n",
    "\n",
    "sns.heatmap(cm_df, \n",
    "            annot=True, annot_kws={\"size\": 22}, \n",
    "            fmt=\"d\", cmap=\"YlGnBu\", \n",
    "            cbar=False, linecolor = 'black', linewidths=.5,\n",
    "            xticklabels=x_labels, yticklabels=y_labels)\n",
    "\n",
    "plt.title('\\nClassification via logistic regression: \\nbenign or malignant (accuracy: %s)\\n' % round(score,3), fontsize=16)\n",
    "plt.xlabel('\\nPredicted label', fontsize=14)\n",
    "plt.ylabel('True label\\n', fontsize=14)\n",
    "plt.ylim(0, 2)\n",
    "plt.yticks(va='center')\n",
    "ax.tick_params(labelsize=14)\n",
    "ax.invert_yaxis()"
   ]
  },
  {
   "cell_type": "markdown",
   "metadata": {},
   "source": [
    "#### 7.2. Receiver-operating characteristic (ROC) analysis"
   ]
  },
  {
   "cell_type": "code",
   "execution_count": 562,
   "metadata": {},
   "outputs": [],
   "source": [
    "# # Plot (simple) ROC analysis\n",
    "# from sklearn import svm, datasets\n",
    "# from sklearn.metrics import auc\n",
    "# from sklearn.metrics import roc_auc_score\n",
    "# from sklearn.metrics import roc_curve\n",
    "# from sklearn.model_selection import StratifiedKFold\n",
    "\n",
    "# lr_probs = rfecv.predict_proba(X_test)[:, 1]\n",
    "# ns_probs = [0 for _ in range(len(y_test))]\n",
    "\n",
    "# # calculate scores\n",
    "# ns_auc = roc_auc_score(y_test, ns_probs)\n",
    "# lr_auc = roc_auc_score(y_test, lr_probs)\n",
    "\n",
    "# # summarize scores\n",
    "# print('No Skill: ROC AUC=%.3f' % (ns_auc))\n",
    "# print('Logistic: ROC AUC=%.3f' % (lr_auc))\n",
    "\n",
    "# # calculate ROC curves\n",
    "# ns_fpr, ns_tpr, _ = roc_curve(y_test, ns_probs)\n",
    "# lr_fpr, lr_tpr, _ = roc_curve(y_test, lr_probs)\n",
    "\n",
    "# # plot ROC results\n",
    "# fig, ax = plt.subplots(figsize = (5,5))\n",
    "# plt.plot(ns_fpr, ns_tpr, linestyle='--', label='No Skill')\n",
    "# plt.plot(lr_fpr, lr_tpr, label='Logistic')\n",
    "# plt.title('ROC: tumor classification')\n",
    "# plt.xlabel('False Positive Rate')\n",
    "# plt.ylabel('True Positive Rate')\n",
    "# plt.legend()\n",
    "# plt.show()"
   ]
  },
  {
   "cell_type": "code",
   "execution_count": 563,
   "metadata": {},
   "outputs": [
    {
     "data": {
      "image/png": "[encoded data removed]",
      "text/plain": [
       "<Figure size 504x504 with 1 Axes>"
      ]
     },
     "metadata": {
      "needs_background": "light"
     },
     "output_type": "display_data"
    }
   ],
   "source": [
    "# Plot (elaborate) ROC analysis\n",
    "from sklearn import svm, datasets\n",
    "from sklearn.metrics import auc\n",
    "from sklearn.metrics import plot_roc_curve\n",
    "from sklearn.model_selection import StratifiedKFold\n",
    "\n",
    "# Run classifier with cross-validation and plot ROC curves\n",
    "cv = StratifiedKFold(n_splits=6)\n",
    "classifier = svm.SVC(kernel='linear', \n",
    "                     probability=True,\n",
    "                     random_state=1)\n",
    "\n",
    "tprs = []\n",
    "aucs = []\n",
    "mean_fpr = np.linspace(0, 1, 100)\n",
    "\n",
    "fig, ax = plt.subplots(figsize = (7,7))\n",
    "for i, (train, test) in enumerate(cv.split(X_res, y_res)):\n",
    "    classifier.fit(X_train, y_train)\n",
    "    viz = plot_roc_curve(classifier, X_train, y_train,\n",
    "                         name='ROC fold {}'.format(i),\n",
    "                         alpha=0.3, lw=1, ax=ax)\n",
    "    interp_tpr = np.interp(mean_fpr, viz.fpr, viz.tpr)\n",
    "    interp_tpr[0] = 0.0\n",
    "    tprs.append(interp_tpr)\n",
    "    aucs.append(viz.roc_auc)\n",
    "\n",
    "ax.plot([0, 1], [0, 1], linestyle='--', lw=2, color='r',\n",
    "        label='Chance', alpha=.8)\n",
    "\n",
    "mean_tpr = np.mean(tprs, axis=0)\n",
    "mean_tpr[-1] = 1.0\n",
    "mean_auc = auc(mean_fpr, mean_tpr)\n",
    "std_auc = np.std(aucs)\n",
    "ax.plot(mean_fpr, mean_tpr, color='b',\n",
    "        label=r'Mean ROC (AUC = %0.3f $\\pm$ %0.3f)' % (mean_auc, std_auc),\n",
    "        lw=2, alpha=.8)\n",
    "\n",
    "std_tpr = np.std(tprs, axis=0)\n",
    "tprs_upper = np.minimum(mean_tpr + std_tpr, 1)\n",
    "tprs_lower = np.maximum(mean_tpr - std_tpr, 0)\n",
    "ax.fill_between(mean_fpr, tprs_lower, tprs_upper, color='blue', alpha=.2,\n",
    "                label=r'$\\pm$ 1 std. dev.')\n",
    "\n",
    "ax.set(xlim=[-0.05, 1.05], ylim=[-0.05, 1.05])\n",
    "plt.title('ROC: tumor classification', fontsize=20)\n",
    "plt.xlabel('\\nTrue Positive Rate', fontsize=14)\n",
    "plt.ylabel('False Positive Rate\\n', fontsize=14)\n",
    "ax.legend(loc=\"lower right\", fontsize=12)\n",
    "ax.tick_params(labelsize=14)\n",
    "plt.show()"
   ]
  },
  {
   "cell_type": "markdown",
   "metadata": {},
   "source": [
    "#### 7.3. Precision-recall tradeoff"
   ]
  },
  {
   "cell_type": "code",
   "execution_count": 565,
   "metadata": {},
   "outputs": [
    {
     "data": {
      "image/png": "[encoded data removed]",
      "text/plain": [
       "<Figure size 432x288 with 1 Axes>"
      ]
     },
     "metadata": {
      "needs_background": "light"
     },
     "output_type": "display_data"
    }
   ],
   "source": [
    "# Plot precision-recall curve\n",
    "from sklearn.metrics import average_precision_score\n",
    "from sklearn.metrics import precision_recall_curve\n",
    "from sklearn.metrics import plot_precision_recall_curve\n",
    "\n",
    "disp = plot_precision_recall_curve(rfecv, X_test, y_test)\n",
    "disp.ax_.set_title('Precision-Recall')\n",
    "plt.show()"
   ]
  }
 ],
 "metadata": {
  "kernelspec": {
   "display_name": "Python 3",
   "language": "python",
   "name": "python3"
  },
  "language_info": {
   "codemirror_mode": {
    "name": "ipython",
    "version": 3
   },
   "file_extension": ".py",
   "mimetype": "text/x-python",
   "name": "python",
   "nbconvert_exporter": "python",
   "pygments_lexer": "ipython3",
   "version": "3.7.3"
  }
 },
 "nbformat": 4,
 "nbformat_minor": 4
}
