{
 "cells": [
  {
   "cell_type": "markdown",
   "metadata": {},
   "source": [
    "# Instacart\n",
    "# Michael Boles\n",
    "# Data challenge: shopper hiring problem"
   ]
  },
  {
   "cell_type": "markdown",
   "metadata": {},
   "source": [
    "<a id='1'></a>\n",
    "## Prompt and Executive Summary\n",
    "\n",
    "### Prompt\n",
    "A/B testing shopper hiring funnel - will moving background check earlier in hiring sequence improve conversion rate? Conversion = shopper completing first batch. \n",
    "\n",
    "Background check costs \\\\$30. Shopper must complete this and activate prepaid debit card before they can go on to complete first batch. \n",
    "\n",
    "1.\tWhat can be concluded from A/B test? With what confidence can conclusions be made?\n",
    "2.\tIs this change cost effective? How can we think about ROI? What if background check were \\\\$50 or \\\\$100?"
   ]
  },
  {
   "cell_type": "markdown",
   "metadata": {},
   "source": [
    "### Response (executive summary)\n",
    "\n",
    "#### A/B test conclusions\n",
    "  - Success metric: fraction of prospective shoppers who complete their first batch of grocery deliveries\n",
    "  - Measured success rates\n",
    "   - Control: **19.8%**\n",
    "     - About 1 in 5 prospective shoppers converts \n",
    "     - Control group has *self-paced background check initiation* upon beginning shopper application\n",
    "   - Treatment: **34.3%** \n",
    "     - About 1 in 3 prospective shoppers converts\n",
    "     - Treatment group is *required to immediately initiate background check* step upon applying\n",
    "  - Difference in success rates \n",
    "   - **14.5 percentage point increase** in shopper conversions with immediate background check initiation \n",
    "   - 95% confidence interval spans **12.1 to 16.9 percentage point increase**\n",
    "  - Conclusion\n",
    "   - Reject null hypothesis - required immediate initiation of background check *does* meaningfully increase shopper conversion \n",
    "   - Recommendation: **launch** this feature\n",
    " \n",
    "#### Cost effectiveness of change\n",
    "- Basic logic\n",
    "    - Must compare: \n",
    "        - **Gain**: value of increased shopper conversion rate\n",
    "          - More shoppers leads to increased delivery capacity\n",
    "          - *Fewer delivery windows must be turned off* during demand spikes\n",
    "          - Increased revenue during demand spikes\n",
    "          - May be expressed in terms of average lifetime value (LTV) of shopper to Instacart\n",
    "          - Probably diminishing returns (LTV -> 0) as each additional shopper lessens the (diminishing) supply-demand gap\n",
    "        - **Loss**: waste from potential increase in non-converting background checks\n",
    "          - Background checks done on prospective shoppers who do not complete first batch delivery\n",
    "          - A loss would correspond to increase in number of non-converting background checks from new policy\n",
    "\n",
    "<br>\n",
    "- Mathematical expressions \n",
    "\n",
    "\\begin{equation*}\n",
    "{\\mathrm{Gain}} = \\Delta n_{\\mathrm{shopper}} \\cdot LTV_{\\mathrm{shopper}} \n",
    "\\end{equation*} \n",
    "&nbsp;&nbsp;&nbsp;&nbsp;&nbsp;&nbsp;&nbsp;&nbsp;&nbsp;&nbsp;&nbsp;&nbsp;\n",
    "where $\\Delta n_{\\mathrm{shopper}}$ = change in number of shoppers <br>\n",
    "&nbsp;&nbsp;&nbsp;&nbsp;&nbsp;&nbsp;&nbsp;&nbsp;&nbsp;&nbsp;&nbsp;&nbsp;\n",
    "and $LTV_{\\mathrm{shopper}}$ = average lifetime value of a shopper, reflecting increased order capture during demand spikes \n",
    "\n",
    "<br><br>\n",
    "\n",
    "\\begin{equation*}\n",
    "{\\mathrm{Loss}} = \\Delta n_{\\mathrm{bckd\\ check\\ waste}} \\cdot P_{\\mathrm{bckd\\ check}}\n",
    "\\end{equation*}    \n",
    "&nbsp;&nbsp;&nbsp;&nbsp;&nbsp;&nbsp;&nbsp;&nbsp;&nbsp;&nbsp;&nbsp;&nbsp;\n",
    "where $\\Delta n_{\\mathrm{bckd\\ check\\ waste}}$ = change in number of non-converting background checks <br>\n",
    "&nbsp;&nbsp;&nbsp;&nbsp;&nbsp;&nbsp;&nbsp;&nbsp;&nbsp;&nbsp;&nbsp;&nbsp;\n",
    "and $P_{\\mathrm{bckd\\ check}}$ = cost per background check\n",
    "\n",
    "<br>\n",
    "\n",
    "\\begin{equation*}\n",
    "{\\mathrm{ROI}} = \\frac{{\\mathrm{Gain}} - {\\mathrm{Loss}}}{{\\mathrm{Loss}}}  \n",
    "\\end{equation*}\n",
    "\n",
    "<br>\n",
    "\n",
    "<!-- - Mathematical expressions    \n",
    "    - *Value gain* from increased shopper conversion: number of shoppers gained * lifetime value of a shopper to Instacart (unknown, probably related to ability to fulfill orders in periods of high demand)\n",
    "    - *Loss* from background check waste: money spent on background checks for shoppers who don't complete a batch\n",
    "    - If gain from increased shopper conversion > loss from increased background check waste, recommend launching this change\n",
    "    - *Return on investment* = Incremental profit from Instacart having additional shoppers to meet demand surges / Added cost from increased background checks  -->\n",
    "\n",
    "- Conclusions\n",
    " - Recommend implementing change if ROI is positive (more specifically, if ROI for this project is higher than that of other available projects within company)\n",
    "   - Cannot calculate ROI directly since shopper lifetime value (LTV) is unknown\n",
    "   - Can, however, look into change in background check waste associated with change in background check initiation requirement\n",
    " - Fraction of prospective shoppers initiating background check step who ultimately drop out before completing first batch delivery:\n",
    "     - Control group: **73.5%** (26.5% conversion) \n",
    "     - Treatment group: **65.7%** (34.3% conversion)\n",
    " - Initiating the background check immediately actually *reduces* background check losses by **7.8 percentage points**!\n",
    " - If cost of background check were higher (e.g., \\\\$50 or \\\\$100) the cost savings associated with introducing a requirement for immediate initiation of background check step would be even greater"
   ]
  },
  {
   "cell_type": "markdown",
   "metadata": {
    "toc": true
   },
   "source": [
    "<h1>Table of Contents<span class=\"tocSkip\"></span></h1>\n",
    "<div class=\"toc\"><ul class=\"toc-item\"><li><span><a href=\"#Prompt-and-Executive-Summary\" data-toc-modified-id=\"Prompt-and-Executive-Summary-1\"><span class=\"toc-item-num\">1&nbsp;&nbsp;</span>Prompt and Executive Summary</a></span><ul class=\"toc-item\"><li><span><a href=\"#Prompt\" data-toc-modified-id=\"Prompt-1.1\"><span class=\"toc-item-num\">1.1&nbsp;&nbsp;</span>Prompt</a></span></li><li><span><a href=\"#Response-(executive-summary)\" data-toc-modified-id=\"Response-(executive-summary)-1.2\"><span class=\"toc-item-num\">1.2&nbsp;&nbsp;</span>Response (executive summary)</a></span><ul class=\"toc-item\"><li><span><a href=\"#A/B-test-conclusions\" data-toc-modified-id=\"A/B-test-conclusions-1.2.1\"><span class=\"toc-item-num\">1.2.1&nbsp;&nbsp;</span>A/B test conclusions</a></span></li><li><span><a href=\"#Cost-effectiveness-of-change\" data-toc-modified-id=\"Cost-effectiveness-of-change-1.2.2\"><span class=\"toc-item-num\">1.2.2&nbsp;&nbsp;</span>Cost effectiveness of change</a></span></li></ul></li></ul></li><li><span><a href=\"#Initial-Data-Analysis\" data-toc-modified-id=\"Initial-Data-Analysis-2\"><span class=\"toc-item-num\">2&nbsp;&nbsp;</span>Initial Data Analysis</a></span><ul class=\"toc-item\"><li><span><a href=\"#Loading-packages-and-data-set\" data-toc-modified-id=\"Loading-packages-and-data-set-2.1\"><span class=\"toc-item-num\">2.1&nbsp;&nbsp;</span>Loading packages and data set</a></span></li><li><span><a href=\"#Checking-size-of-data-set-and-data-types\" data-toc-modified-id=\"Checking-size-of-data-set-and-data-types-2.2\"><span class=\"toc-item-num\">2.2&nbsp;&nbsp;</span>Checking size of data set and data types</a></span></li><li><span><a href=\"#Looking-at-most-common-values,-frequency-of-missing-values\" data-toc-modified-id=\"Looking-at-most-common-values,-frequency-of-missing-values-2.3\"><span class=\"toc-item-num\">2.3&nbsp;&nbsp;</span>Looking at most common values, frequency of missing values</a></span></li><li><span><a href=\"#Checking-applicant-data-for-duplicate-entries\" data-toc-modified-id=\"Checking-applicant-data-for-duplicate-entries-2.4\"><span class=\"toc-item-num\">2.4&nbsp;&nbsp;</span>Checking applicant data for duplicate entries</a></span></li></ul></li><li><span><a href=\"#Exploratory-Data-Analysis\" data-toc-modified-id=\"Exploratory-Data-Analysis-3\"><span class=\"toc-item-num\">3&nbsp;&nbsp;</span>Exploratory Data Analysis</a></span><ul class=\"toc-item\"><li><span><a href=\"#Feature-bar-graphs\" data-toc-modified-id=\"Feature-bar-graphs-3.1\"><span class=\"toc-item-num\">3.1&nbsp;&nbsp;</span>Feature bar graphs</a></span></li></ul></li><li><span><a href=\"#Data-Wrangling\" data-toc-modified-id=\"Data-Wrangling-4\"><span class=\"toc-item-num\">4&nbsp;&nbsp;</span>Data Wrangling</a></span><ul class=\"toc-item\"><li><span><a href=\"#Compile-application,-background,-and-conversion-dates-for-each-prospective-shopper\" data-toc-modified-id=\"Compile-application,-background,-and-conversion-dates-for-each-prospective-shopper-4.1\"><span class=\"toc-item-num\">4.1&nbsp;&nbsp;</span>Compile application, background, and conversion dates for each prospective shopper</a></span></li><li><span><a href=\"#Engineer-features:-time-interval-between-critical-steps-in-shopper-onboarding\" data-toc-modified-id=\"Engineer-features:-time-interval-between-critical-steps-in-shopper-onboarding-4.2\"><span class=\"toc-item-num\">4.2&nbsp;&nbsp;</span>Engineer features: time interval between critical steps in shopper onboarding</a></span></li><li><span><a href=\"#Plot-relevant-time-intervals-for-control,-test-groups\" data-toc-modified-id=\"Plot-relevant-time-intervals-for-control,-test-groups-4.3\"><span class=\"toc-item-num\">4.3&nbsp;&nbsp;</span>Plot relevant time intervals for control, test groups</a></span></li></ul></li><li><span><a href=\"#A/B-testing\" data-toc-modified-id=\"A/B-testing-5\"><span class=\"toc-item-num\">5&nbsp;&nbsp;</span>A/B testing</a></span><ul class=\"toc-item\"><li><span><a href=\"#Individual-success-rates\" data-toc-modified-id=\"Individual-success-rates-5.1\"><span class=\"toc-item-num\">5.1&nbsp;&nbsp;</span>Individual success rates</a></span></li><li><span><a href=\"#Pooled-success-rate,-standard-error\" data-toc-modified-id=\"Pooled-success-rate,-standard-error-5.2\"><span class=\"toc-item-num\">5.2&nbsp;&nbsp;</span>Pooled success rate, standard error</a></span></li><li><span><a href=\"#Observed-effect-and-95%-confidence-interval\" data-toc-modified-id=\"Observed-effect-and-95%-confidence-interval-5.3\"><span class=\"toc-item-num\">5.3&nbsp;&nbsp;</span>Observed effect and 95% confidence interval</a></span></li></ul></li><li><span><a href=\"#Cost-analysis\" data-toc-modified-id=\"Cost-analysis-6\"><span class=\"toc-item-num\">6&nbsp;&nbsp;</span>Cost analysis</a></span><ul class=\"toc-item\"><li><span><a href=\"#Gain-from-increased-shopper-conversion\" data-toc-modified-id=\"Gain-from-increased-shopper-conversion-6.1\"><span class=\"toc-item-num\">6.1&nbsp;&nbsp;</span>Gain from increased shopper conversion</a></span></li><li><span><a href=\"#Background-check-waste:-control-vs.-treatment\" data-toc-modified-id=\"Background-check-waste:-control-vs.-treatment-6.2\"><span class=\"toc-item-num\">6.2&nbsp;&nbsp;</span>Background check waste: control vs. treatment</a></span></li><li><span><a href=\"#Cost-of-background-check-waste\" data-toc-modified-id=\"Cost-of-background-check-waste-6.3\"><span class=\"toc-item-num\">6.3&nbsp;&nbsp;</span>Cost of background check waste</a></span></li></ul></li></ul></div>"
   ]
  },
  {
   "cell_type": "markdown",
   "metadata": {},
   "source": [
    "## Initial Data Analysis"
   ]
  },
  {
   "cell_type": "markdown",
   "metadata": {},
   "source": [
    "**Overview**\n",
    "\n",
    "2.1. Loading packages and applicant data set\n",
    "\n",
    "2.2. Checking size of applicant data set and data types \n",
    "- 100000+ rows (observations), 6 columns (features)\n",
    "- applicant ID: integer, other features: object \n",
    "\n",
    "2.3. Common values for a given feature, frequency of missing values\n",
    "- channel: web search, social media, shopper referral, or job search site\n",
    "- group: control or treatment\n",
    "- city: many (unfamiliar) cities, may be Scandanavian\n",
    "- event: dates for \n",
    "  - application\n",
    "  - card mailed\n",
    "  - background check initiated\n",
    "  - card activated\n",
    "  - background check completed\n",
    "  - first batch completed\n",
    "- event date: corresponding event\n",
    "\n",
    "2.4 Checking for duplicate entries\n",
    "- No duplicates found\n",
    "- Many applicant IDs are listed many (up to 7) times\n",
    "- But these must be multiple distinct events recorded for each prospective Instacart shopper"
   ]
  },
  {
   "cell_type": "markdown",
   "metadata": {},
   "source": [
    "### Loading packages and data set"
   ]
  },
  {
   "cell_type": "code",
   "execution_count": 3,
   "metadata": {},
   "outputs": [],
   "source": [
    "# Import libraries\n",
    "import pandas as pd\n",
    "import numpy as np\n",
    "import matplotlib.pyplot as plt\n",
    "%matplotlib inline\n",
    "import seaborn as sns"
   ]
  },
  {
   "cell_type": "code",
   "execution_count": 4,
   "metadata": {},
   "outputs": [],
   "source": [
    "# Import data set\n",
    "data_raw = pd.read_csv('./applicant_data.csv')"
   ]
  },
  {
   "cell_type": "code",
   "execution_count": 8,
   "metadata": {},
   "outputs": [
    {
     "data": {
      "text/html": [
       "<div>\n",
       "<style scoped>\n",
       "    .dataframe tbody tr th:only-of-type {\n",
       "        vertical-align: middle;\n",
       "    }\n",
       "\n",
       "    .dataframe tbody tr th {\n",
       "        vertical-align: top;\n",
       "    }\n",
       "\n",
       "    .dataframe thead th {\n",
       "        text-align: right;\n",
       "    }\n",
       "</style>\n",
       "<table border=\"1\" class=\"dataframe\">\n",
       "  <thead>\n",
       "    <tr style=\"text-align: right;\">\n",
       "      <th></th>\n",
       "      <th>applicant_id</th>\n",
       "      <th>channel</th>\n",
       "      <th>group</th>\n",
       "      <th>city</th>\n",
       "      <th>event</th>\n",
       "      <th>event_date</th>\n",
       "    </tr>\n",
       "  </thead>\n",
       "  <tbody>\n",
       "    <tr>\n",
       "      <th>0</th>\n",
       "      <td>10001</td>\n",
       "      <td>web-search-engine</td>\n",
       "      <td>control</td>\n",
       "      <td>Asgard</td>\n",
       "      <td>application_date</td>\n",
       "      <td>10/1/18</td>\n",
       "    </tr>\n",
       "    <tr>\n",
       "      <th>1</th>\n",
       "      <td>10002</td>\n",
       "      <td>social-media</td>\n",
       "      <td>control</td>\n",
       "      <td>Midgard</td>\n",
       "      <td>application_date</td>\n",
       "      <td>10/1/18</td>\n",
       "    </tr>\n",
       "    <tr>\n",
       "      <th>2</th>\n",
       "      <td>10003</td>\n",
       "      <td>web-search-engine</td>\n",
       "      <td>treatment</td>\n",
       "      <td>Midgard</td>\n",
       "      <td>application_date</td>\n",
       "      <td>10/1/18</td>\n",
       "    </tr>\n",
       "    <tr>\n",
       "      <th>3</th>\n",
       "      <td>10004</td>\n",
       "      <td>social-media</td>\n",
       "      <td>treatment</td>\n",
       "      <td>Asgard</td>\n",
       "      <td>application_date</td>\n",
       "      <td>10/1/18</td>\n",
       "    </tr>\n",
       "    <tr>\n",
       "      <th>4</th>\n",
       "      <td>10005</td>\n",
       "      <td>social-media</td>\n",
       "      <td>treatment</td>\n",
       "      <td>Midgard</td>\n",
       "      <td>application_date</td>\n",
       "      <td>10/1/18</td>\n",
       "    </tr>\n",
       "    <tr>\n",
       "      <th>5</th>\n",
       "      <td>10006</td>\n",
       "      <td>job-search-site</td>\n",
       "      <td>control</td>\n",
       "      <td>Asgard</td>\n",
       "      <td>application_date</td>\n",
       "      <td>10/1/18</td>\n",
       "    </tr>\n",
       "    <tr>\n",
       "      <th>6</th>\n",
       "      <td>10007</td>\n",
       "      <td>social-media</td>\n",
       "      <td>control</td>\n",
       "      <td>Midgard</td>\n",
       "      <td>application_date</td>\n",
       "      <td>10/1/18</td>\n",
       "    </tr>\n",
       "    <tr>\n",
       "      <th>7</th>\n",
       "      <td>10008</td>\n",
       "      <td>web-search-engine</td>\n",
       "      <td>control</td>\n",
       "      <td>Asgard</td>\n",
       "      <td>application_date</td>\n",
       "      <td>10/1/18</td>\n",
       "    </tr>\n",
       "    <tr>\n",
       "      <th>8</th>\n",
       "      <td>10009</td>\n",
       "      <td>social-media</td>\n",
       "      <td>control</td>\n",
       "      <td>Helheim</td>\n",
       "      <td>application_date</td>\n",
       "      <td>10/1/18</td>\n",
       "    </tr>\n",
       "    <tr>\n",
       "      <th>9</th>\n",
       "      <td>10010</td>\n",
       "      <td>job-search-site</td>\n",
       "      <td>control</td>\n",
       "      <td>Asgard</td>\n",
       "      <td>application_date</td>\n",
       "      <td>10/1/18</td>\n",
       "    </tr>\n",
       "  </tbody>\n",
       "</table>\n",
       "</div>"
      ],
      "text/plain": [
       "   applicant_id            channel      group     city             event  \\\n",
       "0         10001  web-search-engine    control   Asgard  application_date   \n",
       "1         10002       social-media    control  Midgard  application_date   \n",
       "2         10003  web-search-engine  treatment  Midgard  application_date   \n",
       "3         10004       social-media  treatment   Asgard  application_date   \n",
       "4         10005       social-media  treatment  Midgard  application_date   \n",
       "5         10006    job-search-site    control   Asgard  application_date   \n",
       "6         10007       social-media    control  Midgard  application_date   \n",
       "7         10008  web-search-engine    control   Asgard  application_date   \n",
       "8         10009       social-media    control  Helheim  application_date   \n",
       "9         10010    job-search-site    control   Asgard  application_date   \n",
       "\n",
       "  event_date  \n",
       "0    10/1/18  \n",
       "1    10/1/18  \n",
       "2    10/1/18  \n",
       "3    10/1/18  \n",
       "4    10/1/18  \n",
       "5    10/1/18  \n",
       "6    10/1/18  \n",
       "7    10/1/18  \n",
       "8    10/1/18  \n",
       "9    10/1/18  "
      ]
     },
     "execution_count": 8,
     "metadata": {},
     "output_type": "execute_result"
    }
   ],
   "source": [
    "# Print first 10 entries of applicant data\n",
    "data_raw[:10]"
   ]
  },
  {
   "cell_type": "markdown",
   "metadata": {},
   "source": [
    "### Checking size of data set and data types"
   ]
  },
  {
   "cell_type": "code",
   "execution_count": 5,
   "metadata": {},
   "outputs": [
    {
     "name": "stdout",
     "output_type": "stream",
     "text": [
      "(108328, 6)\n",
      "applicant_id     int64\n",
      "channel         object\n",
      "group           object\n",
      "city            object\n",
      "event           object\n",
      "event_date      object\n",
      "dtype: object\n"
     ]
    }
   ],
   "source": [
    "# check shape of raw data table and data type across columns\n",
    "print(data_raw.shape)\n",
    "print(data_raw.dtypes)"
   ]
  },
  {
   "cell_type": "markdown",
   "metadata": {},
   "source": [
    "### Looking at most common values, frequency of missing values"
   ]
  },
  {
   "cell_type": "code",
   "execution_count": 9,
   "metadata": {},
   "outputs": [
    {
     "data": {
      "text/html": [
       "<div>\n",
       "<style scoped>\n",
       "    .dataframe tbody tr th:only-of-type {\n",
       "        vertical-align: middle;\n",
       "    }\n",
       "\n",
       "    .dataframe tbody tr th {\n",
       "        vertical-align: top;\n",
       "    }\n",
       "\n",
       "    .dataframe thead th {\n",
       "        text-align: right;\n",
       "    }\n",
       "</style>\n",
       "<table border=\"1\" class=\"dataframe\">\n",
       "  <thead>\n",
       "    <tr style=\"text-align: right;\">\n",
       "      <th></th>\n",
       "      <th>applicant_id</th>\n",
       "      <th>channel</th>\n",
       "      <th>group</th>\n",
       "      <th>city</th>\n",
       "      <th>event</th>\n",
       "      <th>event_date</th>\n",
       "    </tr>\n",
       "  </thead>\n",
       "  <tbody>\n",
       "    <tr>\n",
       "      <th>0</th>\n",
       "      <td>17605</td>\n",
       "      <td>web-search-engine</td>\n",
       "      <td>control</td>\n",
       "      <td>Midgard</td>\n",
       "      <td>application_date</td>\n",
       "      <td>11/11/18</td>\n",
       "    </tr>\n",
       "    <tr>\n",
       "      <th>1</th>\n",
       "      <td>11111</td>\n",
       "      <td>social-media</td>\n",
       "      <td>treatment</td>\n",
       "      <td>Asgard</td>\n",
       "      <td>card_mailed_date</td>\n",
       "      <td>11/4/18</td>\n",
       "    </tr>\n",
       "    <tr>\n",
       "      <th>2</th>\n",
       "      <td>16929</td>\n",
       "      <td>shopper-referral-bonus</td>\n",
       "      <td>NaN</td>\n",
       "      <td>Alfheim</td>\n",
       "      <td>background_check_initiated_date</td>\n",
       "      <td>11/10/18</td>\n",
       "    </tr>\n",
       "    <tr>\n",
       "      <th>3</th>\n",
       "      <td>20712</td>\n",
       "      <td>job-search-site</td>\n",
       "      <td>NaN</td>\n",
       "      <td>Vanaheim</td>\n",
       "      <td>card_activation_date</td>\n",
       "      <td>11/5/18</td>\n",
       "    </tr>\n",
       "    <tr>\n",
       "      <th>4</th>\n",
       "      <td>20124</td>\n",
       "      <td>NaN</td>\n",
       "      <td>NaN</td>\n",
       "      <td>Niflheim</td>\n",
       "      <td>background_check_completed_date</td>\n",
       "      <td>11/7/18</td>\n",
       "    </tr>\n",
       "    <tr>\n",
       "      <th>5</th>\n",
       "      <td>19761</td>\n",
       "      <td>NaN</td>\n",
       "      <td>NaN</td>\n",
       "      <td>Jotunheim</td>\n",
       "      <td>orientation_completed_date</td>\n",
       "      <td>10/29/18</td>\n",
       "    </tr>\n",
       "    <tr>\n",
       "      <th>6</th>\n",
       "      <td>13566</td>\n",
       "      <td>NaN</td>\n",
       "      <td>NaN</td>\n",
       "      <td>Helheim</td>\n",
       "      <td>first_batch_completed_date</td>\n",
       "      <td>11/8/18</td>\n",
       "    </tr>\n",
       "    <tr>\n",
       "      <th>7</th>\n",
       "      <td>13187</td>\n",
       "      <td>NaN</td>\n",
       "      <td>NaN</td>\n",
       "      <td>Muspelheim</td>\n",
       "      <td>NaN</td>\n",
       "      <td>11/3/18</td>\n",
       "    </tr>\n",
       "    <tr>\n",
       "      <th>8</th>\n",
       "      <td>25481</td>\n",
       "      <td>NaN</td>\n",
       "      <td>NaN</td>\n",
       "      <td>Svartalfheim</td>\n",
       "      <td>NaN</td>\n",
       "      <td>11/1/18</td>\n",
       "    </tr>\n",
       "    <tr>\n",
       "      <th>9</th>\n",
       "      <td>25820</td>\n",
       "      <td>NaN</td>\n",
       "      <td>NaN</td>\n",
       "      <td>NaN</td>\n",
       "      <td>NaN</td>\n",
       "      <td>10/28/18</td>\n",
       "    </tr>\n",
       "  </tbody>\n",
       "</table>\n",
       "</div>"
      ],
      "text/plain": [
       "   applicant_id                 channel      group          city  \\\n",
       "0         17605       web-search-engine    control       Midgard   \n",
       "1         11111            social-media  treatment        Asgard   \n",
       "2         16929  shopper-referral-bonus        NaN       Alfheim   \n",
       "3         20712         job-search-site        NaN      Vanaheim   \n",
       "4         20124                     NaN        NaN      Niflheim   \n",
       "5         19761                     NaN        NaN     Jotunheim   \n",
       "6         13566                     NaN        NaN       Helheim   \n",
       "7         13187                     NaN        NaN    Muspelheim   \n",
       "8         25481                     NaN        NaN  Svartalfheim   \n",
       "9         25820                     NaN        NaN           NaN   \n",
       "\n",
       "                             event event_date  \n",
       "0                 application_date   11/11/18  \n",
       "1                 card_mailed_date    11/4/18  \n",
       "2  background_check_initiated_date   11/10/18  \n",
       "3             card_activation_date    11/5/18  \n",
       "4  background_check_completed_date    11/7/18  \n",
       "5       orientation_completed_date   10/29/18  \n",
       "6       first_batch_completed_date    11/8/18  \n",
       "7                              NaN    11/3/18  \n",
       "8                              NaN    11/1/18  \n",
       "9                              NaN   10/28/18  "
      ]
     },
     "execution_count": 9,
     "metadata": {},
     "output_type": "execute_result"
    }
   ],
   "source": [
    "# get most common values\n",
    "values = pd.DataFrame()\n",
    "for column in data_raw:\n",
    "    value_counts = data_raw[column].value_counts() \n",
    "    values[str(column)] = pd.Series(value_counts.index[:10])\n",
    "values"
   ]
  },
  {
   "cell_type": "code",
   "execution_count": 10,
   "metadata": {
    "scrolled": true
   },
   "outputs": [
    {
     "data": {
      "text/html": [
       "<div>\n",
       "<style scoped>\n",
       "    .dataframe tbody tr th:only-of-type {\n",
       "        vertical-align: middle;\n",
       "    }\n",
       "\n",
       "    .dataframe tbody tr th {\n",
       "        vertical-align: top;\n",
       "    }\n",
       "\n",
       "    .dataframe thead th {\n",
       "        text-align: right;\n",
       "    }\n",
       "</style>\n",
       "<table border=\"1\" class=\"dataframe\">\n",
       "  <thead>\n",
       "    <tr style=\"text-align: right;\">\n",
       "      <th></th>\n",
       "      <th>applicant_id</th>\n",
       "      <th>channel</th>\n",
       "      <th>group</th>\n",
       "      <th>city</th>\n",
       "      <th>event</th>\n",
       "      <th>event_date</th>\n",
       "    </tr>\n",
       "  </thead>\n",
       "  <tbody>\n",
       "    <tr>\n",
       "      <th>0</th>\n",
       "      <td>7</td>\n",
       "      <td>41632.0</td>\n",
       "      <td>68750.0</td>\n",
       "      <td>49648.0</td>\n",
       "      <td>21698.0</td>\n",
       "      <td>3625</td>\n",
       "    </tr>\n",
       "    <tr>\n",
       "      <th>1</th>\n",
       "      <td>7</td>\n",
       "      <td>29820.0</td>\n",
       "      <td>39578.0</td>\n",
       "      <td>34420.0</td>\n",
       "      <td>21337.0</td>\n",
       "      <td>3542</td>\n",
       "    </tr>\n",
       "    <tr>\n",
       "      <th>2</th>\n",
       "      <td>7</td>\n",
       "      <td>19614.0</td>\n",
       "      <td>NaN</td>\n",
       "      <td>9236.0</td>\n",
       "      <td>18033.0</td>\n",
       "      <td>3457</td>\n",
       "    </tr>\n",
       "    <tr>\n",
       "      <th>3</th>\n",
       "      <td>7</td>\n",
       "      <td>17262.0</td>\n",
       "      <td>NaN</td>\n",
       "      <td>7084.0</td>\n",
       "      <td>16725.0</td>\n",
       "      <td>3387</td>\n",
       "    </tr>\n",
       "    <tr>\n",
       "      <th>4</th>\n",
       "      <td>7</td>\n",
       "      <td>NaN</td>\n",
       "      <td>NaN</td>\n",
       "      <td>4090.0</td>\n",
       "      <td>15840.0</td>\n",
       "      <td>3347</td>\n",
       "    </tr>\n",
       "    <tr>\n",
       "      <th>5</th>\n",
       "      <td>7</td>\n",
       "      <td>NaN</td>\n",
       "      <td>NaN</td>\n",
       "      <td>1565.0</td>\n",
       "      <td>9351.0</td>\n",
       "      <td>3341</td>\n",
       "    </tr>\n",
       "    <tr>\n",
       "      <th>6</th>\n",
       "      <td>7</td>\n",
       "      <td>NaN</td>\n",
       "      <td>NaN</td>\n",
       "      <td>797.0</td>\n",
       "      <td>5344.0</td>\n",
       "      <td>3335</td>\n",
       "    </tr>\n",
       "    <tr>\n",
       "      <th>7</th>\n",
       "      <td>7</td>\n",
       "      <td>NaN</td>\n",
       "      <td>NaN</td>\n",
       "      <td>795.0</td>\n",
       "      <td>NaN</td>\n",
       "      <td>3320</td>\n",
       "    </tr>\n",
       "    <tr>\n",
       "      <th>8</th>\n",
       "      <td>7</td>\n",
       "      <td>NaN</td>\n",
       "      <td>NaN</td>\n",
       "      <td>693.0</td>\n",
       "      <td>NaN</td>\n",
       "      <td>3297</td>\n",
       "    </tr>\n",
       "    <tr>\n",
       "      <th>9</th>\n",
       "      <td>7</td>\n",
       "      <td>NaN</td>\n",
       "      <td>NaN</td>\n",
       "      <td>NaN</td>\n",
       "      <td>NaN</td>\n",
       "      <td>3259</td>\n",
       "    </tr>\n",
       "  </tbody>\n",
       "</table>\n",
       "</div>"
      ],
      "text/plain": [
       "   applicant_id  channel    group     city    event  event_date\n",
       "0             7  41632.0  68750.0  49648.0  21698.0        3625\n",
       "1             7  29820.0  39578.0  34420.0  21337.0        3542\n",
       "2             7  19614.0      NaN   9236.0  18033.0        3457\n",
       "3             7  17262.0      NaN   7084.0  16725.0        3387\n",
       "4             7      NaN      NaN   4090.0  15840.0        3347\n",
       "5             7      NaN      NaN   1565.0   9351.0        3341\n",
       "6             7      NaN      NaN    797.0   5344.0        3335\n",
       "7             7      NaN      NaN    795.0      NaN        3320\n",
       "8             7      NaN      NaN    693.0      NaN        3297\n",
       "9             7      NaN      NaN      NaN      NaN        3259"
      ]
     },
     "execution_count": 10,
     "metadata": {},
     "output_type": "execute_result"
    }
   ],
   "source": [
    "# for those most common values, get corresponding counts\n",
    "counts = pd.DataFrame()\n",
    "for column in data_raw:\n",
    "    value_counts = data_raw[column].value_counts()\n",
    "    counts[str(column)] = pd.Series(value_counts.values[:10])\n",
    "counts"
   ]
  },
  {
   "cell_type": "markdown",
   "metadata": {},
   "source": [
    "### Checking applicant data for duplicate entries"
   ]
  },
  {
   "cell_type": "code",
   "execution_count": 12,
   "metadata": {
    "scrolled": true
   },
   "outputs": [
    {
     "data": {
      "text/plain": [
       "{'applicant_id': 0.0,\n",
       " 'channel': 0.0,\n",
       " 'group': 0.0,\n",
       " 'city': 0.0,\n",
       " 'event': 0.0,\n",
       " 'event_date': 0.0}"
      ]
     },
     "execution_count": 12,
     "metadata": {},
     "output_type": "execute_result"
    }
   ],
   "source": [
    "# check number of missing values across columns \n",
    "columns = list(data_raw.columns)\n",
    "percent_missing = [round(data_raw[column].isna().mean()*100,2) for column in columns]\n",
    "missing_dict = dict(zip(columns, percent_missing))\n",
    "missing_dict"
   ]
  },
  {
   "cell_type": "code",
   "execution_count": 17,
   "metadata": {},
   "outputs": [
    {
     "name": "stdout",
     "output_type": "stream",
     "text": [
      "Duplicate fraction is: 0.0%\n"
     ]
    }
   ],
   "source": [
    "# check for duplicate entries\n",
    "dups = data_raw[data_raw.duplicated(keep='first')]\n",
    "print('Duplicate fraction is: ' + str(100*round(len(dups)/len(data_raw),3)) + '%')"
   ]
  },
  {
   "cell_type": "markdown",
   "metadata": {},
   "source": [
    "## Exploratory Data Analysis"
   ]
  },
  {
   "cell_type": "markdown",
   "metadata": {},
   "source": [
    "**Overview**\n",
    "\n",
    "3.1. Feature bar graphs\n",
    " - Most prospective shoppers are referred through web search engine\n",
    " - A/B testing: control/treatment split is approximately 2/3 to 1/3\n",
    " - Vast majority of prospective shoppers are coming from 2 cities - Asgard and Midgard\n",
    " - *First batch completed* event is least frequently observed\n",
    "  - This is the target for improvement\n",
    "  - If last checkpoint in sequence, may always be least frequently observed"
   ]
  },
  {
   "cell_type": "markdown",
   "metadata": {},
   "source": [
    "### Feature bar graphs"
   ]
  },
  {
   "cell_type": "code",
   "execution_count": 39,
   "metadata": {},
   "outputs": [
    {
     "data": {
      "image/png": "[encoded data removed]",
      "text/plain": [
       "<Figure size 1152x432 with 4 Axes>"
      ]
     },
     "metadata": {
      "needs_background": "light"
     },
     "output_type": "display_data"
    }
   ],
   "source": [
    "# Plot abundance of categorical features\n",
    "\n",
    "data_categorical = data_raw.drop(columns=['applicant_id','event_date'])\n",
    "\n",
    "f, axes = plt.subplots(1, 4, figsize=(16,6))\n",
    "for i, ax in enumerate(axes.flatten()):\n",
    "\n",
    "    # get feature data\n",
    "    data = data_categorical.iloc[:, i]\n",
    "    \n",
    "    # create plot\n",
    "    sns.countplot(data, ax=ax)\n",
    "    ax.tick_params(labelrotation=45)\n",
    "    plt.xlabel(data_categorical.columns[i], ha='right') # x-label alignment not working for some reason\n",
    "\n",
    "plt.tight_layout()"
   ]
  },
  {
   "cell_type": "markdown",
   "metadata": {},
   "source": [
    "## Data Wrangling"
   ]
  },
  {
   "cell_type": "markdown",
   "metadata": {},
   "source": [
    "**Overview**\n",
    "\n",
    "4.1. Merging relevant information\n",
    " - Created tables for application, background check initiation, and conversion dates for each shopper\n",
    " - Merged these tables on shopper ID\n",
    " - Obtained onboarding funnel for prospective shoppers\n",
    " - NaNs represent shopper dropped out at that stage\n",
    " \n",
    "4.2 Feature engineering\n",
    " - Created new columns for time interval between critical steps\n",
    " - NaNs here also represent shopper dropped out during that next step\n",
    " \n",
    "4.3 Separation into A/B groups\n",
    " - Control (A) and treatment (B) groups split into 2 tables\n",
    " - Difference in time interval between signup and background check initiation plotted \n",
    "  - Control group takes at least 2 days for background check initiation (can take more than 1 week)\n",
    "  - Test group initiates background check on day zero (immediately upon signup)"
   ]
  },
  {
   "cell_type": "markdown",
   "metadata": {},
   "source": [
    "### Compile application, background, and conversion dates for each prospective shopper"
   ]
  },
  {
   "cell_type": "code",
   "execution_count": 81,
   "metadata": {},
   "outputs": [],
   "source": [
    "# For each shopper, get application date and background check initiated date\n",
    "application_dates = data_raw[data_raw['event'] == 'application_date']\n",
    "background_dates = data_raw[data_raw['event'] == 'background_check_initiated_date']\n",
    "conversion_dates = data_raw[data_raw['event'] == 'first_batch_completed_date']"
   ]
  },
  {
   "cell_type": "code",
   "execution_count": 85,
   "metadata": {},
   "outputs": [],
   "source": [
    "# merge application, background, and conversion dates into one table\n",
    "shopper_funnel_raw = application_dates.merge(background_dates, on='applicant_id', how='left').merge(conversion_dates, on='applicant_id', how='left')\n",
    "shopper_funnel = shopper_funnel_raw.drop(columns=['channel_y','group_y','city_y','channel','group','city'])\n",
    "shopper_funnel = shopper_funnel.rename(columns={'applicant_id': 'ID', \n",
    "                              'channel_x': 'Channel',\n",
    "                              'group_x': 'Group',\n",
    "                              'city_x': 'City',\n",
    "                              'event_date_x': 'App_date',\n",
    "                              'event_date_y': 'Back_date',\n",
    "                              'event_date': 'Conv_date'}).drop(columns=['event_x','event_y','event'])"
   ]
  },
  {
   "cell_type": "code",
   "execution_count": 87,
   "metadata": {},
   "outputs": [
    {
     "data": {
      "text/html": [
       "<div>\n",
       "<style scoped>\n",
       "    .dataframe tbody tr th:only-of-type {\n",
       "        vertical-align: middle;\n",
       "    }\n",
       "\n",
       "    .dataframe tbody tr th {\n",
       "        vertical-align: top;\n",
       "    }\n",
       "\n",
       "    .dataframe thead th {\n",
       "        text-align: right;\n",
       "    }\n",
       "</style>\n",
       "<table border=\"1\" class=\"dataframe\">\n",
       "  <thead>\n",
       "    <tr style=\"text-align: right;\">\n",
       "      <th></th>\n",
       "      <th>ID</th>\n",
       "      <th>Channel</th>\n",
       "      <th>Group</th>\n",
       "      <th>City</th>\n",
       "      <th>App_date</th>\n",
       "      <th>Back_date</th>\n",
       "      <th>Conv_date</th>\n",
       "    </tr>\n",
       "  </thead>\n",
       "  <tbody>\n",
       "    <tr>\n",
       "      <th>0</th>\n",
       "      <td>10001</td>\n",
       "      <td>web-search-engine</td>\n",
       "      <td>control</td>\n",
       "      <td>Asgard</td>\n",
       "      <td>10/1/18</td>\n",
       "      <td>NaN</td>\n",
       "      <td>NaN</td>\n",
       "    </tr>\n",
       "    <tr>\n",
       "      <th>1</th>\n",
       "      <td>10002</td>\n",
       "      <td>social-media</td>\n",
       "      <td>control</td>\n",
       "      <td>Midgard</td>\n",
       "      <td>10/1/18</td>\n",
       "      <td>10/12/18</td>\n",
       "      <td>10/20/18</td>\n",
       "    </tr>\n",
       "    <tr>\n",
       "      <th>2</th>\n",
       "      <td>10003</td>\n",
       "      <td>web-search-engine</td>\n",
       "      <td>treatment</td>\n",
       "      <td>Midgard</td>\n",
       "      <td>10/1/18</td>\n",
       "      <td>10/1/18</td>\n",
       "      <td>NaN</td>\n",
       "    </tr>\n",
       "    <tr>\n",
       "      <th>3</th>\n",
       "      <td>10004</td>\n",
       "      <td>social-media</td>\n",
       "      <td>treatment</td>\n",
       "      <td>Asgard</td>\n",
       "      <td>10/1/18</td>\n",
       "      <td>10/1/18</td>\n",
       "      <td>10/6/18</td>\n",
       "    </tr>\n",
       "    <tr>\n",
       "      <th>4</th>\n",
       "      <td>10005</td>\n",
       "      <td>social-media</td>\n",
       "      <td>treatment</td>\n",
       "      <td>Midgard</td>\n",
       "      <td>10/1/18</td>\n",
       "      <td>10/1/18</td>\n",
       "      <td>10/8/18</td>\n",
       "    </tr>\n",
       "    <tr>\n",
       "      <th>5</th>\n",
       "      <td>10006</td>\n",
       "      <td>job-search-site</td>\n",
       "      <td>control</td>\n",
       "      <td>Asgard</td>\n",
       "      <td>10/1/18</td>\n",
       "      <td>NaN</td>\n",
       "      <td>NaN</td>\n",
       "    </tr>\n",
       "    <tr>\n",
       "      <th>6</th>\n",
       "      <td>10007</td>\n",
       "      <td>social-media</td>\n",
       "      <td>control</td>\n",
       "      <td>Midgard</td>\n",
       "      <td>10/1/18</td>\n",
       "      <td>10/7/18</td>\n",
       "      <td>10/14/18</td>\n",
       "    </tr>\n",
       "    <tr>\n",
       "      <th>7</th>\n",
       "      <td>10008</td>\n",
       "      <td>web-search-engine</td>\n",
       "      <td>control</td>\n",
       "      <td>Asgard</td>\n",
       "      <td>10/1/18</td>\n",
       "      <td>NaN</td>\n",
       "      <td>NaN</td>\n",
       "    </tr>\n",
       "    <tr>\n",
       "      <th>8</th>\n",
       "      <td>10009</td>\n",
       "      <td>social-media</td>\n",
       "      <td>control</td>\n",
       "      <td>Helheim</td>\n",
       "      <td>10/1/18</td>\n",
       "      <td>10/4/18</td>\n",
       "      <td>10/9/18</td>\n",
       "    </tr>\n",
       "    <tr>\n",
       "      <th>9</th>\n",
       "      <td>10010</td>\n",
       "      <td>job-search-site</td>\n",
       "      <td>control</td>\n",
       "      <td>Asgard</td>\n",
       "      <td>10/1/18</td>\n",
       "      <td>10/5/18</td>\n",
       "      <td>10/10/18</td>\n",
       "    </tr>\n",
       "  </tbody>\n",
       "</table>\n",
       "</div>"
      ],
      "text/plain": [
       "      ID            Channel      Group     City App_date Back_date Conv_date\n",
       "0  10001  web-search-engine    control   Asgard  10/1/18       NaN       NaN\n",
       "1  10002       social-media    control  Midgard  10/1/18  10/12/18  10/20/18\n",
       "2  10003  web-search-engine  treatment  Midgard  10/1/18   10/1/18       NaN\n",
       "3  10004       social-media  treatment   Asgard  10/1/18   10/1/18   10/6/18\n",
       "4  10005       social-media  treatment  Midgard  10/1/18   10/1/18   10/8/18\n",
       "5  10006    job-search-site    control   Asgard  10/1/18       NaN       NaN\n",
       "6  10007       social-media    control  Midgard  10/1/18   10/7/18  10/14/18\n",
       "7  10008  web-search-engine    control   Asgard  10/1/18       NaN       NaN\n",
       "8  10009       social-media    control  Helheim  10/1/18   10/4/18   10/9/18\n",
       "9  10010    job-search-site    control   Asgard  10/1/18   10/5/18  10/10/18"
      ]
     },
     "execution_count": 87,
     "metadata": {},
     "output_type": "execute_result"
    }
   ],
   "source": [
    "# print first ten entries in new (merged) table to check it is desired result\n",
    "shopper_funnel[:10]"
   ]
  },
  {
   "cell_type": "markdown",
   "metadata": {},
   "source": [
    "### Engineer features: time interval between critical steps in shopper onboarding"
   ]
  },
  {
   "cell_type": "code",
   "execution_count": 88,
   "metadata": {},
   "outputs": [],
   "source": [
    "# convert date columns to datetime format\n",
    "shopper_funnel['App_date'] = pd.to_datetime(shopper_funnel['App_date'], infer_datetime_format=True)\n",
    "shopper_funnel['Back_date'] = pd.to_datetime(shopper_funnel['Back_date'], infer_datetime_format=True)\n",
    "shopper_funnel['Conv_date'] = pd.to_datetime(shopper_funnel['Conv_date'], infer_datetime_format=True)"
   ]
  },
  {
   "cell_type": "code",
   "execution_count": 103,
   "metadata": {},
   "outputs": [
    {
     "data": {
      "text/html": [
       "<div>\n",
       "<style scoped>\n",
       "    .dataframe tbody tr th:only-of-type {\n",
       "        vertical-align: middle;\n",
       "    }\n",
       "\n",
       "    .dataframe tbody tr th {\n",
       "        vertical-align: top;\n",
       "    }\n",
       "\n",
       "    .dataframe thead th {\n",
       "        text-align: right;\n",
       "    }\n",
       "</style>\n",
       "<table border=\"1\" class=\"dataframe\">\n",
       "  <thead>\n",
       "    <tr style=\"text-align: right;\">\n",
       "      <th></th>\n",
       "      <th>ID</th>\n",
       "      <th>Channel</th>\n",
       "      <th>Group</th>\n",
       "      <th>City</th>\n",
       "      <th>App_date</th>\n",
       "      <th>Back_date</th>\n",
       "      <th>Conv_date</th>\n",
       "      <th>Time_app_to_back</th>\n",
       "      <th>Time_back_to_conv</th>\n",
       "      <th>Time_to_conv</th>\n",
       "    </tr>\n",
       "  </thead>\n",
       "  <tbody>\n",
       "    <tr>\n",
       "      <th>0</th>\n",
       "      <td>10001</td>\n",
       "      <td>web-search-engine</td>\n",
       "      <td>control</td>\n",
       "      <td>Asgard</td>\n",
       "      <td>2018-10-01</td>\n",
       "      <td>NaT</td>\n",
       "      <td>NaT</td>\n",
       "      <td>NaN</td>\n",
       "      <td>NaN</td>\n",
       "      <td>NaN</td>\n",
       "    </tr>\n",
       "    <tr>\n",
       "      <th>1</th>\n",
       "      <td>10002</td>\n",
       "      <td>social-media</td>\n",
       "      <td>control</td>\n",
       "      <td>Midgard</td>\n",
       "      <td>2018-10-01</td>\n",
       "      <td>2018-10-12</td>\n",
       "      <td>2018-10-20</td>\n",
       "      <td>11.0</td>\n",
       "      <td>8.0</td>\n",
       "      <td>19.0</td>\n",
       "    </tr>\n",
       "    <tr>\n",
       "      <th>2</th>\n",
       "      <td>10003</td>\n",
       "      <td>web-search-engine</td>\n",
       "      <td>treatment</td>\n",
       "      <td>Midgard</td>\n",
       "      <td>2018-10-01</td>\n",
       "      <td>2018-10-01</td>\n",
       "      <td>NaT</td>\n",
       "      <td>0.0</td>\n",
       "      <td>NaN</td>\n",
       "      <td>NaN</td>\n",
       "    </tr>\n",
       "    <tr>\n",
       "      <th>3</th>\n",
       "      <td>10004</td>\n",
       "      <td>social-media</td>\n",
       "      <td>treatment</td>\n",
       "      <td>Asgard</td>\n",
       "      <td>2018-10-01</td>\n",
       "      <td>2018-10-01</td>\n",
       "      <td>2018-10-06</td>\n",
       "      <td>0.0</td>\n",
       "      <td>5.0</td>\n",
       "      <td>5.0</td>\n",
       "    </tr>\n",
       "    <tr>\n",
       "      <th>4</th>\n",
       "      <td>10005</td>\n",
       "      <td>social-media</td>\n",
       "      <td>treatment</td>\n",
       "      <td>Midgard</td>\n",
       "      <td>2018-10-01</td>\n",
       "      <td>2018-10-01</td>\n",
       "      <td>2018-10-08</td>\n",
       "      <td>0.0</td>\n",
       "      <td>7.0</td>\n",
       "      <td>7.0</td>\n",
       "    </tr>\n",
       "    <tr>\n",
       "      <th>5</th>\n",
       "      <td>10006</td>\n",
       "      <td>job-search-site</td>\n",
       "      <td>control</td>\n",
       "      <td>Asgard</td>\n",
       "      <td>2018-10-01</td>\n",
       "      <td>NaT</td>\n",
       "      <td>NaT</td>\n",
       "      <td>NaN</td>\n",
       "      <td>NaN</td>\n",
       "      <td>NaN</td>\n",
       "    </tr>\n",
       "    <tr>\n",
       "      <th>6</th>\n",
       "      <td>10007</td>\n",
       "      <td>social-media</td>\n",
       "      <td>control</td>\n",
       "      <td>Midgard</td>\n",
       "      <td>2018-10-01</td>\n",
       "      <td>2018-10-07</td>\n",
       "      <td>2018-10-14</td>\n",
       "      <td>6.0</td>\n",
       "      <td>7.0</td>\n",
       "      <td>13.0</td>\n",
       "    </tr>\n",
       "    <tr>\n",
       "      <th>7</th>\n",
       "      <td>10008</td>\n",
       "      <td>web-search-engine</td>\n",
       "      <td>control</td>\n",
       "      <td>Asgard</td>\n",
       "      <td>2018-10-01</td>\n",
       "      <td>NaT</td>\n",
       "      <td>NaT</td>\n",
       "      <td>NaN</td>\n",
       "      <td>NaN</td>\n",
       "      <td>NaN</td>\n",
       "    </tr>\n",
       "    <tr>\n",
       "      <th>8</th>\n",
       "      <td>10009</td>\n",
       "      <td>social-media</td>\n",
       "      <td>control</td>\n",
       "      <td>Helheim</td>\n",
       "      <td>2018-10-01</td>\n",
       "      <td>2018-10-04</td>\n",
       "      <td>2018-10-09</td>\n",
       "      <td>3.0</td>\n",
       "      <td>5.0</td>\n",
       "      <td>8.0</td>\n",
       "    </tr>\n",
       "    <tr>\n",
       "      <th>9</th>\n",
       "      <td>10010</td>\n",
       "      <td>job-search-site</td>\n",
       "      <td>control</td>\n",
       "      <td>Asgard</td>\n",
       "      <td>2018-10-01</td>\n",
       "      <td>2018-10-05</td>\n",
       "      <td>2018-10-10</td>\n",
       "      <td>4.0</td>\n",
       "      <td>5.0</td>\n",
       "      <td>9.0</td>\n",
       "    </tr>\n",
       "  </tbody>\n",
       "</table>\n",
       "</div>"
      ],
      "text/plain": [
       "      ID            Channel      Group     City   App_date  Back_date  \\\n",
       "0  10001  web-search-engine    control   Asgard 2018-10-01        NaT   \n",
       "1  10002       social-media    control  Midgard 2018-10-01 2018-10-12   \n",
       "2  10003  web-search-engine  treatment  Midgard 2018-10-01 2018-10-01   \n",
       "3  10004       social-media  treatment   Asgard 2018-10-01 2018-10-01   \n",
       "4  10005       social-media  treatment  Midgard 2018-10-01 2018-10-01   \n",
       "5  10006    job-search-site    control   Asgard 2018-10-01        NaT   \n",
       "6  10007       social-media    control  Midgard 2018-10-01 2018-10-07   \n",
       "7  10008  web-search-engine    control   Asgard 2018-10-01        NaT   \n",
       "8  10009       social-media    control  Helheim 2018-10-01 2018-10-04   \n",
       "9  10010    job-search-site    control   Asgard 2018-10-01 2018-10-05   \n",
       "\n",
       "   Conv_date  Time_app_to_back  Time_back_to_conv  Time_to_conv  \n",
       "0        NaT               NaN                NaN           NaN  \n",
       "1 2018-10-20              11.0                8.0          19.0  \n",
       "2        NaT               0.0                NaN           NaN  \n",
       "3 2018-10-06               0.0                5.0           5.0  \n",
       "4 2018-10-08               0.0                7.0           7.0  \n",
       "5        NaT               NaN                NaN           NaN  \n",
       "6 2018-10-14               6.0                7.0          13.0  \n",
       "7        NaT               NaN                NaN           NaN  \n",
       "8 2018-10-09               3.0                5.0           8.0  \n",
       "9 2018-10-10               4.0                5.0           9.0  "
      ]
     },
     "execution_count": 103,
     "metadata": {},
     "output_type": "execute_result"
    }
   ],
   "source": [
    "# add columns to table displaying time interval (in days) between critical shopper onboarding steps\n",
    "shopper_funnel['Time_app_to_back'] = (shopper_funnel['Back_date'] - shopper_funnel['App_date']) / np.timedelta64(1, 'D')\n",
    "shopper_funnel['Time_back_to_conv'] = (shopper_funnel['Conv_date'] - shopper_funnel['Back_date']) / np.timedelta64(1, 'D')\n",
    "shopper_funnel['Time_to_conv'] = (shopper_funnel['Conv_date'] - shopper_funnel['App_date']) / np.timedelta64(1, 'D')\n",
    "shopper_funnel[:10]"
   ]
  },
  {
   "cell_type": "markdown",
   "metadata": {},
   "source": [
    "### Plot relevant time intervals for control, test groups"
   ]
  },
  {
   "cell_type": "code",
   "execution_count": null,
   "metadata": {
    "scrolled": true
   },
   "outputs": [],
   "source": [
    "# separate into control and test groups\n",
    "shopper_funnel_control = shopper_funnel[shopper_funnel['Group'] == 'control']\n",
    "shopper_funnel_treatment = shopper_funnel[shopper_funnel['Group'] == 'treatment']\n",
    "shopper_funnel_control"
   ]
  },
  {
   "cell_type": "code",
   "execution_count": null,
   "metadata": {},
   "outputs": [],
   "source": [
    "# drop entries with NaNs in Time_app_to_back column\n",
    "shopper_funnel_control_no_nans = shopper_funnel_control.dropna(subset=['Time_app_to_back'])\n",
    "shopper_funnel_treatment_no_nans = shopper_funnel_treatment.dropna(subset=['Time_app_to_back'])\n",
    "shopper_funnel_treatment_no_nans"
   ]
  },
  {
   "cell_type": "code",
   "execution_count": 196,
   "metadata": {},
   "outputs": [
    {
     "data": {
      "image/png": "[encoded data removed]",
      "text/plain": [
       "<Figure size 432x432 with 1 Axes>"
      ]
     },
     "metadata": {
      "needs_background": "light"
     },
     "output_type": "display_data"
    }
   ],
   "source": [
    "# plot conversion differences versus total pages visited\n",
    "fig, ax1 = plt.subplots(1, 1, figsize = (6,6))\n",
    "\n",
    "# time interval: application and background check\n",
    "sns.kdeplot(shopper_funnel_control_no_nans['Time_app_to_back'], label='Control', ax=ax1, shade=True)\n",
    "sns.distplot(shopper_funnel_treatment_no_nans['Time_app_to_back'], label='Treatment', ax=ax1, kde_kws={'bw':.1})\n",
    "ax1.legend(fontsize=18)\n",
    "ax1.set_ylim([0, 0.45])\n",
    "ax1.set_xlim([-2, 15])\n",
    "ax1.get_yaxis().set_visible(False)\n",
    "ax1.set_xlabel('Time between application and \\n background check (days)', fontsize=18)\n",
    "ax1.tick_params(axis='both', which='major', labelsize=14)\n",
    "\n",
    "plt.tight_layout()\n",
    "plt.show()"
   ]
  },
  {
   "cell_type": "markdown",
   "metadata": {},
   "source": [
    "## A/B testing"
   ]
  },
  {
   "cell_type": "markdown",
   "metadata": {},
   "source": [
    "**Overview**\n",
    "\n",
    "- Outline\n",
    "  - Change to be tested: moving background check initiation to be immediate upon signup, rather than self-paced by shopper \n",
    "  - Success metric: Conversion rate (first batch completed) \n",
    "  - Null hypothesis: requiring immediate initiation of background check step will not meaningfully increase fraction of shopper signups that ultimately go on to complete a first batch\n",
    "    \n",
    "- Execution\n",
    "  - Minimum desired effect: unknown, will use 2% lift as assumed practical significance level\n",
    "  - Statistical significance: unknown, will use 95% confidence interval\n",
    "    \n",
    "- Results\n",
    "  - Success rate: fraction of prospective shoppers who complete their first batch of grocery deliveries\n",
    "  - **Control success rate is 19.8%** -- about 1 in 5, given *no requirement to initiate background check* upon beginning shopper application\n",
    "  - **Treatment success rate is 34.3%** -- about 1 in 3, given *requirement to immediately initiate background check* step upon applying\n",
    "  - Observed effect is **14.5% increase in success rate with this change**, with **95% confidence interval spanning 12.1% to 16.9% lift**\n",
    "- Conclusion\n",
    "  - Reject null hypothesis - required immediate initiation of background check *does* meaningfully increase shopper conversion \n",
    "  - Recommendation: **launch** this feature"
   ]
  },
  {
   "cell_type": "markdown",
   "metadata": {},
   "source": [
    "### Individual success rates"
   ]
  },
  {
   "cell_type": "code",
   "execution_count": 185,
   "metadata": {},
   "outputs": [],
   "source": [
    "# Get conversion rate (first batch completed) data for control and treatment groups\n",
    "n_control = len(shopper_funnel_control)\n",
    "n_treatment = len(shopper_funnel_treatment)\n",
    "\n",
    "control_successes = n_control - shopper_funnel_control['Time_to_conv'].isnull().sum()\n",
    "treatment_successes = n_treatment - shopper_funnel_treatment['Time_to_conv'].isnull().sum()\n",
    "\n",
    "control_success_rate = control_successes/n_control\n",
    "treatment_success_rate = treatment_successes/n_treatment"
   ]
  },
  {
   "cell_type": "code",
   "execution_count": 218,
   "metadata": {},
   "outputs": [
    {
     "name": "stdout",
     "output_type": "stream",
     "text": [
      "Control sample size = 14501\n",
      "Treatment sample size = 7197\n",
      "Control success rate = 0.198\n",
      "Treatment success rate = 0.343\n"
     ]
    }
   ],
   "source": [
    "# Get control and treatment group n-sizes, success rates\n",
    "print('Control sample size = ' + str(n_control))\n",
    "print('Treatment sample size = ' + str(n_treatment))\n",
    "print('Control success rate = ' + str(round(control_success_rate,3)))\n",
    "print('Treatment success rate = ' + str(round(treatment_success_rate,3)))"
   ]
  },
  {
   "cell_type": "markdown",
   "metadata": {},
   "source": [
    "### Pooled success rate, standard error"
   ]
  },
  {
   "cell_type": "code",
   "execution_count": 217,
   "metadata": {},
   "outputs": [
    {
     "name": "stdout",
     "output_type": "stream",
     "text": [
      "Pooled success rate = 0.246\n",
      "Pooled standard error = 0.01232\n"
     ]
    }
   ],
   "source": [
    "# Calculate pooled success rate, pooled standard error\n",
    "\n",
    "# P_pool = (Xcont + Xtest) / (Ncont + Ntest)\n",
    "P_pool = (control_successes + treatment_successes) / (len(shopper_funnel_control) + len(shopper_funnel_treatment))\n",
    "\n",
    "# SE_pool = (P_pool * (1 - P_pool)*(1/Ncont + 1/Ntest))^(1/2)\n",
    "SE_pool = ( P_pool * (1 - P_pool) * (1/n_control) + (1/n_treatment) )  ** 0.5\n",
    "print('Pooled success rate = ' + str(round(P_pool,3)))\n",
    "print('Pooled standard error = ' + str(round(SE_pool,5)))"
   ]
  },
  {
   "cell_type": "markdown",
   "metadata": {},
   "source": [
    "### Observed effect and 95% confidence interval"
   ]
  },
  {
   "cell_type": "code",
   "execution_count": 219,
   "metadata": {},
   "outputs": [
    {
     "name": "stdout",
     "output_type": "stream",
     "text": [
      "Measured difference between treatment and control = 0.145\n"
     ]
    }
   ],
   "source": [
    "# Calculate empirical difference in success rate\n",
    "diff_treatment_control = treatment_success_rate - control_success_rate\n",
    "print('Measured difference between treatment and control = ' + str(round(diff_treatment_control,3)))"
   ]
  },
  {
   "cell_type": "code",
   "execution_count": 220,
   "metadata": {},
   "outputs": [
    {
     "name": "stdout",
     "output_type": "stream",
     "text": [
      "Lower bound = 0.121\n",
      "Upper bound = 0.169\n"
     ]
    }
   ],
   "source": [
    "# calculate 95% confidence interval (z-score = 1.96)\n",
    "z = 1.96\n",
    "\n",
    "# lower bound of difference = -z* * SE_pool \n",
    "diff_lower_bound = diff_treatment_control - z*SE_pool\n",
    "\n",
    "# upper bound of difference = z* * SE_pool\n",
    "diff_upper_bound = diff_treatment_control + z*SE_pool\n",
    "\n",
    "print('Lower bound = ' + str(round(diff_lower_bound,3)))\n",
    "print('Upper bound = ' + str(round(diff_upper_bound,3)))"
   ]
  },
  {
   "cell_type": "markdown",
   "metadata": {},
   "source": [
    "## Cost analysis"
   ]
  },
  {
   "cell_type": "markdown",
   "metadata": {},
   "source": [
    "**Outline**\n",
    "\n",
    "- Questions\n",
    " - Is this change cost effective? \n",
    " - How to think about ROI?\n",
    " - What if background checks were more expensive?\n",
    "\n",
    "6.1 Gain vs. loss - basic logic <br>\n",
    "6.2 Calculations"
   ]
  },
  {
   "cell_type": "markdown",
   "metadata": {},
   "source": [
    "### Gain from increased shopper conversion"
   ]
  },
  {
   "cell_type": "markdown",
   "metadata": {},
   "source": [
    "- Basic logic\n",
    "    - Must compare: \n",
    "        - **Gain**: value of increased shopper conversion rate\n",
    "          - More shoppers leads to increased delivery capacity\n",
    "          - *Fewer delivery windows must be turned off* during demand spikes\n",
    "          - Increased revenue during demand spikes\n",
    "          - May be expressed in terms of average lifetime value (LTV) of shopper to Instacart\n",
    "          - Probably diminishing returns (LTV -> 0) as each additional shopper lessens the (diminishing) supply-demand gap\n",
    "        - **Loss**: waste from potential increase in non-converting background checks\n",
    "          - Background checks done on prospective shoppers who do not complete first batch delivery\n",
    "          - A loss would correspond to increase in number of non-converting background checks from new policy"
   ]
  },
  {
   "cell_type": "markdown",
   "metadata": {},
   "source": [
    "###  Background check waste: control vs. treatment"
   ]
  },
  {
   "cell_type": "code",
   "execution_count": 227,
   "metadata": {},
   "outputs": [
    {
     "name": "stdout",
     "output_type": "stream",
     "text": [
      "Number of background checks in control group: 10836\n",
      "Number of conversions in control group: 2873\n",
      "Conversion fraction in control group: 0.265\n",
      "Background check waste in control group: 0.735\n",
      "\n",
      "\n",
      "Number of background checks in treatment group: 7197\n",
      "Number of conversions in treatment group: 2471\n",
      "Conversion fraction in treatment group: 0.343\n",
      "Background check waste in treatment group: 0.657\n"
     ]
    }
   ],
   "source": [
    "# Calculate number of prospective shoppers who complete background check initiation step\n",
    "Back_number_control = len(shopper_funnel_control[shopper_funnel_control['Back_date'].notna()])\n",
    "Back_number_treatment = len(shopper_funnel_treatment[shopper_funnel_treatment['Back_date'].notna()])\n",
    "\n",
    "# Calculate number of prospective shoppers who complete first batch delivery\n",
    "Conv_number_control = len(shopper_funnel_control[shopper_funnel_control['Conv_date'].notna()])\n",
    "Conv_number_treatment = len(shopper_funnel_treatment[shopper_funnel_treatment['Conv_date'].notna()])\n",
    "\n",
    "# Print these two numbers, fraction of background checks that yield converted shoppers\n",
    "print('Number of background checks in control group: ' + str(Back_number_control))\n",
    "print('Number of conversions in control group: ' + str(Conv_number_control))\n",
    "print('Conversion fraction in control group: ' + str(round(Conv_number_control/Back_number_control,3)))\n",
    "print('Background check waste in control group: ' + str(1 - round(Conv_number_control/Back_number_control,3)))\n",
    "print('\\n')\n",
    "print('Number of background checks in treatment group: ' + str(Back_number_treatment))\n",
    "print('Number of conversions in treatment group: ' + str(Conv_number_treatment))\n",
    "print('Conversion fraction in treatment group: ' + str(round(Conv_number_treatment/Back_number_treatment,3)))\n",
    "print('Background check waste in treatment group: ' + str(1 - round(Conv_number_treatment/Back_number_treatment,3)))"
   ]
  },
  {
   "cell_type": "markdown",
   "metadata": {},
   "source": [
    "###  Cost of background check waste"
   ]
  },
  {
   "cell_type": "markdown",
   "metadata": {},
   "source": [
    "With increasing cost of background check, cost savings from higher conversion in treatment group becomes increasingly important.\n",
    "\n",
    "- $30 / background check (current price)\n",
    " - [control: 100% of current waste]\n",
    " - treatment: (0.265 conversion in control / 0.343 conversion in treatment group) = 77% of current waste \n",
    " \n",
    "<br>\n",
    "\n",
    "- $ 50 / background check\n",
    " - control: \\\\$50 / \\\\$30 = 167% of current waste\n",
    " - treatment: \\\\$50 / \\\\$30 * 77% = 129% of current waste\n",
    " \n",
    "<br>\n",
    " \n",
    "- $ 100 / background check\n",
    " - control: \\\\$100 / \\\\$30 = 333% of current waste\n",
    " - treatment: \\\\$100 / \\\\$30 * 77% = 257% of current waste "
   ]
  }
 ],
 "metadata": {
  "kernelspec": {
   "display_name": "Python 3",
   "language": "python",
   "name": "python3"
  },
  "language_info": {
   "codemirror_mode": {
    "name": "ipython",
    "version": 3
   },
   "file_extension": ".py",
   "mimetype": "text/x-python",
   "name": "python",
   "nbconvert_exporter": "python",
   "pygments_lexer": "ipython3",
   "version": "3.7.3"
  },
  "toc": {
   "base_numbering": 1,
   "nav_menu": {},
   "number_sections": true,
   "sideBar": true,
   "skip_h1_title": true,
   "title_cell": "Table of Contents",
   "title_sidebar": "Contents",
   "toc_cell": true,
   "toc_position": {
    "height": "calc(100% - 180px)",
    "left": "10px",
    "top": "150px",
    "width": "313.516px"
   },
   "toc_section_display": true,
   "toc_window_display": true
  }
 },
 "nbformat": 4,
 "nbformat_minor": 4
}
